{
 "cells": [
  {
   "cell_type": "markdown",
   "metadata": {},
   "source": [
    "# Idioms en Python\n",
    "\n",
    "[TODO: Qué son los idioms]"
   ]
  },
  {
   "cell_type": "markdown",
   "metadata": {},
   "source": [
    "## Generadores y corutinas\n",
    "\n",
    "[TODO]"
   ]
  },
  {
   "cell_type": "markdown",
   "metadata": {},
   "source": [
    "## Programación funcional\n",
    "\n",
    "[TODO]"
   ]
  },
  {
   "cell_type": "markdown",
   "metadata": {},
   "source": [
    "## Comprehension\n",
    "\n",
    "La técnica de comprehension, que se puede aplicar en Python a\n",
    "listas, son una forma sencilla de filtrar o transformar \n",
    "determinadas estructuras de datos, normalmente listas, secuencias\n",
    ", conjuntos o diccionarios. Veremos cada una de estas en las\n",
    "siguientes secciones. \n",
    "\n",
    "Lo importante sobre estas técnicas es tener en cuenta que no\n",
    "resuelven ningún problema nuevo, solo son una forma más concisa\n",
    "y elegante de resolver un problema ya conocido. Son, por tanto,\n",
    "poco más que azucar sintáctico.\n",
    "\n",
    "Lo veremos con más detalle con los ejemplos de cada tipo de compresion.\n",
    "\n",
    "### Comprensión de listas (_List comprehension_)\n",
    "\n",
    "La compresión de listas fue la primera de estas técnicas\n",
    "incorporadas a Python. Es un sistema que nos permite crear\n",
    "una lista de forma muy sencilla a partir, por ejemplo, otra lista.\n",
    "\n",
    "El uso más habitual es crear una lista en la que los elementos son\n",
    "transformaciones de los elementos de otra, o una lista que es un subconjunto\n",
    "de otra, formada por los elementos que satisfacen una determinada\n",
    "condición, o ambas cosas a la vez. Es mejor verlo con un ejemplo: supongamos\n",
    "que tenemos la lista de los numeros del 1 al 10, y queremos obtener\n",
    "otra lista con los cuadrados de cada números es decir, queremos, partiendo\n",
    "de esta lista:\n",
    "\n",
    "    [1, 2, 3, 4, 5, 6, 7, 8, 9, 10]\n",
    "\n",
    "Obtener esta otra:\n",
    "\n",
    "    [1, 4, 9, 16, 25, 36, 49, 64, 81, 100]\n",
    "\n",
    "La forma tradicional sería:"
   ]
  },
  {
   "cell_type": "code",
   "execution_count": 26,
   "metadata": {},
   "outputs": [],
   "source": [
    "numeros = [1, 2, 3, 4, 5, 6, 7, 8, 9, 10]\n",
    "\n",
    "cuadrados = []\n",
    "for n in numeros:\n",
    "    cuadrados.append(n**2)\n",
    "\n",
    "assert cuadrados == [1, 4, 9, 16, 25, 36, 49, 64, 81, 100]"
   ]
  },
  {
   "cell_type": "markdown",
   "metadata": {},
   "source": [
    "Usando comprension de listas, podemos obtener el mismo resultado \n",
    "así:"
   ]
  },
  {
   "cell_type": "code",
   "execution_count": 27,
   "metadata": {},
   "outputs": [],
   "source": [
    "numeros = [1, 2, 3, 4, 5, 6, 7, 8, 9, 10]\n",
    "\n",
    "cuadrados = [n**2 for n in numeros]\n",
    "\n",
    "assert cuadrados == [1, 4, 9, 16, 25, 36, 49, 64, 81, 100]"
   ]
  },
  {
   "cell_type": "markdown",
   "metadata": {},
   "source": [
    "Vemos que con menos código obtenemos el mismo resultado, más\n",
    "expresivo y más rápido en ejecución (las comprensiones\n",
    "se ejecutan internamente en C).\n",
    "\n",
    "Si quisieramos solo los cuadrados de los números impares, podriamos\n",
    "hacer:"
   ]
  },
  {
   "cell_type": "code",
   "execution_count": 28,
   "metadata": {},
   "outputs": [],
   "source": [
    "numeros = [1, 2, 3, 4, 5, 6, 7, 8, 9, 10]\n",
    "cuadrados = [n**2 for n in numeros if n % 2 != 0]\n",
    "assert cuadrados == [1, 9, 25, 49, 81]"
   ]
  },
  {
   "cell_type": "markdown",
   "metadata": {},
   "source": [
    "En general, la sintáxis de una comprensión de lista es de\n",
    "la siguiente manera: \n",
    "\n",
    "    [<Expresion> for <variable> in <secuencia> if <condición>]\n",
    "\n",
    "Donde la parte del condicional, el if y la condición, son\n",
    "opcionales, y la expresion normalmente se calcula en función\n",
    "de la variable. La secuencia puede ser una lista, pero hablando\n",
    "con propiedad puede ser cualquier cosa que sea una secuencia,\n",
    "como un conjunto, un diccionario, un generador, etc...\n",
    "\n",
    "**Ejercicio**: A partir de la siguiente lista de tuplas, donde\n",
    "cada tupla está compuesta por  el nombre de un personaje\n",
    "y la casa a la que pertenece, obtener una nueva lista donde\n",
    "esten solo los nombres en mayúsculas de los personajes de la \n",
    "case *Stark*:"
   ]
  },
  {
   "cell_type": "code",
   "execution_count": 29,
   "metadata": {},
   "outputs": [],
   "source": [
    "personajes = [\n",
    "    ('Jon Nieve', 'Stark'),\n",
    "    ('Tyrion Lannister', 'Lannister'),\n",
    "    ('Petyr Baelish', 'Arryn'),\n",
    "    ('Arys Oakheart', 'Oakheart'),\n",
    "    ('Jaime Lannister', 'Lannister'),\n",
    "    ('Cersei Lannister', 'Lannister'),\n",
    "    ('Eddard Stark', 'Stark'),\n",
    "    ('Casper Wylde', 'Baratheon'),\n",
    "    ]\n"
   ]
  },
  {
   "cell_type": "markdown",
   "metadata": {},
   "source": [
    "## Comprensión de conjuntos\n",
    "\n",
    "Es muy similar a la comprensión de listas, pero se usan los signos `{` y `}`"
   ]
  },
  {
   "cell_type": "code",
   "execution_count": 2,
   "metadata": {},
   "outputs": [
    {
     "data": {
      "text/plain": [
       "{'b', 'c', 'd', 'r'}"
      ]
     },
     "execution_count": 2,
     "metadata": {},
     "output_type": "execute_result"
    }
   ],
   "source": [
    "a = {x for x in 'abracadabra' if x not in 'aeiou'}\n",
    "a"
   ]
  },
  {
   "cell_type": "markdown",
   "metadata": {},
   "source": [
    "## Comprensión de diccionarios\n",
    "\n",
    "La comprensión de diccionarios también es similar, se usan los signos `{` y `}`\n",
    "pero la expresión debe ser de la forma `clave: valor`:"
   ]
  },
  {
   "cell_type": "code",
   "execution_count": 5,
   "metadata": {},
   "outputs": [
    {
     "data": {
      "text/plain": [
       "{1: 1, 3: 9, 5: 25, 7: 49, 9: 81}"
      ]
     },
     "execution_count": 5,
     "metadata": {},
     "output_type": "execute_result"
    }
   ],
   "source": [
    "{x: x**2 for x in range(1, 11, 2)}"
   ]
  },
  {
   "cell_type": "code",
   "execution_count": null,
   "metadata": {},
   "outputs": [],
   "source": []
  }
 ],
 "metadata": {
  "kernelspec": {
   "display_name": "Python 3",
   "language": "python",
   "name": "python3"
  },
  "language_info": {
   "codemirror_mode": {
    "name": "ipython",
    "version": 3
   },
   "file_extension": ".py",
   "mimetype": "text/x-python",
   "name": "python",
   "nbconvert_exporter": "python",
   "pygments_lexer": "ipython3",
   "version": "3.5.2"
  }
 },
 "nbformat": 4,
 "nbformat_minor": 2
}
