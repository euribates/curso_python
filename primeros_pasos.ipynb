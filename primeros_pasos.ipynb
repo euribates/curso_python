{
 "cells": [
  {
   "cell_type": "markdown",
   "metadata": {},
   "source": [
    "# Taller de Python"
   ]
  },
  {
   "cell_type": "markdown",
   "metadata": {},
   "source": [
    "## Primeros pasos"
   ]
  },
  {
   "cell_type": "markdown",
   "metadata": {},
   "source": [
    "Abrimos una terminal:\n",
    "\n",
    "[Control] + [Alt] + [T] si estamos en Linux\n",
    "\n",
    "[Windows] + [R] en Windows o si no funciona Inicio →todos los programas → Accesorios → Símbolo de sistema.\n",
    "\n",
    "[Ctrl] + [SpaceBar] y escribir term en MAC OS/X\n",
    "\n",
    "Escribimos python + [Enter]\n",
    "\n",
    "![Python prompts](img/python_prompts.png)"
   ]
  },
  {
   "cell_type": "markdown",
   "metadata": {},
   "source": [
    "### Cosas a probar en la shell"
   ]
  },
  {
   "cell_type": "code",
   "execution_count": 1,
   "metadata": {},
   "outputs": [
    {
     "name": "stdout",
     "output_type": "stream",
     "text": [
      "The Zen of Python, by Tim Peters\n",
      "\n",
      "Beautiful is better than ugly.\n",
      "Explicit is better than implicit.\n",
      "Simple is better than complex.\n",
      "Complex is better than complicated.\n",
      "Flat is better than nested.\n",
      "Sparse is better than dense.\n",
      "Readability counts.\n",
      "Special cases aren't special enough to break the rules.\n",
      "Although practicality beats purity.\n",
      "Errors should never pass silently.\n",
      "Unless explicitly silenced.\n",
      "In the face of ambiguity, refuse the temptation to guess.\n",
      "There should be one-- and preferably only one --obvious way to do it.\n",
      "Although that way may not be obvious at first unless you're Dutch.\n",
      "Now is better than never.\n",
      "Although never is often better than *right* now.\n",
      "If the implementation is hard to explain, it's a bad idea.\n",
      "If the implementation is easy to explain, it may be a good idea.\n",
      "Namespaces are one honking great idea -- let's do more of those!\n"
     ]
    }
   ],
   "source": [
    "import this"
   ]
  },
  {
   "cell_type": "code",
   "execution_count": null,
   "metadata": {},
   "outputs": [
    {
     "name": "stdout",
     "output_type": "stream",
     "text": [
      "\n",
      "Welcome to Python 3.5's help utility!\n",
      "\n",
      "If this is your first time using Python, you should definitely check out\n",
      "the tutorial on the Internet at http://docs.python.org/3.5/tutorial/.\n",
      "\n",
      "Enter the name of any module, keyword, or topic to get help on writing\n",
      "Python programs and using Python modules.  To quit this help utility and\n",
      "return to the interpreter, just type \"quit\".\n",
      "\n",
      "To get a list of available modules, keywords, symbols, or topics, type\n",
      "\"modules\", \"keywords\", \"symbols\", or \"topics\".  Each module also comes\n",
      "with a one-line summary of what it does; to list the modules whose name\n",
      "or summary contain a given string such as \"spam\", type \"modules spam\".\n",
      "\n"
     ]
    }
   ],
   "source": [
    "help()"
   ]
  },
  {
   "cell_type": "code",
   "execution_count": 1,
   "metadata": {},
   "outputs": [
    {
     "data": {
      "text/plain": [
       "{'In': ['', 'locals()'],\n",
       " 'Out': {},\n",
       " '_': '',\n",
       " '__': '',\n",
       " '___': '',\n",
       " '__builtin__': <module 'builtins' (built-in)>,\n",
       " '__builtins__': <module 'builtins' (built-in)>,\n",
       " '__doc__': 'Automatically created module for IPython interactive environment',\n",
       " '__loader__': None,\n",
       " '__name__': '__main__',\n",
       " '__package__': None,\n",
       " '__spec__': None,\n",
       " '_dh': ['/home/jileon/workarea/curso_python'],\n",
       " '_i': '',\n",
       " '_i1': 'locals()',\n",
       " '_ih': ['', 'locals()'],\n",
       " '_ii': '',\n",
       " '_iii': '',\n",
       " '_oh': {},\n",
       " '_sh': <module 'IPython.core.shadowns' from '/home/jileon/.local/lib/python3.5/site-packages/IPython/core/shadowns.py'>,\n",
       " 'exit': <IPython.core.autocall.ZMQExitAutocall at 0x7fd779b099b0>,\n",
       " 'get_ipython': <bound method InteractiveShell.get_ipython of <ipykernel.zmqshell.ZMQInteractiveShell object at 0x7fd77cb5ba90>>,\n",
       " 'quit': <IPython.core.autocall.ZMQExitAutocall at 0x7fd779b099b0>}"
      ]
     },
     "execution_count": 1,
     "metadata": {},
     "output_type": "execute_result"
    }
   ],
   "source": [
    "locals()"
   ]
  },
  {
   "cell_type": "code",
   "execution_count": 3,
   "metadata": {},
   "outputs": [
    {
     "data": {
      "text/plain": [
       "{'In': ['', 'locals()', 'a = 1\\nprint(locals())', 'a = 1\\nlocals()'],\n",
       " 'Out': {1: {...}},\n",
       " '_': {...},\n",
       " '_1': {...},\n",
       " '__': '',\n",
       " '___': '',\n",
       " '__builtin__': <module 'builtins' (built-in)>,\n",
       " '__builtins__': <module 'builtins' (built-in)>,\n",
       " '__doc__': 'Automatically created module for IPython interactive environment',\n",
       " '__loader__': None,\n",
       " '__name__': '__main__',\n",
       " '__package__': None,\n",
       " '__spec__': None,\n",
       " '_dh': ['/home/jileon/workarea/curso_python'],\n",
       " '_i': 'a = 1\\nprint(locals())',\n",
       " '_i1': 'locals()',\n",
       " '_i2': 'a = 1\\nprint(locals())',\n",
       " '_i3': 'a = 1\\nlocals()',\n",
       " '_ih': ['', 'locals()', 'a = 1\\nprint(locals())', 'a = 1\\nlocals()'],\n",
       " '_ii': 'locals()',\n",
       " '_iii': '',\n",
       " '_oh': {1: {...}},\n",
       " '_sh': <module 'IPython.core.shadowns' from '/home/jileon/.local/lib/python3.5/site-packages/IPython/core/shadowns.py'>,\n",
       " 'a': 1,\n",
       " 'exit': <IPython.core.autocall.ZMQExitAutocall at 0x7fd779b099b0>,\n",
       " 'get_ipython': <bound method InteractiveShell.get_ipython of <ipykernel.zmqshell.ZMQInteractiveShell object at 0x7fd77cb5ba90>>,\n",
       " 'quit': <IPython.core.autocall.ZMQExitAutocall at 0x7fd779b099b0>}"
      ]
     },
     "execution_count": 3,
     "metadata": {},
     "output_type": "execute_result"
    }
   ],
   "source": [
    "a = 1\n",
    "locals()"
   ]
  },
  {
   "cell_type": "code",
   "execution_count": 4,
   "metadata": {},
   "outputs": [
    {
     "data": {
      "text/plain": [
       "5"
      ]
     },
     "execution_count": 4,
     "metadata": {},
     "output_type": "execute_result"
    }
   ],
   "source": [
    "2+3"
   ]
  },
  {
   "cell_type": "code",
   "execution_count": 5,
   "metadata": {},
   "outputs": [
    {
     "data": {
      "text/plain": [
       "114813069527425452423283320117768198402231770208869520047764273682576626139237031385665948631650626991844596463898746277344711896086305533142593135616665318539129989145312280000688779148240044871428926990063486244781615463646388363947317026040466353970904996558162398808944629605623311649536164221970332681344168908984458505602379484807914058900934776500429002716706625830522008132236281291761267883317206598995396418127021779858404042159853183251540889433902091920554957783589672039160081957216630582755380425583726015528348786419432054508915275783882625175435528800822842770817965453762184851149029376"
      ]
     },
     "execution_count": 5,
     "metadata": {},
     "output_type": "execute_result"
    }
   ],
   "source": [
    "2**2000"
   ]
  },
  {
   "cell_type": "markdown",
   "metadata": {},
   "source": [
    "No hay límite en el tamaño de los enteros que podemos manejar, exepto nuestra memoria RAM"
   ]
  },
  {
   "cell_type": "code",
   "execution_count": 6,
   "metadata": {},
   "outputs": [
    {
     "data": {
      "text/plain": [
       "True"
      ]
     },
     "execution_count": 6,
     "metadata": {},
     "output_type": "execute_result"
    }
   ],
   "source": [
    "7>2"
   ]
  },
  {
   "cell_type": "markdown",
   "metadata": {},
   "source": [
    "## El programa `Hola, mundo` en Python\n",
    "\n",
    "Ejemplo habitual cuando aprendemos un nuevo lenguaje, el programam Hola Mundo consiste normalmente en el programa\n",
    "más sencillo posible en un determinado lenguaje que sea capaz de hacer algo. Lo habitual es mostrar un\n",
    "mensaje con el texto ``hola, mundo``. La tradición se remonta al libro **The C Programming Language**, de  Brian Kernighan y Dennis Ritchie.\n",
    "\n",
    "![The C Programming Language](img/c_book.png)"
   ]
  },
  {
   "cell_type": "markdown",
   "metadata": {},
   "source": [
    "### Ejemplo en varios lenguajes\n",
    "\n",
    "#### Ejemplo en Java\n",
    "\n",
    "    class HolaMundo {\n",
    "        public static void main (String args[]) {\n",
    "             System.out.print(\"Hola, Mundo\\n\");\n",
    "             }\n",
    "        }\n",
    "        \n",
    "#### Ejemplo en C#\n",
    "\n",
    "    using System;\n",
    "    class Program\n",
    "    {\n",
    "        public static void Main()\n",
    "        {\n",
    "            Console.WriteLine(\"Hello, world!\");\n",
    "        }\n",
    "    }\n",
    "    \n",
    "#### Ejemplo en COBOL\n",
    "\n",
    "    IDENTIFICATION DIVISION.\n",
    "    PROGRAM-ID. HELLO-WORLD.\n",
    "    PROCEDURE DIVISION.\n",
    "        DISPLAY 'Hello, world!'.\n",
    "        STOP RUN."
   ]
  },
  {
   "cell_type": "markdown",
   "metadata": {},
   "source": [
    "#### Versión Python"
   ]
  },
  {
   "cell_type": "code",
   "execution_count": 2,
   "metadata": {
    "scrolled": true
   },
   "outputs": [
    {
     "name": "stdout",
     "output_type": "stream",
     "text": [
      "hola, mundo\n"
     ]
    }
   ],
   "source": [
    "print(\"hola, mundo\")"
   ]
  },
  {
   "cell_type": "markdown",
   "metadata": {},
   "source": [
    "## Zen del lenguaje Python\n",
    "\n",
    "- **Bello** es mejor que feo\n",
    "\n",
    "- **Explícito** es mejor que implícito\n",
    "\n",
    "- **Simple** es mejor que complejo\n",
    "\n",
    "- **Complejo** es mejor que complicado\n",
    "\n",
    "- **Plano** es mejor que anidado\n",
    "\n",
    "- **Disperso** es mejor que denso\n",
    "\n",
    "- La **legibilidad** cuenta\n",
    "\n",
    "- Los casos especiales **no son tan especiales como para quebrantar las reglas**\n",
    "\n",
    "- Aunque lo **práctico** gana a la pureza\n",
    "\n",
    "- Los **errores nunca deberían dejarse pasar silenciosamente**\n",
    "\n",
    "- A menos que hayan sido silenciados explícitamente\n",
    "\n",
    "- Frente a la **ambigüedad**, rechaza la tentación de **suponer**\n",
    "\n",
    "- Debería haber **una -y preferiblemente sólo una- manera obvia de hacerlo**\n",
    "\n",
    "- Aunque esa manera puede no ser obvia al principio a menos que usted sea holandés\n",
    "\n",
    "- **Ahora** es mejor que nunca\n",
    "\n",
    "- Aunque **nunca** es a menudo mejor que ¡ahora mismo!\n",
    "\n",
    "- Si la implementación es **difícil de explicar, es una mala idea**\n",
    "\n",
    "- Si la implementación es fácil de explicar, **puede que sea una buena idea**\n",
    "\n",
    "- Los espacios de nombres (namespaces) son una idea muy buena ¡Hagamos más cosas así!\n"
   ]
  },
  {
   "cell_type": "code",
   "execution_count": null,
   "metadata": {
    "collapsed": true
   },
   "outputs": [],
   "source": []
  }
 ],
 "metadata": {
  "kernelspec": {
   "display_name": "Python 3",
   "language": "python",
   "name": "python3"
  },
  "language_info": {
   "codemirror_mode": {
    "name": "ipython",
    "version": 3
   },
   "file_extension": ".py",
   "mimetype": "text/x-python",
   "name": "python",
   "nbconvert_exporter": "python",
   "pygments_lexer": "ipython3",
   "version": "3.6.1"
  }
 },
 "nbformat": 4,
 "nbformat_minor": 2
}
