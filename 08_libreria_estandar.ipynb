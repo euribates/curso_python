{
 "cells": [
  {
   "cell_type": "markdown",
   "metadata": {
    "deletable": true,
    "editable": true
   },
   "source": [
    "## Módulos de la librería estándar\n",
    "\n",
    "+ Libreria para mejorar el rendimiento\n",
    "\n",
    "  - [timeit](#timeit): Medidas de rendimiento</a>\n",
    "\n",
    "  - [profile](#profile): Estadísticas de ejecución</a>\n",
    "  \n",
    "+ Depuración y búsqueda de errores\n",
    "\n",
    "  - [logging](#logging): Mensajes de logging\n",
    "  \n",
    "  - [traceback](#traceback): Trazas d ejecución\n",
    "  \n",
    "  - [pdb](#pdb): Debugger\n",
    "  \n",
    "+ De uso general\n",
    "\n",
    "  - [re](#re) : Expresiones regulares\n",
    "  \n",
    "  - [os](#os) : Llamadas al sistema operativo\n",
    "  \n",
    "  - [sys](#sys) : configuración específica del sistema\n"
   ]
  },
  {
   "cell_type": "markdown",
   "metadata": {
    "deletable": true,
    "editable": true
   },
   "source": [
    "### timeit - Optimización de rendimiento\n",
    "\n",
    "Para algunos usuarios de Python el rendimiento es una preocupación\n",
    "fnudamental, y están interesados es poder medir la diferencia\n",
    "de rendimiento entre opciones alternativas. Python proporciona\n",
    "varias maneras de poder resolver estas preguntas, siendo una de las\n",
    "más sencillas el módulo `timeit`.\n",
    "\n",
    "pero antes, un consejo:\n",
    "\n",
    "> **La optimización prematura es la raíz de todo mal**\n",
    "> Donald Knuth \"Structured Programming with go to Statements\".\n",
    "\n",
    "> Hay que entender que sin medidas precisas y globales del rendimiento de la aplicación, no debemos optimizar. Hay optimizaciones triviales, como por  ejemplo no concatenar cadenas de texto (mejor ir añadiendolas a una lista y usar `join()` para obtener la cadena de texto final), pero a no ser que sean realmente obvias, las optimizaciones deben esperar hasta que podamos medir el desempeño en un contexto global. La herramienta que realiza estas medidas se conocen como *profiler*.\n",
    "\n",
    "> El peligro de optimizar sin este conocimiento es que no sabemos que parte del código es la que realmente demanda nuestros esfuerzos de mejora. Podemos acabar complicando una parte del código que, en realidad, solo es responsable del 1% del tiempo de ejecución. Eso significa que si consiguieramos, por ejemplo, optimizar esa parte del código para que vaya el doble de rápido (Una optimización del 200%, realmente  impresionaante y nada habitual) el resultado neto sería una mejora de un 0.005% en el rendimiento total. De hecho, si consiguieramos una mejora espectacular, que ese código se ejecute en, digamos, 0.001 nanosegundos, aun así, la mejora en el redimiento total nunca superará el 1%. A cambio, tenemos software más complejo, más difícil de leer y con mayor capacidad potencial de errores.\n",
    "\n",
    "El módulo **`timeit`** permite obtener una medida fiable de los los tiempos de ejecución de un fragmento de código Python.\n",
    "\n",
    "Vimos en su día que había dos formas de intercambiar los valores de dos variables, usando una variable auxiliar o usando el mecanismo de empaquetado de tuplas:"
   ]
  },
  {
   "cell_type": "code",
   "execution_count": 1,
   "metadata": {
    "collapsed": true,
    "deletable": true,
    "editable": true
   },
   "outputs": [],
   "source": [
    "# Usando una variable auxiliar\n",
    "a = 7\n",
    "b = 12\n",
    "temp = a\n",
    "a = b\n",
    "b = temp\n",
    "assert a == 12\n",
    "assert b == 7\n",
    "\n",
    "# Usando tuplas\n",
    "a = 7\n",
    "b = 12\n",
    "a, b = b, a\n",
    "assert a == 12\n",
    "assert b == 7"
   ]
  },
  {
   "cell_type": "markdown",
   "metadata": {
    "deletable": true,
    "editable": true
   },
   "source": [
    "Pero ¿cuál será más rápida? Usando el módulo `timeit` podemos\n",
    "salir de dudas:"
   ]
  },
  {
   "cell_type": "code",
   "execution_count": 2,
   "metadata": {
    "collapsed": false,
    "deletable": true,
    "editable": true
   },
   "outputs": [
    {
     "name": "stdout",
     "output_type": "stream",
     "text": [
      "Con variable auxiliar: 0.020830326999885074\n",
      "Con tuplas: 0.020184941000024992\n"
     ]
    }
   ],
   "source": [
    "from timeit import Timer\n",
    "print('Con variable auxiliar:', Timer('t=a; a=b; b=t', 'a=7; b=12').timeit())\n",
    "print('Con tuplas:', Timer('a,b = b,a', 'a=7; b=12').timeit())"
   ]
  },
  {
   "cell_type": "markdown",
   "metadata": {
    "deletable": true,
    "editable": true
   },
   "source": [
    "El intercambio por medio de tuplas es ligeramente más rápido.\n",
    "\n",
    "El módulo timeit tambien puede ser llamada con la opción -m para que se ejecute como utilidad de línea de comandos; espera como entrada un fragmento de código:"
   ]
  },
  {
   "cell_type": "code",
   "execution_count": 3,
   "metadata": {
    "collapsed": false,
    "deletable": true,
    "editable": true
   },
   "outputs": [
    {
     "name": "stdout",
     "output_type": "stream",
     "text": [
      "1000000 loops, best of 3: 0.971 usec per loop\r\n"
     ]
    }
   ],
   "source": [
    "!python3 -m timeit \"for i in range(100): pass\""
   ]
  },
  {
   "cell_type": "code",
   "execution_count": 4,
   "metadata": {
    "collapsed": false,
    "deletable": true,
    "editable": true
   },
   "outputs": [
    {
     "ename": "SyntaxError",
     "evalue": "invalid syntax (<ipython-input-4-da4409204385>, line 1)",
     "output_type": "error",
     "traceback": [
      "\u001b[0;36m  File \u001b[0;32m\"<ipython-input-4-da4409204385>\"\u001b[0;36m, line \u001b[0;32m1\u001b[0m\n\u001b[0;31m    Desde Jupyter notebook tenemos un camando mágico que hace lo mismo: `%timeit`\u001b[0m\n\u001b[0m                ^\u001b[0m\n\u001b[0;31mSyntaxError\u001b[0m\u001b[0;31m:\u001b[0m invalid syntax\n"
     ]
    }
   ],
   "source": [
    "Desde Jupyter notebook tenemos un camando mágico que hace lo mismo: `%timeit`"
   ]
  },
  {
   "cell_type": "code",
   "execution_count": null,
   "metadata": {
    "collapsed": false,
    "deletable": true,
    "editable": true
   },
   "outputs": [],
   "source": [
    "def f():\n",
    "    acc = 0\n",
    "    for i in range(10000):\n",
    "        acc += i\n",
    "        \n",
    "%timeit f()"
   ]
  },
  {
   "cell_type": "markdown",
   "metadata": {
    "deletable": true,
    "editable": true
   },
   "source": [
    "### <a name=\"profile\"></a>profile y cprofile\n",
    "\n",
    "Los módulos `profile`, `cProfile` y `pstats` son más avanzados que `timeit`. Además de medir tiempos de ejecución, nos permiten identificar las **secciones críticas**, es decir, nos permiten identificar aquellas partes del código que mas tiempo/ciclos de CPU consumen, de forma que podemos concentrarnos es optimizar las partes adecuadas.\n",
    "\n",
    "Los módulos `profile` y `cProfile` (`cProfile` es simplemente una versión de `profile` escrita en C para  mejorar su rendimiento) nos dan un medio para recolectar y analizar estadísticas acerca del consumo del procesador que hace nuestro código Python.\n",
    "\n",
    "El método más directo de análisis en el módulo `profile` es la función `run()`. Acepta como parámetro una cadena de texto con código fuente Python y crea un informe del tiempo gastado en cada una de las diferentes líneas de código, a medida que se ejecutan las sentencias.\n",
    "\n",
    "Nuestra primera versión recursiva de Fibonacci nos será muy útil para comprobar el uso de estas herramientas, ya que su rendimiento se puede mejorar significativamente."
   ]
  },
  {
   "cell_type": "code",
   "execution_count": null,
   "metadata": {
    "collapsed": false,
    "deletable": true,
    "editable": true
   },
   "outputs": [],
   "source": [
    "import profile\n",
    "\n",
    "def fib(n):\n",
    "    if n == 0:\n",
    "        return 0\n",
    "    elif n == 1:\n",
    "        return 1\n",
    "    else:\n",
    "        return fib(n-1) + fib(n-2)\n",
    "\n",
    "def fib_seq(n):\n",
    "    seq = [ ]\n",
    "    if n > 0:\n",
    "        seq.extend(fib_seq(n-1))\n",
    "    seq.append(fib(n))\n",
    "    return seq\n",
    "\n",
    "profile.run('print(fib_seq(22)); print()')\n"
   ]
  },
  {
   "cell_type": "markdown",
   "metadata": {
    "deletable": true,
    "editable": true
   },
   "source": [
    "El informe estandar muestra primero una línea de resumen y luego un listado de detalle para cada una de las funciones ejecutadas:\n",
    "\n",
    "Esta primera versión se toma **unas 150.000** llamadas a diferentes funciones,\n",
    "tomando en total su ejecución más o menos **0.175s** (En mi máquina, obviamente\n",
    "los datos serán diferentes en entornos distintos).  El\n",
    "hecho de que solo haya 23 llamadas primitivas indica que el resto, es\n",
    "decir, la mayor parte de las llamadas, son llamadas recursivas. Los\n",
    "detalles sobre como se gasta el tiempo en cada función vienen dados\n",
    "por los siguientes valores, correspondientes a las columnas del\n",
    "informe: \n",
    "\n",
    "- Número de llamadas (`ncalls`)\n",
    "- El tiempo total gastado en la función (`tottime`)\n",
    "- El tiempo medio consumido por cada llamada (`percall = ncalls/tottime`)\n",
    "- El tiempo acumulado (`cumtime`)\n",
    "- La proporción entre tiempo acumulado y llamadas a primitivas.\n",
    "\n",
    "Cuando hay dos números en la primera columna, indica que la llamada es recursiva. El primer número es el total de llamadas y el segundo el número de ellas que no son primitivas (Es decir, que se invocaron recursivamente). Por tanto, cuando una función no es recursiva, ambos números tienen que ser iguales.\n",
    "\n",
    "Vemos claramente que la mayor parte del tiempo se ha gastado en llamadas a la función `fib`. Si añadimos un decorador de tipo [memoize](https://en.wikipedia.org/wiki/Memoization) parece que podríamos eliminar la mayoría de esas llamadas y obtener una mejora de rendimiento notable:"
   ]
  },
  {
   "cell_type": "code",
   "execution_count": null,
   "metadata": {
    "collapsed": false,
    "deletable": true,
    "editable": true
   },
   "outputs": [],
   "source": [
    "class memoize:\n",
    "\n",
    "    def __init__(self, function):\n",
    "        self.function = function\n",
    "        self.memoized = {}\n",
    "\n",
    "    def __call__(self, *args):\n",
    "        try:\n",
    "            return self.memoized[args]\n",
    "        except KeyError:\n",
    "            self.memoized[args] = self.function(*args)\n",
    "            return self.memoized[args]\n",
    "\n",
    "@memoize\n",
    "def fib(n):\n",
    "    # from literateprograms.org\n",
    "    # http://bit.ly/hlOQ5m\n",
    "    if n == 0:\n",
    "        return 0\n",
    "    elif n == 1:\n",
    "        return 1\n",
    "    else:\n",
    "        return fib(n-1) + fib(n-2)\n",
    "\n",
    "def fib_seq(n):\n",
    "    seq = [ ]\n",
    "    if n > 0:\n",
    "        seq.extend(fib_seq(n-1))\n",
    "    seq.append(fib(n))\n",
    "    return seq\n",
    "\n",
    "if __name__ == '__main__':\n",
    "    profile.run('print(fib_seq(20)); print()')"
   ]
  },
  {
   "cell_type": "markdown",
   "metadata": {
    "deletable": true,
    "editable": true
   },
   "source": [
    "Efectivamante, como recordamos el valor de fibbonaci en cada nivel, evitamos la mayoría de las llamadas recursivas, y el número de llamadas descienda hasta 191, mientras que el tiempo total baja a 0.001 segundo:\n",
    "\n",
    "Si el código que queremos probar requiere numerosas variables,  la cadena de texto con las inicializaciones puede ser incomoda. Podemos, en cambio, definir un contexto que almacene esas variables, y usar `runctx` en vez de `run`. En el siguiente ejemplo, el valor de `n` se toma directamente del contexto que hemos pasado como tercer parámetro:"
   ]
  },
  {
   "cell_type": "code",
   "execution_count": 5,
   "metadata": {
    "collapsed": false,
    "deletable": true,
    "editable": true,
    "scrolled": true
   },
   "outputs": [
    {
     "name": "stdout",
     "output_type": "stream",
     "text": [
      "         13 function calls in 0.000 seconds\n",
      "\n",
      "   Ordered by: standard name\n",
      "\n",
      "   ncalls  tottime  percall  cumtime  percall filename:lineno(function)\n",
      "        8    0.000    0.000    0.000    0.000 :0(append)\n",
      "        1    0.000    0.000    0.000    0.000 :0(exec)\n",
      "        1    0.000    0.000    0.000    0.000 :0(setprofile)\n",
      "        1    0.000    0.000    0.000    0.000 <string>:1(<module>)\n",
      "        1    0.000    0.000    0.000    0.000 fibo_memoized.py:8(fib)\n",
      "        1    0.000    0.000    0.000    0.000 profile:0(fib(n))\n",
      "        0    0.000             0.000          profile:0(profiler)\n",
      "\n",
      "\n"
     ]
    }
   ],
   "source": [
    "import profile\n",
    "from fibo_memoized import fib\n",
    "profile.runctx('fib(n)', globals(), {'n': 22})"
   ]
  },
  {
   "cell_type": "markdown",
   "metadata": {
    "deletable": true,
    "editable": true
   },
   "source": [
    "Podemos ejecutar una análisis con `profile` y almacenarlo en un fichero, en vez de imprimirlo, para eso indicamos el nombre del fichero en la llamada a `run|runctx`. Con la clase `Stats`, definida en el módulo `pstats`, podemos recuperar la información deesos ficheros y formatearla de diferentes maneras. También podemos combiar varios conjuntos de resultados.\n",
    "\n",
    "La clase Stats nos permite reordenar y analizar los datos de rendimiento capturados por `profile`. Por ejemplo, podemos\n",
    "ordenar los resultados por orden de tiempo acumulado, y luego listar solo las 10 primeras de la lista, que nos daría unos\n",
    "buenos candidatos para optimizar."
   ]
  },
  {
   "cell_type": "markdown",
   "metadata": {
    "deletable": true,
    "editable": true
   },
   "source": [
    "## Depuración y búsqueda de errores\n",
    "\n",
    "Varios módulos nos ayudan a encontrar los errores en el programa. Los más importantes son `logging`, `traceback`, `pdb` y `trace`."
   ]
  },
  {
   "cell_type": "markdown",
   "metadata": {
    "deletable": true,
    "editable": true
   },
   "source": [
    "### <a name=\"logging\"></a>logging\n",
    "\n",
    "El módulo `logging` define un sistema flexible y homogeneo para añadir un sistema de registro de eventos o _log_ a\n",
    "nuestras aplicaciones o librerías. Desgraciadamente, puede ser un poco confuso de entender al principio. Crear un log es relativamente fácil, pero la ventaja de usar el API definido en las librerías estándar es que todos los módulos pueden participar en un log común, de forma que podamos integrar nuestros mensajes con módulos de terceros.\n",
    "\n",
    "El módulo define una serie de funciones habituales es sistemas de _logging_: `debug()`, `info()`, `warning()`, `error()` y `critical()`. Cada función tiene un uso dependiendo de la gravedad del mensaje a emitir; estos niveles, de menor a mayor severidad, se describen en la siguiente tabla:\n",
    "\n",
    "| Nivel    | A usar para                                                                |\n",
    "|----------|----------------------------------------------------------------------------|\n",
    "| DEBUG    | Información muy detallada, para diagnosticar problemas y encontrar errores |\n",
    "| INFO     | Confirmación de que las cosas están funcionando como deben.                |\n",
    "| WARNING  | Indicar de que ha pasado algo extraño o se prevé un problema futuro        |\n",
    "| ERROR    | Se ha producido un error grave, el programa no puede continuar             |\n",
    "| CRITICAL | Se ha producido un error aun más grave, inesperado, el prorgama termina    |\n",
    "         \n",
    "Un ejemplo muy sencillo:"
   ]
  },
  {
   "cell_type": "code",
   "execution_count": 7,
   "metadata": {
    "collapsed": false,
    "deletable": true,
    "editable": true
   },
   "outputs": [
    {
     "name": "stderr",
     "output_type": "stream",
     "text": [
      "WARNING:root:¡Cuidado!\n"
     ]
    }
   ],
   "source": [
    "import logging\n",
    "logging.warning('¡Cuidado!') # el mensaje sale por pantalla\n",
    "logging.info('Mira que te lo dije...') # este no aparecerá"
   ]
  },
  {
   "cell_type": "markdown",
   "metadata": {
    "deletable": true,
    "editable": true
   },
   "source": [
    "Si ejecutamos este código, veremos que solo se imprime\n",
    "el primer mensaje:\n",
    "\n",
    "    WARNING:root:¡Cuidado!\n",
    "\n",
    "Esto es porque el nivel por defecto del sistema de logging es `WARNING`, es decir, que solo se emitirán los mensajes de ese nivel o superior. La idea los niveles es permitir centrarnos solo en los mensajes que nos\n",
    "afectan en un determinado momento.\n",
    "\n",
    "El mensaje impreso incluye el nivel y la descripción que incluimos en la llamada. También incluye una referencia a `root`, que se explicará más tarde. El formato de estos mensaje también es modificable, si queremos.\n",
    "\n",
    "Lo más habitual es crear el log usando un ficharo de texto:"
   ]
  },
  {
   "cell_type": "code",
   "execution_count": 4,
   "metadata": {
    "collapsed": false,
    "deletable": true,
    "editable": true
   },
   "outputs": [],
   "source": [
    "import logging\n",
    "logging.basicConfig(filename='/tmp/ejemplo.log', level=logging.DEBUG)\n",
    "logging.debug('Este mensaje debería ir al log')\n",
    "logging.info('Y este')\n",
    "logging.warning('Y este también')"
   ]
  },
  {
   "cell_type": "markdown",
   "metadata": {
    "deletable": true,
    "editable": true
   },
   "source": [
    "Si abrimos el fichero deberíamos ver:"
   ]
  },
  {
   "cell_type": "code",
   "execution_count": 5,
   "metadata": {
    "collapsed": false,
    "deletable": true,
    "editable": true
   },
   "outputs": [
    {
     "name": "stdout",
     "output_type": "stream",
     "text": [
      "dropbox-antifreeze-PByYA6\r\n",
      "ejemplo.log\r\n",
      "firefox_jileon\r\n",
      "hsperfdata_mdm\r\n",
      "icedteaplugin-mdm-5D3RPU\r\n",
      "mintUpdate\r\n",
      "orbit-jileon\r\n",
      "pulse-PKdhtXMmr18n\r\n",
      "ssh-IUJDEN3xf2vK\r\n",
      "systemd-private-2c8d881eebd3498fb95f32a592f5d775-colord.service-Y9D8ii\r\n",
      "systemd-private-2c8d881eebd3498fb95f32a592f5d775-rtkit-daemon.service-Tw9MJm\r\n"
     ]
    }
   ],
   "source": [
    "!ls /tmp"
   ]
  },
  {
   "cell_type": "code",
   "execution_count": 7,
   "metadata": {
    "collapsed": false
   },
   "outputs": [
    {
     "name": "stdout",
     "output_type": "stream",
     "text": [
      "DEBUG:root:Este mensaje debería ir al log\r\n",
      "INFO:root:Y este\r\n",
      "WARNING:root:Y este también\r\n",
      "DEBUG:root:Este mensaje debería ir al log\r\n",
      "INFO:root:Y este\r\n",
      "WARNING:root:Y este también\r\n"
     ]
    }
   ],
   "source": [
    "# Veamos el contenido del fichero \n",
    "\n",
    "!cat /tmp/ejemplo.log"
   ]
  },
  {
   "cell_type": "markdown",
   "metadata": {},
   "source": [
    "Al configurar el nivel como `DEBUG` vemos que se han grabado todos los mensajes. Si subieramos a `ERROR`, no aparecería ninguno.\n",
    "\n",
    "El formato por defecto es `severity:logger name:message`. Podemos cambiar también el formato de los mensajes, usando el parámetro `format` en la llamada a `basicConfig`:"
   ]
  },
  {
   "cell_type": "code",
   "execution_count": 8,
   "metadata": {
    "collapsed": true
   },
   "outputs": [],
   "source": [
    "import logging\n",
    "\n",
    "logging.basicConfig(\n",
    "    filename='/tmp/ejemplo.log',\n",
    "    level=logging.DEBUG,\n",
    "    format='%(asctime)s - %(name)s - %(levelname)s - %(message)s'\n",
    "    )"
   ]
  },
  {
   "cell_type": "markdown",
   "metadata": {},
   "source": [
    "Podemos definir distintas instancias de loggers (las funciones que hemos visto hasta ahora usan el logger por defecto, de nombre `root`), y usar sus nombres para organizarlos en una jerarquía, usando puntos `.` como separadores, de forma similar a como organizamos los paquetes. Los nombres pueden ser lo que queramos, pero es una práctica habitual usar como nombre el del módulo:"
   ]
  },
  {
   "cell_type": "code",
   "execution_count": 9,
   "metadata": {
    "collapsed": true
   },
   "outputs": [],
   "source": [
    "import logging\n",
    "logger = logging.getLogger(__name__)"
   ]
  },
  {
   "cell_type": "markdown",
   "metadata": {},
   "source": [
    "De esta forma el nombre del logger refleja la estructura de paquetes y módulos que estemos usando, y es muy sencillo de usar.\n",
    "\n",
    "Tambien podemos usar diferentes gestionadores para notificarnos, aparte de la consola y el fichero de textos, tenemos notificacines vía sockets, datagramas UDP, por correo, envios a un demonio syslog,  a un buffer en memoria y, por supuesto, la posibilidad de crear nuestros propios manejadores."
   ]
  },
  {
   "cell_type": "markdown",
   "metadata": {},
   "source": [
    "### <a name=\"traceback\"></a>traceback\n",
    "\n",
    "Este módulo nos permite extraer, formatear e imprimir la traza de ejecución (El \"camino\" que ha seguido el programa\n",
    "hasta llegar a un determinado punto). Esta traza es la misma que se muestra cuando se eleva una excepción y nadie la captura.\n",
    "\n",
    "Es muy util cuando se quieren mostrar estas trazas y mensajes de error de forma controlada, por ejempo es lo que hace iPython para mostrar mensajes de error con coloreado de sintaxis e información adicional.\n",
    "\n",
    "El módulo trabaja con objetos de tipo `traceback`, que son los objetos que podemos encontrar en `sys.last_traceback`, o devueltos en tercer lugar en la tupla que retorna la función `sys.exc_info()`.\n",
    "\n",
    "Algunos métodos utiles en este módulo son:\n",
    "\n",
    " - **`traceback.print_exc([limit[, file]])`**\n",
    "\n",
    "   Esta llamada obtiene la traza actual y la imprime en pantalla (o en un fichero, si se especifica),\n",
    "   usando el mismo formato que usaría por defecto Python.\n",
    "\n",
    " - **`traceback.format_exc([limit])`**\n",
    "\n",
    "   Es como `print_exc()`, pero devuelve una cadena de texto en vez de imprimirla."
   ]
  },
  {
   "cell_type": "markdown",
   "metadata": {},
   "source": [
    "### <a name=\"pdb\"></a>pdb\n",
    "\n",
    "El módulo `pdb` define un debugger interactivo para programas Python. Soporta **breakpoints** y **breakpoints condicionales**, ejecución paso a paso, inspección de la traza, listado del código fuente y evaluación de código Python arbitrario en el contexto del programa. Tambien puede ser llamada bajo el control del programa.\n",
    "\n",
    "Podemos invocarlo desde la línea de comandos con:\n",
    "\n",
    "    pdb <script.py>\n",
    "\n",
    "Cuando se sjecuta el debugger, el prompt cambia a `(Pdb)`. Podemos consultar una breve ayuda pulsando `help`. Algunos de los comandos más útiles son:\n",
    "\n",
    "- **h(elp)** : Sin argumentos, imprime la lista de ordenes posibles. Si la pasamos una orden como parámetro, ampliará la información sobre la mismo.\n",
    "\n",
    "- **w(here)** : Imprime la traza, con la actividad más reciente al final. Una flecha indica el entorno actual\n",
    "\n",
    "- **s(tep)** : Ejecuta la línea actual, parándose en la primera ocasión que pueda: O bien en la primera línea de una función que se ha llamado o en la siguiente línea.\n",
    "\n",
    "- **n(ext)** : Continua la ejecución hasta que se alcanza la siguiente línea en el bloque actual o retorne de una función. La diferencia con `step` es que `step` entrará dentro del cuerpo de una función, mientras que `next` la ejecutará y seguirá hasta la siguiente línea.\n",
    "\n",
    "- **r(eturn)** : Ejecuta el resto de la función y retorna.\n",
    "\n",
    "- **c(ont(inue))** : Continua la ejecución. Solo se para si encuentra un _breakpoint_ o si termina el programa.\n",
    "\n",
    "- **l(ist) [first[, last]]** : Lista el código fuente.\n",
    "\n",
    "Podemos usar el debugger desde dentro del programa; lo habitual es usar la siguiente línea antes de llegar al código problemático:\n",
    "\n",
    "```Python\n",
    "    import pdb; pdb.set_trace()\n",
    "```\n",
    "\n",
    "Esto arrancará en modo debugger justo en esa línea. A partir de hay se puede avanzar a traves del código con `s` o `n`, o seguir la ejecucion con `c`.\n",
    "\n",
    "Hay muchas más ordenes y usos disponibles. Consulta la documentación oficial: [Python: pdb — The Python Debugger](pdb — The Python Debugger) para ver todos las opciones."
   ]
  },
  {
   "cell_type": "markdown",
   "metadata": {},
   "source": [
    "## De uso general"
   ]
  },
  {
   "cell_type": "markdown",
   "metadata": {},
   "source": [
    "### <a name=\"re\"></a>Módulo re - Expresiones regulares\n",
    "\n",
    "Este módulo permite trabajar con **expresiones regulares**. Una [expresión regular](https://es.wikipedia.org/wiki/Expresi%C3%B3n_regular) viene a definir un conjunto de cadenas de texto que cumplen un determinado patrón. Si una cadena de texto pertenece al conjunto de posibles cadenas definidas por la expresión, se dice que _casan_ o que ha habido una coincidencia o _match_.\n",
    "\n",
    "Las expresiones regulares se crean combinando expresiones regulares más pequeñas (o primitivas). La cadena que define una expresión regular puede incluir caractereres normales o especiales. Los caracteres normales solo casan consigo mismo. Por ejemplo, la expresion regulas `a` solo casaria con una `a`. Los especiales, como `|` o `.`, tienen otros significados;  o bien definen conjuntos de caracteres o modifican a las expresiones regulares adyacentes.\n",
    "\n",
    "Algunos caracteres con significados especiales son:\n",
    "\n",
    "| Caracter |  Significado                                                   |\n",
    "|----------|----------------------------------------------------------------|\n",
    "|   `.`    | Caracter punto. casa con cualquier caracter                    |\n",
    "|   `^`    | Casa con el principio de una string                            |\n",
    "|   `$`    | Casa con el final de una string                                |\n",
    "|   `*`    | La expresión regular anterior, repetida 0 o más veces          |\n",
    "|   `+`    | La expresión regular anterior, repetida 1 o más veces          |\n",
    "|   `?`    | La expresión regular anterior, uno u ninguna vez               |\n",
    "|  `{n}`   | La expresión regular anterior, repetida `n` veces              |\n",
    "| `{m,n}`  | La expresión regular anterior, repetida entre `m` y `n` veces  |\n",
    "|    `\\`   | \"Escapa\" el significado del caracter a continuación, permitiendo asi incluir caracteres especiales como `{` o `*` literales. |\n",
    "|  &#124;  |  Alernancia entre patrones: `A`&#124;`B` significa que casa con `A` o con `B`. Se pueden usar multiples patrones separados con &#124;. `a`&#124;`b`&#124;`c` casa con `a`, `b` o `c` |\n",
    "|   `[]`   | Sirve para indicar un conjunto de caracteres                   |\n",
    "\n",
    "En un conjunto Los caracteres se pueden listar individualmente, como por ejemplo, `[abc]`, que casa con el caracter `a`, con `b` o con `c`.\n",
    "\n",
    "También se pueden espcificar rangos de caracteres, usado el guión para separar los límites, por ejemplo `[a-z]` casa con cualquier letra minúsucula, `[0-9]` casa con cualquier dígito. Los caracteres especiales pierden su significado dentro de los corchetes, por lo que no hace falta escaparlos.\n",
    "\n",
    "Se puede definir el complemento del conjunto incluyendo como primer caracter `^`: `[^59]` casa con cualquier caracter, excepto con el cinco i el nueve.\n",
    "\n",
    "El uso de expresiones regulares es tremendamente potente y complejo, y hay varios libros dedicados al tema. \n",
    "\n",
    "#### Ejercicio: Expresiones regulares para encontrar matrículas de coche.\n",
    "\n",
    "Escribir una expresión regular para detectar matrículas de coches españolas.\n",
    "\n",
    "#### Solución\n",
    "\n",
    "Según el siguiente texto, que describen en el sistema de matriculación vigente actualmente en España:\n",
    "\n",
    "> El 18 de septiembre del año 2000 entró en vigor el nuevo sistema\n",
    "  de matriculación en españa, introduciendo matrículas que constan\n",
    "  de cuatro dígitos y tres letras consonantes, suprimiéndose las\n",
    "  cinco vocales y las letras Ñ, Q, CH y LL. [...] Si el vehículo es\n",
    "  histórico, y se ha matriculado con una placa de nuevo formato,\n",
    "  aparece primero una letra H en la placa.\n",
    "\n",
    "El siguiente código lista las matrículas encontradas en el texto:"
   ]
  },
  {
   "cell_type": "code",
   "execution_count": 11,
   "metadata": {
    "collapsed": false,
    "deletable": true,
    "editable": true
   },
   "outputs": [
    {
     "name": "stdout",
     "output_type": "stream",
     "text": [
      "0765-BBC\n",
      "9866-LPX\n"
     ]
    }
   ],
   "source": [
    "import re\n",
    "\n",
    "Texto = '''INSTRUIDO por accidente de circulación ocurrido a las 09:43\n",
    "entre la motocicleta HONDA 500, matrícula 0765-BBC  y la\n",
    "motocicleta HARLEY-DAVIDSON , matrícula 9866-LPX, en el punto\n",
    "kilométrico 3.5 de la carretera general del sur, término municipal de\n",
    "Arona, Tenerife, y bla, bla, bla...'''\n",
    "\n",
    "patron = re.compile('H?[0-9]{4}-?[BCDFGHJKLMNPRSTVWXYZ]{3}', re.IGNORECASE)\n",
    "for matricula in patron.findall(Texto):\n",
    "    print(matricula)"
   ]
  },
  {
   "cell_type": "markdown",
   "metadata": {},
   "source": [
    "El patrón usado es el siguiente: `H?[0-9]{4}-?[BCDFGHJKLMNPRSTVWXYZ]{3}`, veámoslo por partes:\n",
    "\n",
    " - **`H?`** : Una H. Pero como la sigue una interrogación, es opcional. Recuerdese que `?` se interpreta como la expresión regular anterior (en este caso la H), 0 o una vez.\n",
    " \n",
    " - **`[0-9]{4}`** : El conjunto de los caracteres del 0 al 9 (`[0-9]`), o lo que es lo mismo, cualquier dígito, repetido 4 veces (`{4}`), es decir, un número de cuatro dígitos.\n",
    " \n",
    " - **`-?`**: Un guión, opcional, igual que la H para vehículos históricos del principio\n",
    " \n",
    " - **`[BCDFGHJKLMNPRSTVWXYZ]{3}`** : Cualquiera de los caracteres del conjunto indicado (letras consonantes excepto la Ñ, Q, CH y LL) repetido 3 veces.\n",
    " \n"
   ]
  },
  {
   "cell_type": "markdown",
   "metadata": {},
   "source": [
    "### <a name=\"os\"></a>Módulo os:  Llamadas al sistema operativo\n",
    "\n",
    "Este módulo da acceso a llamadas del sistema operativo. A nivel de diseño, las llamadas que funcionana en todos los sistemas usan y devuelven la misma interfaz, independiente del S.O. Por ejemplo, la función `stat` devuelve información sobre un fichero en el mismo formato, independientemente de la plataforma.\n",
    "\n",
    "Las funciones que solo están disponibles para un determinado sistema operativo estan en submódulos aparte.\n",
    "\n",
    "El submodulo `os.path` (cargado automáticamente) incluye funciones de ayuda para trabajar con rutas de archivos.\n",
    "\n",
    "Algunas de las funciones y atributos de este módulo son:\n",
    "\n",
    "- **`os.name`** : El nombre del sistema operativo sobre el que se está ejecutando python. Actualmente existen los siguientes nombres posibles: `posix`, `nt`, `os2`, `ce`, `java`, `riscos`.</dd>\n",
    "\n",
    "- **`os.environ`** : Un diccionario que contiene las variables de entorno definidas en el sistema operativa. Los valores se obtiene la primera vez que se importa el módulo, por lo que no reflejan cambios hechos después\n",
    "\n",
    "- **`os.walk(top, topdown=True, onerror=None, followlinks=False)`** : Devuelve un iterador que nos permite examinar todo  un sistema de archivos. Para cada directorio y subdirectorio en la raíz (indicada por `top`), incluyendo la propia raíz, el iterador devuelte una tupla de tres elementos (`dirpath`, `dirnames`, `filenames`); `dirpath` es una cadena de texto, la ruta del direcotorio, `dirnames` es una lista con los nombres de los subdirectorios dentro de `dirpath` (excluyendo los nombres especiales `.` y `..`) y `filenames` es una lista de nombres de los ficheros que no son directorio en `dirpath`. En cualquier momento podemos tener una ruta absoluta a un archivo `f` en `filenames` haciendo `os.path.join(top, dirpath, f)`.\n",
    "\n",
    "- **`os.path.getsize(path)`** : Devuelve el tamaño, en bytes, del fichero\n",
    "\n",
    "- **`os.path.getmtime(path)`** : Devuelve el tiempo de la ultima modificación del archivo. El valor es en tiempo unix: el número de segundos desde la medianoche UTC del 1 de enero de 1970. Veaseel módulo `time`.\n",
    "\n",
    "- **`os.path.splitext(path)`** : Devuelve una tupla de dos elementos (`root`, `ext`). En la primera posición va la ruta completa del fichero, sin extensión, y en la segunda va la extension, de forma que `path == root + ext`.\n",
    "\n",
    "#### Ejercicio: Calcular cuanto ocupan todos los ficheros de tipo Python en un determinado directorio\n",
    "\n",
    "Incluyendo sus subdirectorios, si los hubiera. Listar los nombres absolutos, es decir, incluyendo la ruta desde la raíz, así como el espacio que ocupan en disco.\n",
    "\n",
    "#### Solución"
   ]
  },
  {
   "cell_type": "code",
   "execution_count": 26,
   "metadata": {
    "collapsed": false
   },
   "outputs": [
    {
     "name": "stdout",
     "output_type": "stream",
     "text": [
      "./test_ast.py 140\n",
      "./fibo_memoized.py 330\n",
      "./fibo.py 453\n",
      "Bytes totales: 923\n"
     ]
    }
   ],
   "source": [
    "import os\n",
    "\n",
    "acc = 0\n",
    "for (dirpath, dirnames, filenames) in os.walk('.'):\n",
    "    for filename in filenames:\n",
    "        if filename.lower().endswith('.py'):\n",
    "            fullname = os.path.join(dirpath, filename)\n",
    "            size = os.path.getsize(fullname) \n",
    "            acc += size\n",
    "            print(fullname, size)\n",
    "print('Bytes totales:', acc)"
   ]
  },
  {
   "cell_type": "markdown",
   "metadata": {},
   "source": [
    "### <a name=\"sys\"></a>Módulo sys: configuración específica del sistema\n",
    "\n",
    "Este módulo proporciona acceso a algunas variables usadas o mantenidas por el propio interprete de Python. Siempre está disponible las siguientes:\n",
    "\n",
    "- **`sys.argv`** : La lista de argumentos pasados al script de python. En la primera posicion (`sys.argv[0]`) siempre va el nombre del script (depende del S.O. subyacente si devuelve el nombre completo, incluyendo la ruta, o no).\n",
    "\n",
    "- **`sys.exc_info()`**: Esta función devuelve una tupla de tres valores  con información sobre el error que está siendo tratado: Tipo de la excepcion, valor de la  misma y traza de ejecución. Podemos usarla en una clausula `except` para obtener más información del error. Si se llama cuando no hay ninguna excepciónactiva, devuelve una tupla con tres valores `None`.\n",
    "\n",
    "- **`sys.path`** : Una lista de cadenas de texto que especifican las rutas de búsqueda para los módulos y paquetes de  python.\n",
    "\n",
    "- **`sys.platform`** : Un identificador de la version de Python en ejecución\n",
    "\n",
    "#### Ejercicio: Script para busqueda mejorado\n",
    "\n",
    "Modificar el ejercicio anterior para que busque\n",
    "ficheros con una extension que determinaremos nosotros, como\n",
    "un argumento del script.\n",
    "\n",
    "#### Solución:\n",
    "\n",
    "Vease [Ejercicios: Find file by ext](ejercicios/find-by-ext.py)."
   ]
  },
  {
   "cell_type": "code",
   "execution_count": 30,
   "metadata": {
    "collapsed": false
   },
   "outputs": [
    {
     "name": "stdout",
     "output_type": "stream",
     "text": [
      "#!/usr/bin/env python\n",
      "# -*- coding: utf-8 -*-\n",
      "\n",
      "from __future__ import print_function\n",
      "from __future__ import absolute_import\n",
      "from __future__ import division\n",
      "from __future__ import unicode_literals\n",
      "\n",
      "import sys\n",
      "import os\n",
      "\n",
      "argc = len(sys.argv)\n",
      "if argc < 2:\n",
      "    print('Tiene que especificar la extensión que busca')\n",
      "    sys.exit(-1)\n",
      "\n",
      "ext = sys.argv[1].lower()\n",
      "acc = 0\n",
      "print('Buscando ficheros con extensión {}'.format(ext))\n",
      "for (dirpath, dirnames, filenames) in os.walk('.'):\n",
      "    for filename in filenames:\n",
      "        if filename.lower().endswith(ext):\n",
      "            fullname = os.path.join(dirpath, filename)\n",
      "            size = os.path.getsize(fullname) \n",
      "            acc += size\n",
      "            print(fullname, size, 'bytes')\n",
      "print('Bytes totales:', acc)\n",
      "\n",
      "\n"
     ]
    }
   ],
   "source": [
    "with open('./ejercicios/find-by-ext.py', 'r') as f:\n",
    "    print(f.read())"
   ]
  },
  {
   "cell_type": "markdown",
   "metadata": {},
   "source": [
    "### <a name=\"difflib\"></a>El módulo difflib: Buscar las diferencias entre secuencias\n",
    "\n",
    "Este módulo proporciona clases y funciones que nos permite comparar secuencias. Se puede usar, por ejemplo, para compara ficheros, considerados como secuencias de líneas, o textos, considerados como secuencias de caracteres. Las diferencias se pueden analizar e imprimir en diferentes formatos, incluyendo HTML y parches.\n",
    "\n",
    "La clase `difflib.SequenceMatcher` permite comparar cualquier tipo de secuencia. El algoritmo que usa intenta conseguir la subcadena más largas de coincidencias consecutivas. A partir de ahi se aplica recursivamente tanto a la derecha com a la izquierda de dicha subcadena. No produce secuencias de ediciones mínimas, pero son más comprensibles para los humanos.\n",
    "\n",
    "Ejercicio: Dada una secuencia de lineas de texto, encontrar\n",
    "la más parecia a un texto original."
   ]
  },
  {
   "cell_type": "markdown",
   "metadata": {},
   "source": [
    "El módulo collections: Otras estructuras de datos\n",
    "~~~~~~~~~~~~~~~~~~~~~~~~~~~~~~~~~~~~~~~~~~~~~~~~~~~~~~~~~~~~~~~~~~~~~~~\n",
    "\n",
    "Este módulo implemente ciertos contendores\n",
    "especializados a partir de los básicos: dicionarios,\n",
    "listas, conjunto y tuplas.\n",
    "\n",
    "    `namedtuple`\n",
    "\n",
    "        Tuplas cuyo contenido puede ser accedido\n",
    "        tanto por posición como por nombre.\n",
    "\n",
    "    `deque`\n",
    "\n",
    "        Una doble lista encadenada especializada en realizar\n",
    "        operaciones de añadir o quitar de los extremos con\n",
    "        gran rapidez.\n",
    "\n",
    "    `Counter`\n",
    "\n",
    "        Un diccionarios especializado en llevar cuentas; asocia\n",
    "        a cada clave un contador y tienen métodos adicionales\n",
    "        para este tipo de estructura de datos. Es equivalente\n",
    "        en otros lengajes al concepto de `multisets`.\n",
    "\n",
    "    `OrderedDict`\n",
    "\n",
    "        Una subclase del diccionario que recuerda el orden en\n",
    "        que se han añadido sus elementos.\n",
    "\n",
    "    `defaultdict`\n",
    "\n",
    "        Una subclase del diccionario que llama a una función\n",
    "        definida por nosotros cuando no encuentra una clave."
   ]
  },
  {
   "cell_type": "markdown",
   "metadata": {},
   "source": [
    "random\n",
    "~~~~~~~~~~~~~~~~~~~~~~~~~~~~~~~~~~~~~~~~~~~~~~~~~~~~~~~~~~~~~~~~~~~~~~~\n",
    "\n",
    "Este módulo implementa generadores de números pseudo-aleatorios\n",
    "para distintas distribucines. Para enteros, podemos hacer\n",
    "una selección uniforme dentro de un rango; para secuencias, una\n",
    "selección uniforme de un elemento. Podemos reordenar al azar\n",
    "-barajar- una secuencia y obtener una muestra al azar.\n",
    "También podemos trabajar con distribucions uniformes, normales\n",
    "(Gauss), logaritmica normal, exponencial negativa, y distribuciones\n",
    "gamma y beta.\n",
    "\n",
    "Casi todas las funciones dependen de la función básica `random()`, que\n",
    "genera un numero al azar en el intervalo semiabierto [0.0, 1.0).\n",
    "\n",
    "    `random.seed([x])`\n",
    "\n",
    "        Inicializa el generador de números con un determinado valor.\n",
    "        Si se omite, se usa un valor obtenido a partir de la fecha y\n",
    "        hora actual\n",
    "\n",
    "    `random.random()`\n",
    "\n",
    "        Devuelve un número al azar en coma flotante en el intervalo\n",
    "        [0.0, 1.0).\n",
    "\n",
    "    `random.randint(a, b)`\n",
    "\n",
    "        Genera un entero N al azar tal que a <= N <= b.\n",
    "\n",
    "\n",
    "    `random.choice(seq)`\n",
    "\n",
    "        Devuelve un elemento al azar de los perteneciente a la secuencia\n",
    "        `seq` Si `seq` está vacio, eleva una excepción `IndexError`.\n",
    "\n",
    "    `random.shuffle(x[, random])`\n",
    "\n",
    "        Baraja la secuencia (internamente, es decir, no genera una\n",
    "        nueva secuencia). El argumento opcional `random` es una\n",
    "        función sin argumentos que devuelve un número en coma flotante\n",
    "        en el intervalo [0.0, 1.0); por defecto es la función\n",
    "        `random()`.\n",
    "\n",
    "\n",
    "    `random.gauss(mu, sigma)`\n",
    "\n",
    "        Distribución normal o de Gauss. `mu` es la media, `sigma`\n",
    "        es la desviación estandar."
   ]
  },
  {
   "cell_type": "markdown",
   "metadata": {},
   "source": [
    "Trabajar con fechas y tiempos: time y datetime\n",
    "-----------------------------------------------------------------------\n",
    "\n",
    "time\n",
    "~~~~~~~~~~~~~~~~~~~~~~~~~~~~~~~~~~~~~~~~~~~~~~~~~~~~~~~~~~~~~~~~~~~~~~~\n",
    "\n",
    "Esté modulo proporciona funciones para trabajar con tiempos y fechas.\n",
    "La mayoría de las funciones realizan llamadas al S.O. subyacente.\n",
    "\n",
    "Algunas consideraciones y terminología:\n",
    "\n",
    "  * UTC es el tiempo coordinado Universal, anteriormente\n",
    "    conocido como GMT o Hora de Greenwich (El acrónimo UTC\n",
    "    es un comprimiso entre el inglés y el francés)\n",
    "\n",
    "  * DST es el ajuste de horario de verano (*Daylight Saving Time*)\n",
    "    una modificacion de la zona horaria, normalmente de una\n",
    "    hora, que se realiza durante parte del año. las reglas\n",
    "    de los DST son, en la práctica, pura magia (dependen de\n",
    "    las leyes locales) y pueden cambiar de año a año,\n",
    "\n",
    "Los valores de tiempo devueltos por `gmtime()`, `localtime()` y\n",
    "`strptime()`, y aceptados por `asctime()`, `mktime()` y\n",
    "`strftime()` son tuplas (En realidad, `namedtuple`) de 9 enteros:\n",
    "año, mes, dia, horas, minutos, segundos, día de la semana, día dentro\n",
    "del año y un indicador de si se aplica o no el horario de verano.\n",
    "\n",
    "Algunas funciones definidas en este módulo:\n",
    "\n",
    "    `time.time()`\n",
    "\n",
    "        Devuelve el tiempo en segundos, en forma de número de coma\n",
    "        flotante.\n",
    "\n",
    "\n",
    "    `time.gmtime([secs])`\n",
    "\n",
    "        Convierte  un tiempo en segundos en una tupla de nueve elementos,\n",
    "        en los cuales el flag final es siempre 0. Si no se indica\n",
    "        el tiempo , se tomará el momento actual.\n",
    "\n",
    "    `time.localtime([secs])`\n",
    "\n",
    "        Como `gmtime()`, pero convertido a tiempo local. El indicador\n",
    "        final se pone a uno si en ese momento estaba activo el horario de\n",
    "        verano.\n",
    "\n",
    "    `time.mktime(t)`\n",
    "\n",
    "        La inversa de `localtime()`. Su argumento es\n",
    "        una tupla de 9 elementos (Como el flag final es obligatorio,\n",
    "        se puede poner -1 para indicar que no lo sabemos). Devuelve\n",
    "        un número de segundos unix.\n",
    "\n",
    "    `time.sleep(secs)`\n",
    "\n",
    "        Suspender la ejecución del programa durante el tiempo en segundos\n",
    "        indicado como parámetro.\n",
    "\n",
    "Ejercicio: Averiguar el día de la semana en que nacieron -O cualquier\n",
    "otra fecha que les interese-."
   ]
  },
  {
   "cell_type": "markdown",
   "metadata": {},
   "source": [
    "datetime\n",
    "~~~~~~~~~~~~~~~~~~~~~~~~~~~~~~~~~~~~~~~~~~~~~~~~~~~~~~~~~~~~~~~~~~~~~~~\n",
    "\n",
    "El módulo `datetime` continua donde lo deja `time`. Proporciona\n",
    "clases para trabajar con fechas y tiempos, soportando por\n",
    "ejemplo aritmética de fechas.\n",
    "\n",
    "La clase `datetime` sirva para trabajar con fechas y horas. Para\n",
    "trabajar con estos objetos hay que saber que podemos tener derivar dos\n",
    "tipos distintos de fechas/horas a partir de esta clase: las fechas\n",
    "absolutas o relativas.\n",
    "\n",
    "Una fecha absoluta dispone de toda la información necesaria para poder\n",
    "determinar, sin ninguna ambigüedad, su valor. Sabe por tanto en que\n",
    "zona horaría está y, lo que es más complicado, si está activo o  no el\n",
    "horario de verano. El horario de verano es un acuerdo político,\n",
    "administrado por cada país, por lo que suele ser cambiante, difícil\n",
    "de entender y, en general, caótico. La ventaja de este tipo de\n",
    "fecha/hora es que no está sujeta a interpretación.\n",
    "\n",
    "Una fecha relativa, por el contrario, no tienen toda la información\n",
    "necesaria para que su valor sea indiscutible, lo que dificulta, por\n",
    "ejemplo, hacer comparaciones. Determinar si una fecha relativa está\n",
    "referida al Tiempo Coordinado Universal (UTC), la fecha y hora local\n",
    "o la fecha y hora en alguna otra zona horaria depende por entero del\n",
    "programa, de la misma forma que es responsabilidad del programa\n",
    "determinar si un número representa metros, micras o litros. Las\n",
    "fechas/tiempo locales son fáciles de entender y de usar, pero tenemos\n",
    "que pagar el coste que supone ignorar ciertos aspectos  de la\n",
    "realidad.\n",
    "\n",
    "Los tipos disponibles en este módulo son:\n",
    "\n",
    "    `class datetime.date`\n",
    "\n",
    "        Una fecha local, que asume que el\n",
    "        :term:`Calendario Gregoriano` siempre ha estado y siempre\n",
    "        estará vigente. Tiene los atributos: `year`,\n",
    "        `month` y `day`.\n",
    "\n",
    "    `class datetime.time`\n",
    "\n",
    "        Una marca de tiempo ideal, no sujeta a ninguna fecha\n",
    "        en particular, y que asume que cada día tiene exactamente\n",
    "        24*60*60 segundos. Tiene los atributos: `hour`, `minute`,\n",
    "        `second`, `microsecond` y `tzinfo`.\n",
    "\n",
    "    `class datetime.datetime`\n",
    "\n",
    "        Combinación de fecha y hora, con los atributos: `year`,\n",
    "        `month`, `day`, `hour`, `minute`,\n",
    "        `second`, `microsecond` y `tzinfo`\n",
    "\n",
    "    `class datetime.timedelta`\n",
    "\n",
    "        Representa una duración: La diferencia entre dos objetos de\n",
    "        tipo `date` o `datetime`.\n",
    "\n",
    "Estos tipos de datos son todos inmutables."
   ]
  },
  {
   "cell_type": "markdown",
   "metadata": {},
   "source": [
    "Módulos para trabajar con ficheros xml y csv\n",
    "-----------------------------------------------------------------------"
   ]
  },
  {
   "cell_type": "markdown",
   "metadata": {},
   "source": [
    "xml\n",
    "~~~~~~~~~~~~~~~~~~~~~~~~~~~~~~~~~~~~~~~~~~~~~~~~~~~~~~~~~~~~~~~~~~~~~~~\n",
    "\n",
    "Los diferentes módulos de Python para trabajar con ficheros XML están\n",
    "agrupados en el paquete `xml`. Las dos formas más habituales de\n",
    "trabajar con un fichero XML son DOM (:term:`Document Object Model`) y\n",
    "SAX (:term:`Simple API for XML`). Ambas están disponibles en los\n",
    "módulos `xml.dom` y `xml.sax` respectivamente. Usando el modelo\n",
    "DOM tenemos acceso a todo el árbol de una sola vez, lo que puede ser\n",
    "costoso en terminos de almacenamiento en memoría. Con SAX procesamos\n",
    "el árbol paso a paso, respondiendo ante ciertos eventos, a medida que\n",
    "se van abriendo y cerrando los nodos. Con esta segunda forma perdemos\n",
    "cierta flexibilidad pero no tenemos el problema del almacenamiento\n",
    "completo del árbol en memoria.\n",
    "\n",
    "XML es un formato de datos jerárquico, con lo que la forma maás\n",
    "habitual de representarlo es un árbol. Para eso se definen las clases\n",
    "`ElementTree`, que representa todo el documento XML a tratar, y\n",
    "`Element`, que representa a un nodo dentro del árbol. Las\n",
    "interacciones con el documento como un todo, como por ejemplo leerlo o\n",
    "guardarlo en un fichero en disco, se hacen normalmente a nivel de\n",
    "`ElementTree`. Las interacciones con un elemento XML o sus\n",
    "subelementos se realizan en el nivel de `Element`.\n",
    "\n",
    "Usaremos para explicar estos módulos el siguiente documento XML:\n",
    "\n",
    ".. literalinclude:: ../ejemplos/country_data.xml\n",
    "    :language: xml\n",
    "\n",
    "Lo más básico es importar y leer estos datos desde un fichero.\n",
    "Lo podemos hacer con el siguiente código:\n",
    "\n",
    "    import xml.etree.ElementTree as ET\n",
    "    tree = ET.parse('country_data.xml')\n",
    "    root = tree.getroot()\n",
    "\n",
    "O también podemos leer los datos a partir de una variable\n",
    "de tipo string:\n",
    "\n",
    "    root = ET.fromstring(country_data_as_string)\n",
    "\n",
    "Como `root` es un elemento (un objeto de la clase `Element`),\n",
    "tiene una etiqueta (`tag`) y un conjunto de atributos, en forma de\n",
    "diccionario:\n",
    "\n",
    "    >>> root.tag\n",
    "    'data'\n",
    "    >>> root.attrib\n",
    "    {}\n",
    "    >>>\n",
    "\n",
    "Tambien tiene una serie de hijos, sobre los que podemos\n",
    "iterar:\n",
    "\n",
    "    >>> for child in root:\n",
    "    ...   print(child.tag, child.attrib)\n",
    "    ...\n",
    "    country {'name': 'Liechtenstein'}\n",
    "    country {'name': 'Singapore'}\n",
    "    country {'name': 'Panama'}\n",
    "    >>>\n",
    "\n",
    "También podemos acceder a los hijos usando índices:\n",
    "\n",
    "    >>> root[0][1].text\n",
    "    '2008'\n",
    "    >>>\n",
    "\n",
    "La clase `Element` define una serie de método que nos ayudan a\n",
    "recorrer recursivamente todo el subárbol que haya debajo de él (Sus\n",
    "hijos, nietos, etc...). Por ejemplo, el método `iter()`:\n",
    "\n",
    "    >>> for neighbor in root.iter('neighbor'):\n",
    "    ...   print(neighbor.attrib)\n",
    "    ...\n",
    "    {'name': 'Austria', 'direction': 'E'}\n",
    "    {'name': 'Switzerland', 'direction': 'W'}\n",
    "    {'name': 'Malaysia', 'direction': 'N'}\n",
    "    {'name': 'Costa Rica', 'direction': 'W'}\n",
    "    {'name': 'Colombia', 'direction': 'E'}\n",
    "    >>>\n",
    "\n",
    "El método `Element.findall()` localiza sólo los elementos de una\n",
    "determinada etiqueta que son hijos directos del nodo actual. El método\n",
    "`Element.find()` encuentra el primer hijo que cumpla esta misma\n",
    "condición. Con `Element.text` podemos acceder al contenido textual\n",
    "del elemento, y con `Element.get` podemos acceder a los valores de\n",
    "sus atributos:\n",
    "\n",
    "    >>> for country in root.findall('country'):\n",
    "    ...   rank = country.find('rank').text\n",
    "    ...   name = country.get('name')\n",
    "    ...   print(name, rank)\n",
    "    ...\n",
    "    Liechtenstein 1\n",
    "    Singapore 4\n",
    "    Panama 68\n",
    "    >>>\n",
    "\n",
    "Se pueden hacer operaciones de búsqueda aun más sofisticadas\n",
    "usando Xpath_."
   ]
  },
  {
   "cell_type": "markdown",
   "metadata": {},
   "source": [
    "csv\n",
    "~~~~~~~~~~~~~~~~~~~~~~~~~~~~~~~~~~~~~~~~~~~~~~~~~~~~~~~~~~~~~~~~~~~~~~~\n",
    "\n",
    "El formato de fichero llamado :term:CSV (*Comma Separated Values* o\n",
    "Valores separados por comas) es uno de los más habitualmente usados\n",
    "para el intercambio de información de hojas de cálculo o bases de\n",
    "datos. A pesar de eso, no hay ningún estandar ni norma escrita, así\n",
    "que el formato esta definido de forma más o menosinformal por\n",
    "el conjunto de aplicaciones que pueden leerlo o escribirlo.\n",
    "\n",
    "Esta carencia de estandares provoca que haya multiples, variadas y\n",
    "pequeñas diferencias entre los datos producidos o consumidos por\n",
    "diferentes aplicaciones. Por esta razón, trabajar con distinto\n",
    "ficheros CVS provinientes de distintas fuentes suele dar más de un\n",
    "dolor de cabeza. A pesar de estas divergencias (empezando por que\n",
    "caracter usar como separador de campos), es posible escribir un módulo\n",
    "que pueda maniputar de forma eficiente estos datos, ocultado al\n",
    "programador los detalles específicos de leer o escribir estos\n",
    "ficheros,\n",
    "\n",
    "El módulo csv permite escribir y leer estos archivos. El programador\n",
    "puede especificar, por ejemplo, \"escribe este archivo en el formato\n",
    "preferido por excel\", o \"lee este fichero como fuera de excel, pero\n",
    "usando el carácter `:` como separador de campos\". También nos\n",
    "permite definir nuestros propios formatos de uso particular, que el\n",
    "módulo denomina \"dialectos\".\n",
    "\n",
    "Las funciones `reader()` y `writer()` leen y escriben secuencias.\n",
    "\n",
    "Un ejemplo sencillo de lectura:\n",
    "\n",
    "    import csv\n",
    "    with open('some.csv', 'r') as f:\n",
    "        reader = csv.reader(f)\n",
    "        for row in reader:\n",
    "            print row\n",
    "\n",
    "Y uno de escritura:\n",
    "\n",
    "    import csv\n",
    "    datos = [\n",
    "        ('Leonardo', 'Azul', 1452),\n",
    "        ('Raphael', 'Rojo', 1483),\n",
    "        ('Michelangelo', 'Naranja', 1475),\n",
    "        ('Donatello', 'Violeta', 1386),\n",
    "        ]\n",
    "    with open('some.csv', 'wb') as f:\n",
    "        writer = csv.writer(f)\n",
    "        writer.writerows(datos)"
   ]
  },
  {
   "cell_type": "markdown",
   "metadata": {},
   "source": [
    "Módulos para trabajar con ficheros comprimidos\n",
    "-----------------------------------------------------------------------"
   ]
  },
  {
   "cell_type": "markdown",
   "metadata": {},
   "source": [
    "zipfile — Soporte para archivos ZIP\n",
    "~~~~~~~~~~~~~~~~~~~~~~~~~~~~~~~~~~~~~~~~~~~~~~~~~~~~~~~~~~~~~~~~~~~~~~~\n",
    "\n",
    "El archivo ZIP es un formato estándar de archivado y compresión de\n",
    "archivos. Este módulo proporciona mecanismos para crear, leer,\n",
    "escribir, modificar y listar archivos ZIP. Soporta trabajar con\n",
    "ficheros ZIP cifrados, pero por el momento no puede crearlos. El\n",
    "descifrado es particularmente lento, porque no está implementado en C.\n",
    "\n",
    "La función `is_zipfile()` devuelve un booleno indicando si el\n",
    "fichero que se le pasa como parámetro es un archivo ZIP o no.\n",
    "\n",
    "La clase `ZipFile` nos permite trabajar directamente con un archivo\n",
    "ZIP. Tiene métodos para obtener información sobre los ficheros\n",
    "contenidos en el archivo, así como para añadir nuevos ficheros a un\n",
    "archivo.\n",
    "\n",
    "Por ejemplo, para leer los nombres de los ficheros contenidos\n",
    "deontr de un archivo ZIP, podemos hacer:\n",
    "\n",
    "    import zipfile\n",
    "\n",
    "    zf = zipfile.ZipFile('example.zip', 'r')\n",
    "    print zf.namelist()"
   ]
  },
  {
   "cell_type": "markdown",
   "metadata": {},
   "source": [
    "gzip - Soporte para ficheros gzip\n",
    "~~~~~~~~~~~~~~~~~~~~~~~~~~~~~~~~~~~~~~~~~~~~~~~~~~~~~~~~~~~~~~~~~~~~~~~\n",
    "\n",
    "El módulo `gzip` nos proporciona los medios para comprimir o\n",
    "descomprimir ficheros igual que lo hacen los programas unix `gzip` y\n",
    "`gunzip`. Al contrario que con el formato ZIP,  el formato gzip solo\n",
    "permite comprimir y descomprimir un fichero, porque no tiene capacidad\n",
    "de archivado (Es decir, la posibilidad de añadir varios ficheros\n",
    "dentro del archivo).\n",
    "\n",
    "El módulo `gzip` proporciona la clase `GzipFile`, que imita a un\n",
    "objeto de tipo `file` de Python. Los objetos instanciados de esta\n",
    "clase leen y escriben ficheros con el formato gzip. La compresión y\n",
    "descompresión es realizada automáticamente, por lo que el programandor\n",
    "puede trabajar con el fichero como si fuera un fichero normal.\n",
    "\n",
    "Un ejemplo  de como leer un fichero comprimido:\n",
    "\n",
    "    import gzip\n",
    "    f = gzip.open('file.txt.gz', 'rb')\n",
    "    file_content = f.read()\n",
    "    f.close()\n",
    "\n",
    "Como crear un fichero comprimido con gzip:\n",
    "\n",
    "    import gzip\n",
    "    content = \"Lots of content here\"\n",
    "    f = gzip.open('file.txt.gz', 'wb')\n",
    "    f.write(content)\n",
    "    f.close()\n",
    "\n",
    "Como comprimir un fichero ya existente:\n",
    "\n",
    "    import gzip\n",
    "    f_in = open('file.txt', 'rb')\n",
    "    f_out = gzip.open('file.txt.gz', 'wb')\n",
    "    f_out.writelines(f_in)\n",
    "    f_out.close()\n",
    "    f_in.close()"
   ]
  },
  {
   "cell_type": "markdown",
   "metadata": {},
   "source": [
    "Internet\n",
    "-----------------------------------------------------------------------"
   ]
  },
  {
   "cell_type": "markdown",
   "metadata": {},
   "source": [
    "urllib2 — Librería para abrir URLs\n",
    "~~~~~~~~~~~~~~~~~~~~~~~~~~~~~~~~~~~~~~~~~~~~~~~~~~~~~~~~~~~~~~~~~~~~~~~\n",
    "\n",
    ".. Note:: Diferencias entre Python 2.x / Python 3.x\n",
    "\n",
    "    El módulo `urllib2` ha sido dividido en dos en Python 3.x:\n",
    "    `urllib.request` y `urllib.error`. La herramienta `2to3`\n",
    "    adapta automáticamente estos imports.\n",
    "\n",
    "Este módulo nos permite abrir y trabajar con direcciones de internet\n",
    "(URLs). La función más usada del módulo es la siguiente:\n",
    "\n",
    "    urllib2.urlopen(url[, data][, timeout])\n",
    "\n",
    "Que abre la url indicada, dandonos un objeto similar a un fichero.\n",
    "\n",
    "En el parámetro opcional `data` podemos incluir información\n",
    "adicional  que requieren ciertas peticiones web, especialmente\n",
    "`POST`. Si se incluye, `data` debe estar formateada con el\n",
    "estándar  `application/x-www-form-urlencoded`, algo que podemos\n",
    "conseguir usando la función `urllib2.urlencode()`, que acepta como\n",
    "parámetro un  diccionario o una secuencia de parejas (2-tuplas), y\n",
    "deveulve una string en dicho formato.\n",
    "\n",
    "El otro parámetro opcional, `timeout`, indica el tiempo en segundos\n",
    "que debemos esperar antes de descartar por imposible una conexión.\n",
    "\n",
    "El objeto devuelto, además de comportarse como un archivo, dispone de\n",
    "tres métodos adicionales:\n",
    "\n",
    "    `geturl()`\n",
    "\n",
    "        Devuelve la URL del recurso recuperado. Esto se utiliza\n",
    "        noprmalmente para determinar si ha habido alguna clase de\n",
    "        recirección.\n",
    "\n",
    "    `info()`\n",
    "\n",
    "        Devuelve la meta-información sobre el recurso solicitado, como\n",
    "        las cabeceras, en forma de una instancia de la clase\n",
    "        `mimetools.Message`.\n",
    "\n",
    "    `getcode()`\n",
    "\n",
    "        Devuelve el código de estado del protocolo HTTP de la\n",
    "        respuesta.\n",
    "\n",
    "Ejemplo: Salvar una página de Internet en un fichero local:\n",
    "\n",
    "    import urllib2\n",
    "\n",
    "    url = 'http://www.python.org/'\n",
    "    f = urllib2.urlopen(url)\n",
    "    with open('python.html', 'w') as salida:\n",
    "        for linea in f.readlines():\n",
    "            salida.write(linea)\n",
    "    f.close()"
   ]
  },
  {
   "cell_type": "markdown",
   "metadata": {},
   "source": [
    "smtplib — cliente de protocolo SMTP\n",
    "~~~~~~~~~~~~~~~~~~~~~~~~~~~~~~~~~~~~~~~~~~~~~~~~~~~~~~~~~~~~~~~~~~~~~~\n",
    "\n",
    "El módulo `smtplib` define un cliente del protocolo :term:SMTP\n",
    "(*Simple Mail TRansfer Protocol*), que puede ser usado para enviar\n",
    "correo  electrónico a cualquier ordenador en Internet que esté\n",
    "ejecutando un demonio SMTP o ESMTP.\n",
    "\n",
    "El siguiente ejemplo compone un mensaje, ayudándose de la clase\n",
    "`Message` definido en `email.message`. Las variables\n",
    "`gmail_user` y `gmail_password` están definidas en el código, lo\n",
    "que quizá no sea la mejor de las ideas posibles. Una vez creado el\n",
    "mensaje, se realiza la conexión al servidor de correo, que en este\n",
    "caso es el de Google Mail. La conexión en este caso es un poco más\n",
    "complicada de lo que sería con un servidor SMTP local, en la que la\n",
    "seguridad a lo mejor es un poco más laxa:\n",
    "\n",
    ".. literalinclude:: ../ejemplos/enviar_correo.py\n",
    "    :lines: 9-31\n",
    "\n",
    "Aunque el formato de los mensajes es realmente sencillo, usar la clase\n",
    "`Message` nos permite incluir de forma rápida y sencilla\n",
    "funcionalidades más elaboradas, como anexar ficheros o enviar\n",
    "múltiples versiones del mismo contenido."
   ]
  },
  {
   "cell_type": "markdown",
   "metadata": {},
   "source": [
    "SimpleHTTPServer — Simple HTTP request handler\n",
    "~~~~~~~~~~~~~~~~~~~~~~~~~~~~~~~~~~~~~~~~~~~~~~~~~~~~~~~~~~~~~~~~~~~~~~~\n",
    "\n",
    ".. Note:: Diferencias entre Python 2.x / Python 3.x\n",
    "\n",
    "    En Python3.x el módulo SimpleHTTPServer ha sido asimilado\n",
    "    por `http.server`. La herramienta `2to3` adapta\n",
    "    automáticamente estos imports.\n",
    "\n",
    "Este módulo define una serie de clases que nos permiten  implementar\n",
    "nuestros propios servidores web. La clase SimpleHTTPRequestHandler\n",
    "(Definida en el módulo `SimpleHTTPServer` en Python 2.x y en\n",
    "`http.server` en Python 3.x) es un servidor de ejemplo básico que\n",
    "sirve los ficheros del directorio donde se ha ejecutado, mapeando la\n",
    "estrucura de directorios como páginas web.\n",
    "\n",
    "La mayor parte del trabajo, como analizar las peticiones, por ejemplo,\n",
    "lo hace la clase de la que deriva, `BaseHTTPServer`, la clase de\n",
    "ejemplo solo tienen que sobreescribir los métodos `do_GET()` y\n",
    "`do_HEAD()`.\n",
    "\n",
    "El siguiente programa usa la clase de ejemplo para arrancar un\n",
    "servidor web básico, escuchando en la máquina local y en el puerto\n",
    "8000:\n",
    "\n",
    "    import SimpleHTTPServer\n",
    "    import SocketServer\n",
    "\n",
    "    PORT = 8000\n",
    "\n",
    "    Handler = SimpleHTTPServer.SimpleHTTPRequestHandler\n",
    "    httpd = SocketServer.TCPServer((\"\", PORT), Handler)\n",
    "    print(\"serving at port\", PORT)\n",
    "    httpd.serve_forever()\n",
    "\n",
    "Pero puede ser aun más fácil, usando la opcion `-m` en el \n",
    "interprete para que ejecute el módulo como si fuera\n",
    "el programa principal, y opcionalmente indicando el número de\n",
    "puerto al que se vincula el servidor.\n",
    "\n",
    "Para Python 2.x:\n",
    "\n",
    "    $ python -m SimpleHTTPServer 8000\n",
    "\n",
    "Para Python 3.x:\n",
    "\n",
    "    $ python3 -m http.server 8000"
   ]
  },
  {
   "cell_type": "markdown",
   "metadata": {
    "deletable": true,
    "editable": true
   },
   "source": [
    "hashlib - hashes y códigos de verificación e integridad\n",
    "~~~~~~~~~~~~~~~~~~~~~~~~~~~~~~~~~~~~~~~~~~~~~~~~~~~~~~~~~~~~~~~~~~~~~~~\n",
    "\n",
    "El módulo `hashlib` define una interfaz común a una serie de\n",
    "algoritmos conocidos como *funciones de hash criptográficos* o\n",
    "*funciones resumen*: SHA1, SHA224, SHA256,  SHA384 y SHA512, así como\n",
    "el algoritmo MD5 de RSA (Definido como estándar en el RFC 1321).\n",
    "\n",
    "Su uso en muy sencillo: Por ejemplo, usamos `md5()` para crear un\n",
    "objeto. A partir de ahi, podemos ir actualizando los datos sobre los\n",
    "que se tienen que hacer el *hash* con sucesivas llamadas a su método\n",
    "`update()`. Hacer una serie de llamadas sucesivas con partes del\n",
    "texto es equivalente a hacer un solo `update()` con todo el texto\n",
    "concatenado en un único valor; en otras palabras:\n",
    "\n",
    "    m.update(a); m.update(b)\n",
    "\n",
    "es equivalente a:\n",
    "\n",
    "    m.update(a+b)\n",
    "\n",
    "Durante cualquier momento del proceso se puede pedir el código de\n",
    "*hash*. Por ejemplo, para obtener el *hash* criptográfico de la frase\n",
    "\"Su teoría es descabellada, pero no lo suficente para ser correcta.\",\n",
    "podemos hacer:\n",
    "\n",
    ".. literalinclude:: ../ejemplos/hash_md5.py\n",
    "    :lines: 9-18\n",
    "\n",
    "El código obtenido depende de los datos suministrados, de forma que\n",
    "cualquier alteración, por mínima que sea, en el texto original,\n",
    "provocará una alteración enorme en el código de salida. Por ejemplo,\n",
    "veamos como cambia el resultado simplemente cambiando una coma de lugar\n",
    "[#]_:\n",
    "\n",
    "    >>> from hashlib import md5\n",
    "    >>> print(md5('Perdón imposible, ejecutar prisionero').hexdigest())\n",
    "    eafd88022b53be13af86520a6a221024\n",
    "    >>> print(md5('Perdón, imposible ejecutar prisionero').hexdigest())\n",
    "    2b4360dbca5fd7b7b5df3fc4af7bab24\n",
    "\n",
    "\n",
    ".. rubric:: Footnotes\n",
    "\n",
    "\n",
    ".. [#] Lo que conduce a un problema llamado \"fuga de memoria\" (*memory\n",
    "    leaks*): un error de software que ocurre cuando un bloque de memoria\n",
    "    reservada no es liberada en un programa de computación, habitualmente porque se pierden todas las referencias a esa área de memoria\n",
    "    antes de haberse liberado. Dependiendo de la cantidad de memoria\n",
    "    perdida y el tiempo que el programa siga en ejecución, este problema\n",
    "    puede llevar al agotamiento de la memoria disponible en la\n",
    "    computadora.\n",
    "\n",
    ".. [#] El ejemplo se basa en una anécdota apócrifa atribuida al \n",
    "    emperador Carlos V, de la que circulan varias versiones. Ésta es \n",
    "    una de ellas:\n",
    "\n",
    "    Estando el rey en el teatro, le recordaron que tenía que decidir\n",
    "    si indultaba o no a un condenado a muerte, decisión que había\n",
    "    aplazado en su última audiencia, pero que ahora corría prisa, pues\n",
    "    la ejecución estaba prevista para el día siguiente. Como\n",
    "    respuesta, escribió en un billete: \"Perdón imposible ejecutar al\n",
    "    reo\". El secretario que llevaba el papel se dió cuenta de que la\n",
    "    vida del prisionero estaba en sus manos, y dependía de dónde se\n",
    "    añadiese la coma que, evidentemente, faltaba. Si se decía \"Perdón\n",
    "    imposible, ejecutar al reo\", el condenado era hombre muerto, pero\n",
    "    si se escribía \"Perdón, imposible ejecutar al reo\", se salvaba.\n",
    "\n",
    ".. _XPath: http://en.wikipedia.org/wiki/XPath"
   ]
  },
  {
   "cell_type": "code",
   "execution_count": null,
   "metadata": {
    "collapsed": true,
    "deletable": true,
    "editable": true
   },
   "outputs": [],
   "source": []
  }
 ],
 "metadata": {
  "kernelspec": {
   "display_name": "Python 3",
   "language": "python",
   "name": "python3"
  },
  "language_info": {
   "codemirror_mode": {
    "name": "ipython",
    "version": 3
   },
   "file_extension": ".py",
   "mimetype": "text/x-python",
   "name": "python",
   "nbconvert_exporter": "python",
   "pygments_lexer": "ipython3",
   "version": "3.5.2"
  }
 },
 "nbformat": 4,
 "nbformat_minor": 2
}
