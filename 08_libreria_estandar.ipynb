{
 "cells": [
  {
   "cell_type": "markdown",
   "metadata": {},
   "source": [
    "## <a name=\"top\"></a>Módulos de la librería estándar\n",
    "\n",
    "\n",
    "+ Librerías para mejorar el rendimiento\n",
    "\n",
    "  - [timeit](#timeit): Medidas de rendimiento</a>\n",
    "\n",
    "  - [profile](#profile): Estadísticas de ejecución</a>\n",
    "  \n",
    "+ Depuración y búsqueda de errores\n",
    "\n",
    "  - [logging](#logging): Mensajes de logging\n",
    "  \n",
    "  - [traceback](#traceback): Trazas d ejecución\n",
    "  \n",
    "  - [pdb](#pdb): Debugger\n",
    "  \n",
    "+ De uso general\n",
    "\n",
    "  - [re](#re) : Expresiones regulares\n",
    "  \n",
    "  - [os](#os) : Llamadas al sistema operativo\n",
    "  \n",
    "  - [sys](#sys) : configuración específica del sistema\n",
    "  \n",
    "  - [difflib](#difflib) : Buscar diferencias entre secuencias\n",
    "  \n",
    "  - [collections](#collections) : Otras estructuras de datos especiales\n",
    "  \n",
    "  - [random](#random) : Trabajar con números aleatorios\n",
    "  \n",
    "+ Fechas y tiempos\n",
    "\n",
    "  - [time](#time) - Trabajar con fechas y tiempos a bajo nivel\n",
    "  \n",
    "  - [datetime](#datetime) - Clases para fechas, tiempos, timstamps y deltas (diferencias de tiempos)\n",
    "  \n",
    "+ Ficheros\n",
    "\n",
    "  - [xml](#xml) - Trabajar con ficheros XML\n",
    "  \n",
    "  - [csv](#csv) -  Trabajar con ficheros CSV\n",
    "\n",
    "  - [zipfile](#zipfile) - Trabajar con archivos ZIP\n",
    "\n",
    "  - [gzip](#gzip) - Trabajar con archivos GZIP\n",
    "  \n",
    "+ Internet\n",
    "\n",
    "  - [urllib.request](#urllib.request) - Trabajar con recursos de Internet\n",
    "  \n",
    "  - [smtplib](#smtplib) - Correo electrónico\n",
    "  \n",
    "  - [http.server](#http.server) - Servidor web\n",
    "  \n",
    "  - [hashlib](#hashlib) - _Hashes_ y códigos de verificación e integridad"
   ]
  },
  {
   "cell_type": "markdown",
   "metadata": {},
   "source": [
    "### timeit - Optimización de rendimiento  <a href=\"#top\">▲</a>\n",
    "\n",
    "\n",
    "Para algunos usuarios de Python el rendimiento es una preocupación\n",
    "fnudamental, y están interesados es poder medir la diferencia\n",
    "de rendimiento entre opciones alternativas. Python proporciona\n",
    "varias maneras de poder resolver estas preguntas, siendo una de las\n",
    "más sencillas el módulo `timeit`.\n",
    "\n",
    "pero antes, un consejo:\n",
    "\n",
    "> **La optimización prematura es la raíz de todo mal**\n",
    "> Donald Knuth \"Structured Programming with go to Statements\".\n",
    "\n",
    "> Hay que entender que sin medidas precisas y globales del rendimiento de la aplicación, no debemos optimizar. Hay optimizaciones triviales, como por  ejemplo no concatenar cadenas de texto (mejor ir añadiendolas a una lista y usar `join()` para obtener la cadena de texto final), pero a no ser que sean realmente obvias, las optimizaciones deben esperar hasta que podamos medir el desempeño en un contexto global. La herramienta que realiza estas medidas se conocen como *profiler*.\n",
    "\n",
    "> El peligro de optimizar sin este conocimiento es que no sabemos que parte del código es la que realmente demanda nuestros esfuerzos de mejora. Podemos acabar complicando una parte del código que, en realidad, solo es responsable del 1% del tiempo de ejecución. Eso significa que si consiguieramos, por ejemplo, optimizar esa parte del código para que vaya el doble de rápido (Una optimización del 200%, realmente  impresionaante y nada habitual) el resultado neto sería una mejora de un 0.005% en el rendimiento total. De hecho, si consiguieramos una mejora espectacular, que ese código se ejecute en, digamos, 0.001 nanosegundos, aun así, la mejora en el redimiento total nunca superará el 1%. A cambio, tenemos software más complejo, más difícil de leer y con mayor capacidad potencial de errores.\n",
    "\n",
    "El módulo **`timeit`** permite obtener una medida fiable de los los tiempos de ejecución de un fragmento de código Python.\n",
    "\n",
    "Vimos en su día que había dos formas de intercambiar los valores de dos variables, usando una variable auxiliar o usando el mecanismo de empaquetado de tuplas:"
   ]
  },
  {
   "cell_type": "code",
   "execution_count": 1,
   "metadata": {},
   "outputs": [],
   "source": [
    "# Usando una variable auxiliar\n",
    "a = 7\n",
    "b = 12\n",
    "temp = a\n",
    "a = b\n",
    "b = temp\n",
    "assert a == 12\n",
    "assert b == 7\n",
    "\n",
    "# Usando tuplas\n",
    "a = 7\n",
    "b = 12\n",
    "a, b = b, a\n",
    "assert a == 12\n",
    "assert b == 7"
   ]
  },
  {
   "cell_type": "markdown",
   "metadata": {},
   "source": [
    "Pero ¿cuál será más rápida? Usando el módulo `timeit` podemos\n",
    "salir de dudas:"
   ]
  },
  {
   "cell_type": "code",
   "execution_count": 2,
   "metadata": {},
   "outputs": [
    {
     "name": "stdout",
     "output_type": "stream",
     "text": [
      "Con variable auxiliar: 0.021812570000065534\n",
      "Con tuplas: 0.017080372000009447\n"
     ]
    }
   ],
   "source": [
    "from timeit import Timer\n",
    "print('Con variable auxiliar:', Timer('t=a; a=b; b=t', 'a=7; b=12').timeit())\n",
    "print('Con tuplas:', Timer('a,b = b,a', 'a=7; b=12').timeit())"
   ]
  },
  {
   "cell_type": "markdown",
   "metadata": {},
   "source": [
    "El intercambio por medio de tuplas es ligeramente más rápido.\n",
    "\n",
    "El módulo timeit tambien puede ser llamada con la opción -m para que se ejecute como utilidad de línea de comandos; espera como entrada un fragmento de código:"
   ]
  },
  {
   "cell_type": "code",
   "execution_count": 3,
   "metadata": {},
   "outputs": [
    {
     "name": "stdout",
     "output_type": "stream",
     "text": [
      "1000000 loops, best of 3: 1.03 usec per loop\r\n"
     ]
    }
   ],
   "source": [
    "!python3 -m timeit \"for i in range(100): pass\""
   ]
  },
  {
   "cell_type": "markdown",
   "metadata": {},
   "source": [
    "Desde Jupyter notebook tenemos una orden mágica que hace lo mismo: `%timeit`"
   ]
  },
  {
   "cell_type": "code",
   "execution_count": 4,
   "metadata": {},
   "outputs": [
    {
     "name": "stdout",
     "output_type": "stream",
     "text": [
      "395 µs ± 11.2 µs per loop (mean ± std. dev. of 7 runs, 1000 loops each)\n"
     ]
    }
   ],
   "source": [
    "def f():\n",
    "    acc = 0\n",
    "    for i in range(10000):\n",
    "        acc += i\n",
    "        \n",
    "%timeit f()"
   ]
  },
  {
   "cell_type": "markdown",
   "metadata": {},
   "source": [
    "### <a name=\"profile\"></a> Los módulos profile y cprofile <a href=\"#top\">▲</a>\n",
    "\n",
    "Los módulos `profile`, `cProfile` y `pstats` son más avanzados que `timeit`. Además de medir tiempos de ejecución, nos permiten identificar las **secciones críticas**, es decir, nos permiten identificar aquellas partes del código que mas tiempo/ciclos de CPU consumen, de forma que podemos concentrarnos es optimizar las partes adecuadas.\n",
    "\n",
    "Los módulos `profile` y `cProfile` (`cProfile` es simplemente una versión de `profile` escrita en C para  mejorar su rendimiento) nos dan un medio para recolectar y analizar estadísticas acerca del consumo del procesador que hace nuestro código Python.\n",
    "\n",
    "El método más directo de análisis en el módulo `profile` es la función `run()`. Acepta como parámetro una cadena de texto con código fuente Python y crea un informe del tiempo gastado en cada una de las diferentes líneas de código, a medida que se ejecutan las sentencias.\n",
    "\n",
    "Nuestra primera versión recursiva de Fibonacci nos será muy útil para comprobar el uso de estas herramientas, ya que su rendimiento se puede mejorar significativamente."
   ]
  },
  {
   "cell_type": "code",
   "execution_count": 5,
   "metadata": {},
   "outputs": [
    {
     "name": "stdout",
     "output_type": "stream",
     "text": [
      "[0, 1, 1, 2, 3, 5, 8, 13, 21, 34, 55, 89, 144, 233, 377, 610, 987, 1597, 2584, 4181, 6765, 10946, 17711]\n",
      "\n",
      "         150142 function calls (118 primitive calls) in 0.176 seconds\n",
      "\n",
      "   Ordered by: standard name\n",
      "\n",
      "   ncalls  tottime  percall  cumtime  percall filename:lineno(function)\n",
      "        4    0.000    0.000    0.000    0.000 :0(acquire)\n",
      "       23    0.000    0.000    0.000    0.000 :0(append)\n",
      "        1    0.000    0.000    0.176    0.176 :0(exec)\n",
      "       22    0.000    0.000    0.000    0.000 :0(extend)\n",
      "        3    0.000    0.000    0.000    0.000 :0(getpid)\n",
      "        3    0.000    0.000    0.000    0.000 :0(isinstance)\n",
      "        2    0.000    0.000    0.000    0.000 :0(print)\n",
      "        1    0.000    0.000    0.000    0.000 :0(setprofile)\n",
      "        4    0.000    0.000    0.000    0.000 :0(urandom)\n",
      "     23/1    0.000    0.000    0.175    0.175 <ipython-input-5-4fc1471ceb09>:11(fib_seq)\n",
      "150025/23    0.175    0.000    0.175    0.008 <ipython-input-5-4fc1471ceb09>:3(fib)\n",
      "        1    0.000    0.000    0.176    0.176 <string>:1(<module>)\n",
      "        4    0.000    0.000    0.000    0.000 iostream.py:180(schedule)\n",
      "        3    0.000    0.000    0.000    0.000 iostream.py:284(_is_master_process)\n",
      "        3    0.000    0.000    0.000    0.000 iostream.py:297(_schedule_flush)\n",
      "        3    0.000    0.000    0.000    0.000 iostream.py:342(write)\n",
      "        4    0.000    0.000    0.000    0.000 iostream.py:87(_event_pipe)\n",
      "        1    0.000    0.000    0.176    0.176 profile:0(print(fib_seq(22)); print())\n",
      "        0    0.000             0.000          profile:0(profiler)\n",
      "        4    0.000    0.000    0.000    0.000 threading.py:1060(_wait_for_tstate_lock)\n",
      "        4    0.000    0.000    0.000    0.000 threading.py:1102(is_alive)\n",
      "        4    0.000    0.000    0.000    0.000 threading.py:504(is_set)\n",
      "\n",
      "\n"
     ]
    }
   ],
   "source": [
    "import profile\n",
    "\n",
    "def fib(n):\n",
    "    if n == 0:\n",
    "        return 0\n",
    "    elif n == 1:\n",
    "        return 1\n",
    "    else:\n",
    "        return fib(n-1) + fib(n-2)\n",
    "\n",
    "def fib_seq(n):\n",
    "    seq = [ ]\n",
    "    if n > 0:\n",
    "        seq.extend(fib_seq(n-1))\n",
    "    seq.append(fib(n))\n",
    "    return seq\n",
    "\n",
    "profile.run('print(fib_seq(22)); print()')\n"
   ]
  },
  {
   "cell_type": "markdown",
   "metadata": {},
   "source": [
    "El informe estandar muestra primero una línea de resumen y luego un listado de detalle para cada una de las funciones ejecutadas:\n",
    "\n",
    "Esta primera versión se toma **unas 150.000** llamadas a diferentes funciones,\n",
    "tomando en total su ejecución más o menos **0.175s** (En mi máquina, obviamente\n",
    "los datos serán diferentes en entornos distintos).  El\n",
    "hecho de que solo haya 23 llamadas primitivas indica que el resto, es\n",
    "decir, la mayor parte de las llamadas, son llamadas recursivas. Los\n",
    "detalles sobre como se gasta el tiempo en cada función vienen dados\n",
    "por los siguientes valores, correspondientes a las columnas del\n",
    "informe: \n",
    "\n",
    "- Número de llamadas (`ncalls`)\n",
    "- El tiempo total gastado en la función (`tottime`)\n",
    "- El tiempo medio consumido por cada llamada (`percall = ncalls/tottime`)\n",
    "- El tiempo acumulado (`cumtime`)\n",
    "- La proporción entre tiempo acumulado y llamadas a primitivas.\n",
    "\n",
    "Cuando hay dos números en la primera columna, indica que la llamada es recursiva. El primer número es el total de llamadas y el segundo el número de ellas que no son primitivas (Es decir, que se invocaron recursivamente). Por tanto, cuando una función no es recursiva, ambos números tienen que ser iguales.\n",
    "\n",
    "Vemos claramente que la mayor parte del tiempo se ha gastado en llamadas a la función `fib`. Si añadimos un decorador de tipo [memoize](https://en.wikipedia.org/wiki/Memoization) parece que podríamos eliminar la mayoría de esas llamadas y obtener una mejora de rendimiento notable:"
   ]
  },
  {
   "cell_type": "code",
   "execution_count": 6,
   "metadata": {},
   "outputs": [
    {
     "name": "stdout",
     "output_type": "stream",
     "text": [
      "[0, 1, 1, 2, 3, 5, 8, 13, 21, 34, 55, 89, 144, 233, 377, 610, 987, 1597, 2584, 4181, 6765]\n",
      "\n",
      "         191 function calls (133 primitive calls) in 0.001 seconds\n",
      "\n",
      "   Ordered by: standard name\n",
      "\n",
      "   ncalls  tottime  percall  cumtime  percall filename:lineno(function)\n",
      "        4    0.000    0.000    0.000    0.000 :0(acquire)\n",
      "       21    0.000    0.000    0.000    0.000 :0(append)\n",
      "        1    0.000    0.000    0.001    0.001 :0(exec)\n",
      "       20    0.000    0.000    0.000    0.000 :0(extend)\n",
      "        3    0.000    0.000    0.000    0.000 :0(getpid)\n",
      "        3    0.000    0.000    0.000    0.000 :0(isinstance)\n",
      "        2    0.000    0.000    0.000    0.000 :0(print)\n",
      "        1    0.000    0.000    0.000    0.000 :0(setprofile)\n",
      "        4    0.000    0.000    0.000    0.000 :0(urandom)\n",
      "       21    0.000    0.000    0.000    0.000 <ipython-input-6-a612d05d08e6>:14(fib)\n",
      "     21/1    0.000    0.000    0.000    0.000 <ipython-input-6-a612d05d08e6>:25(fib_seq)\n",
      "    59/21    0.000    0.000    0.000    0.000 <ipython-input-6-a612d05d08e6>:7(__call__)\n",
      "        1    0.000    0.000    0.001    0.001 <string>:1(<module>)\n",
      "        4    0.000    0.000    0.000    0.000 iostream.py:180(schedule)\n",
      "        3    0.000    0.000    0.000    0.000 iostream.py:284(_is_master_process)\n",
      "        3    0.000    0.000    0.000    0.000 iostream.py:297(_schedule_flush)\n",
      "        3    0.000    0.000    0.000    0.000 iostream.py:342(write)\n",
      "        4    0.000    0.000    0.000    0.000 iostream.py:87(_event_pipe)\n",
      "        1    0.000    0.000    0.001    0.001 profile:0(print(fib_seq(20)); print())\n",
      "        0    0.000             0.000          profile:0(profiler)\n",
      "        4    0.000    0.000    0.000    0.000 threading.py:1060(_wait_for_tstate_lock)\n",
      "        4    0.000    0.000    0.000    0.000 threading.py:1102(is_alive)\n",
      "        4    0.000    0.000    0.000    0.000 threading.py:504(is_set)\n",
      "\n",
      "\n"
     ]
    }
   ],
   "source": [
    "class memoize:\n",
    "\n",
    "    def __init__(self, function):\n",
    "        self.function = function\n",
    "        self.memoized = {}\n",
    "\n",
    "    def __call__(self, *args):\n",
    "        try:\n",
    "            return self.memoized[args]\n",
    "        except KeyError:\n",
    "            self.memoized[args] = self.function(*args)\n",
    "            return self.memoized[args]\n",
    "\n",
    "@memoize\n",
    "def fib(n):\n",
    "    # from literateprograms.org\n",
    "    # http://bit.ly/hlOQ5m\n",
    "    if n == 0:\n",
    "        return 0\n",
    "    elif n == 1:\n",
    "        return 1\n",
    "    else:\n",
    "        return fib(n-1) + fib(n-2)\n",
    "\n",
    "def fib_seq(n):\n",
    "    seq = [ ]\n",
    "    if n > 0:\n",
    "        seq.extend(fib_seq(n-1))\n",
    "    seq.append(fib(n))\n",
    "    return seq\n",
    "\n",
    "if __name__ == '__main__':\n",
    "    profile.run('print(fib_seq(20)); print()')"
   ]
  },
  {
   "cell_type": "markdown",
   "metadata": {},
   "source": [
    "Efectivamante, como recordamos el valor de fibbonaci en cada nivel, evitamos la mayoría de las llamadas recursivas, y el número de llamadas descienda hasta 191, mientras que el tiempo total baja a 0.001 segundo:\n",
    "\n",
    "Si el código que queremos probar requiere numerosas variables,  la cadena de texto con las inicializaciones puede ser incomoda. Podemos, en cambio, definir un contexto que almacene esas variables, y usar `runctx` en vez de `run`. En el siguiente ejemplo, el valor de `n` se toma directamente del contexto que hemos pasado como tercer parámetro:"
   ]
  },
  {
   "cell_type": "code",
   "execution_count": 7,
   "metadata": {
    "scrolled": true
   },
   "outputs": [
    {
     "name": "stdout",
     "output_type": "stream",
     "text": [
      "         13 function calls in 0.000 seconds\n",
      "\n",
      "   Ordered by: standard name\n",
      "\n",
      "   ncalls  tottime  percall  cumtime  percall filename:lineno(function)\n",
      "        8    0.000    0.000    0.000    0.000 :0(append)\n",
      "        1    0.000    0.000    0.000    0.000 :0(exec)\n",
      "        1    0.000    0.000    0.000    0.000 :0(setprofile)\n",
      "        1    0.000    0.000    0.000    0.000 <string>:1(<module>)\n",
      "        1    0.000    0.000    0.000    0.000 fibo_memoized.py:8(fib)\n",
      "        1    0.000    0.000    0.000    0.000 profile:0(fib(n))\n",
      "        0    0.000             0.000          profile:0(profiler)\n",
      "\n",
      "\n"
     ]
    }
   ],
   "source": [
    "import profile\n",
    "from fibo_memoized import fib\n",
    "profile.runctx('fib(n)', globals(), {'n': 22})"
   ]
  },
  {
   "cell_type": "markdown",
   "metadata": {},
   "source": [
    "Podemos ejecutar una análisis con `profile` y almacenarlo en un fichero, en vez de imprimirlo, para eso indicamos el nombre del fichero en la llamada a `run|runctx`. Con la clase `Stats`, definida en el módulo `pstats`, podemos recuperar la información deesos ficheros y formatearla de diferentes maneras. También podemos combiar varios conjuntos de resultados.\n",
    "\n",
    "La clase Stats nos permite reordenar y analizar los datos de rendimiento capturados por `profile`. Por ejemplo, podemos\n",
    "ordenar los resultados por orden de tiempo acumulado, y luego listar solo las 10 primeras de la lista, que nos daría unos\n",
    "buenos candidatos para optimizar."
   ]
  },
  {
   "cell_type": "markdown",
   "metadata": {},
   "source": [
    "## Depuración y búsqueda de errores\n",
    "\n",
    "Varios módulos nos ayudan a encontrar los errores en el programa. Los más importantes son `logging`, `traceback`, `pdb` y `trace`."
   ]
  },
  {
   "cell_type": "markdown",
   "metadata": {},
   "source": [
    "### <a name=\"logging\"></a> El módulo logging <a href=\"#top\">▲</a>\n",
    "\n",
    "El módulo `logging` define un sistema flexible y homogeneo para añadir un sistema de registro de eventos o _log_ a\n",
    "nuestras aplicaciones o librerías. Desgraciadamente, puede ser un poco confuso de entender al principio. Crear un log es relativamente fácil, pero la ventaja de usar el API definido en las librerías estándar es que todos los módulos pueden participar en un log común, de forma que podamos integrar nuestros mensajes con módulos de terceros.\n",
    "\n",
    "El módulo define una serie de funciones habituales es sistemas de _logging_: `debug()`, `info()`, `warning()`, `error()` y `critical()`. Cada función tiene un uso dependiendo de la gravedad del mensaje a emitir; estos niveles, de menor a mayor severidad, se describen en la siguiente tabla:\n",
    "\n",
    "| Nivel    | A usar para                                                                |\n",
    "|----------|----------------------------------------------------------------------------|\n",
    "| DEBUG    | Información muy detallada, para diagnosticar problemas y encontrar errores |\n",
    "| INFO     | Confirmación de que las cosas están funcionando como deben.                |\n",
    "| WARNING  | Indicar de que ha pasado algo extraño o se prevé un problema futuro        |\n",
    "| ERROR    | Se ha producido un error grave, el programa no puede continuar             |\n",
    "| CRITICAL | Se ha producido un error aun más grave, inesperado, el prorgama termina    |\n",
    "         \n",
    "Un ejemplo muy sencillo:"
   ]
  },
  {
   "cell_type": "code",
   "execution_count": 8,
   "metadata": {},
   "outputs": [
    {
     "name": "stderr",
     "output_type": "stream",
     "text": [
      "WARNING:root:¡Cuidado!\n"
     ]
    }
   ],
   "source": [
    "import logging\n",
    "logging.warning('¡Cuidado!') # el mensaje sale por pantalla\n",
    "logging.info('Mira que te lo dije...') # este no aparecerá"
   ]
  },
  {
   "cell_type": "markdown",
   "metadata": {},
   "source": [
    "Si ejecutamos este código, veremos que solo se imprime\n",
    "el primer mensaje:\n",
    "\n",
    "    WARNING:root:¡Cuidado!\n",
    "\n",
    "Esto es porque el nivel por defecto del sistema de logging es `WARNING`, es decir, que solo se emitirán los mensajes de ese nivel o superior. La idea los niveles es permitir centrarnos solo en los mensajes que nos\n",
    "afectan en un determinado momento.\n",
    "\n",
    "El mensaje impreso incluye el nivel y la descripción que incluimos en la llamada. También incluye una referencia a `root`, que se explicará más tarde. El formato de estos mensaje también es modificable, si queremos.\n",
    "\n",
    "Lo más habitual es crear el log usando un ficharo de texto:"
   ]
  },
  {
   "cell_type": "code",
   "execution_count": 9,
   "metadata": {},
   "outputs": [
    {
     "name": "stderr",
     "output_type": "stream",
     "text": [
      "WARNING:root:Y este también\n"
     ]
    }
   ],
   "source": [
    "import logging\n",
    "logging.basicConfig(filename='/tmp/ejemplo.log', level=logging.DEBUG)\n",
    "logging.debug('Este mensaje debería ir al log')\n",
    "logging.info('Y este')\n",
    "logging.warning('Y este también')"
   ]
  },
  {
   "cell_type": "markdown",
   "metadata": {},
   "source": [
    "Si abrimos el fichero deberíamos ver:"
   ]
  },
  {
   "cell_type": "code",
   "execution_count": 10,
   "metadata": {},
   "outputs": [
    {
     "name": "stdout",
     "output_type": "stream",
     "text": [
      "dropbox-antifreeze-Id7lDY\r\n",
      "dropbox-antifreeze-WampHm\r\n",
      "firefox_jileon\r\n",
      "hsperfdata_mdm\r\n",
      "icedteaplugin-mdm-wLfvUx\r\n",
      "mintUpdate\r\n",
      "pulse-PKdhtXMmr18n\r\n",
      "ssh-xULvzrYPYV7n\r\n",
      "systemd-private-cae9e430ab094a57a01584c5e5201815-colord.service-OTEcpZ\r\n",
      "systemd-private-cae9e430ab094a57a01584c5e5201815-rtkit-daemon.service-3g2Phm\r\n"
     ]
    }
   ],
   "source": [
    "!ls /tmp"
   ]
  },
  {
   "cell_type": "code",
   "execution_count": 11,
   "metadata": {},
   "outputs": [
    {
     "name": "stdout",
     "output_type": "stream",
     "text": [
      "cat: /tmp/ejemplo.log: No existe el archivo o el directorio\r\n"
     ]
    }
   ],
   "source": [
    "# Veamos el contenido del fichero \n",
    "\n",
    "!cat /tmp/ejemplo.log"
   ]
  },
  {
   "cell_type": "markdown",
   "metadata": {},
   "source": [
    "Al configurar el nivel como `DEBUG` vemos que se han grabado todos los mensajes. Si subieramos a `ERROR`, no aparecería ninguno.\n",
    "\n",
    "El formato por defecto es `severity:logger name:message`. Podemos cambiar también el formato de los mensajes, usando el parámetro `format` en la llamada a `basicConfig`:"
   ]
  },
  {
   "cell_type": "code",
   "execution_count": 12,
   "metadata": {},
   "outputs": [],
   "source": [
    "import logging\n",
    "\n",
    "logging.basicConfig(\n",
    "    filename='/tmp/ejemplo.log',\n",
    "    level=logging.DEBUG,\n",
    "    format='%(asctime)s - %(name)s - %(levelname)s - %(message)s'\n",
    "    )"
   ]
  },
  {
   "cell_type": "markdown",
   "metadata": {},
   "source": [
    "Podemos definir distintas instancias de loggers (las funciones que hemos visto hasta ahora usan el logger por defecto, de nombre `root`), y usar sus nombres para organizarlos en una jerarquía, usando puntos `.` como separadores, de forma similar a como organizamos los paquetes. Los nombres pueden ser lo que queramos, pero es una práctica habitual usar como nombre el del módulo:"
   ]
  },
  {
   "cell_type": "code",
   "execution_count": 13,
   "metadata": {},
   "outputs": [],
   "source": [
    "import logging\n",
    "logger = logging.getLogger(__name__)"
   ]
  },
  {
   "cell_type": "markdown",
   "metadata": {},
   "source": [
    "De esta forma el nombre del logger refleja la estructura de paquetes y módulos que estemos usando, y es muy sencillo de usar.\n",
    "\n",
    "Tambien podemos usar diferentes gestionadores para notificarnos, aparte de la consola y el fichero de textos, tenemos notificacines vía sockets, datagramas UDP, por correo, envios a un demonio syslog,  a un buffer en memoria y, por supuesto, la posibilidad de crear nuestros propios manejadores."
   ]
  },
  {
   "cell_type": "markdown",
   "metadata": {},
   "source": [
    "### <a name=\"traceback\"></a> El módulo traceback <a href=\"#top\">▲</a>\n",
    "\n",
    "Este módulo nos permite extraer, formatear e imprimir la traza de ejecución (El \"camino\" que ha seguido el programa\n",
    "hasta llegar a un determinado punto). Esta traza es la misma que se muestra cuando se eleva una excepción y nadie la captura.\n",
    "\n",
    "Es muy util cuando se quieren mostrar estas trazas y mensajes de error de forma controlada, por ejempo es lo que hace iPython para mostrar mensajes de error con coloreado de sintaxis e información adicional.\n",
    "\n",
    "El módulo trabaja con objetos de tipo `traceback`, que son los objetos que podemos encontrar en `sys.last_traceback`, o devueltos en tercer lugar en la tupla que retorna la función `sys.exc_info()`.\n",
    "\n",
    "Algunos métodos utiles en este módulo son:\n",
    "\n",
    " - **`traceback.print_exc([limit[, file]])`**\n",
    "\n",
    "   Esta llamada obtiene la traza actual y la imprime en pantalla (o en un fichero, si se especifica),\n",
    "   usando el mismo formato que usaría por defecto Python.\n",
    "\n",
    " - **`traceback.format_exc([limit])`**\n",
    "\n",
    "   Es como `print_exc()`, pero devuelve una cadena de texto en vez de imprimirla."
   ]
  },
  {
   "cell_type": "markdown",
   "metadata": {},
   "source": [
    "### <a name=\"pdb\"></a> El módulo pdb <a href=\"#top\">▲</a>\n",
    "\n",
    "El módulo `pdb` define un debugger interactivo para programas Python. Soporta **breakpoints** y **breakpoints condicionales**, ejecución paso a paso, inspección de la traza, listado del código fuente y evaluación de código Python arbitrario en el contexto del programa. Tambien puede ser llamada bajo el control del programa.\n",
    "\n",
    "Podemos invocarlo desde la línea de comandos con:\n",
    "\n",
    "    pdb <script.py>\n",
    "\n",
    "Cuando se sjecuta el debugger, el prompt cambia a `(Pdb)`. Podemos consultar una breve ayuda pulsando `help`. Algunos de los comandos más útiles son:\n",
    "\n",
    "- **h(elp)** : Sin argumentos, imprime la lista de ordenes posibles. Si la pasamos una orden como parámetro, ampliará la información sobre la mismo.\n",
    "\n",
    "- **w(here)** : Imprime la traza, con la actividad más reciente al final. Una flecha indica el entorno actual\n",
    "\n",
    "- **s(tep)** : Ejecuta la línea actual, parándose en la primera ocasión que pueda: O bien en la primera línea de una función que se ha llamado o en la siguiente línea.\n",
    "\n",
    "- **n(ext)** : Continua la ejecución hasta que se alcanza la siguiente línea en el bloque actual o retorne de una función. La diferencia con `step` es que `step` entrará dentro del cuerpo de una función, mientras que `next` la ejecutará y seguirá hasta la siguiente línea.\n",
    "\n",
    "- **r(eturn)** : Ejecuta el resto de la función y retorna.\n",
    "\n",
    "- **c(ont(inue))** : Continua la ejecución. Solo se para si encuentra un _breakpoint_ o si termina el programa.\n",
    "\n",
    "- **l(ist) [first[, last]]** : Lista el código fuente.\n",
    "\n",
    "Podemos usar el debugger desde dentro del programa; lo habitual es usar la siguiente línea antes de llegar al código problemático:\n",
    "\n",
    "```Python\n",
    "    import pdb; pdb.set_trace()\n",
    "```\n",
    "\n",
    "Esto arrancará en modo debugger justo en esa línea. A partir de hay se puede avanzar a traves del código con `s` o `n`, o seguir la ejecucion con `c`.\n",
    "\n",
    "Hay muchas más ordenes y usos disponibles. Consulta la documentación oficial: [Python: pdb — The Python Debugger](pdb — The Python Debugger) para ver todos las opciones."
   ]
  },
  {
   "cell_type": "markdown",
   "metadata": {},
   "source": [
    "## De uso general"
   ]
  },
  {
   "cell_type": "markdown",
   "metadata": {},
   "source": [
    "### <a name=\"re\"></a>El módulo re - Expresiones regulares <a href=\"#top\">▲</a>\n",
    "\n",
    "Este módulo permite trabajar con **expresiones regulares**. Una [expresión regular](https://es.wikipedia.org/wiki/Expresi%C3%B3n_regular) viene a definir un conjunto de cadenas de texto que cumplen un determinado patrón. Si una cadena de texto pertenece al conjunto de posibles cadenas definidas por la expresión, se dice que _casan_ o que ha habido una coincidencia o _match_.\n",
    "\n",
    "Las expresiones regulares se crean combinando expresiones regulares más pequeñas (o primitivas). La cadena que define una expresión regular puede incluir caractereres normales o especiales. Los caracteres normales solo casan consigo mismo. Por ejemplo, la expresion regulas `a` solo casaria con una `a`. Los especiales, como `|` o `.`, tienen otros significados;  o bien definen conjuntos de caracteres o modifican a las expresiones regulares adyacentes.\n",
    "\n",
    "Algunos caracteres con significados especiales son:\n",
    "\n",
    "| Caracter |  Significado                                                   |\n",
    "|----------|----------------------------------------------------------------|\n",
    "|   `.`    | Caracter punto. casa con cualquier caracter                    |\n",
    "|   `^`    | Casa con el principio de una string                            |\n",
    "|   `$`    | Casa con el final de una string                                |\n",
    "|   `*`    | La expresión regular anterior, repetida 0 o más veces          |\n",
    "|   `+`    | La expresión regular anterior, repetida 1 o más veces          |\n",
    "|   `?`    | La expresión regular anterior, uno u ninguna vez               |\n",
    "|  `{n}`   | La expresión regular anterior, repetida `n` veces              |\n",
    "| `{m,n}`  | La expresión regular anterior, repetida entre `m` y `n` veces  |\n",
    "|    `\\`   | \"Escapa\" el significado del caracter a continuación, permitiendo asi incluir caracteres especiales como `{` o `*` literales. |\n",
    "|  &#124;  |  Alernancia entre patrones: `A`&#124;`B` significa que casa con `A` o con `B`. Se pueden usar multiples patrones separados con &#124;. `a`&#124;`b`&#124;`c` casa con `a`, `b` o `c` |\n",
    "|   `[]`   | Sirve para indicar un conjunto de caracteres                   |\n",
    "\n",
    "En un conjunto Los caracteres se pueden listar individualmente, como por ejemplo, `[abc]`, que casa con el caracter `a`, con `b` o con `c`.\n",
    "\n",
    "También se pueden espcificar rangos de caracteres, usado el guión para separar los límites, por ejemplo `[a-z]` casa con cualquier letra minúsucula, `[0-9]` casa con cualquier dígito. Los caracteres especiales pierden su significado dentro de los corchetes, por lo que no hace falta escaparlos.\n",
    "\n",
    "Se puede definir el complemento del conjunto incluyendo como primer caracter `^`: `[^59]` casa con cualquier caracter, excepto con el cinco i el nueve.\n",
    "\n",
    "El uso de expresiones regulares es tremendamente potente y complejo, y hay varios libros dedicados al tema. \n",
    "\n",
    "#### Ejercicio: Expresiones regulares para encontrar matrículas de coche.\n",
    "\n",
    "Escribir una expresión regular para detectar matrículas de coches españolas.\n",
    "\n",
    "#### Solución\n",
    "\n",
    "Según el siguiente texto, que describen en el sistema de matriculación vigente actualmente en España:\n",
    "\n",
    "> El 18 de septiembre del año 2000 entró en vigor el nuevo sistema\n",
    "  de matriculación en españa, introduciendo matrículas que constan\n",
    "  de cuatro dígitos y tres letras consonantes, suprimiéndose las\n",
    "  cinco vocales y las letras Ñ, Q, CH y LL. [...] Si el vehículo es\n",
    "  histórico, y se ha matriculado con una placa de nuevo formato,\n",
    "  aparece primero una letra H en la placa.\n",
    "\n",
    "El siguiente código lista las matrículas encontradas en el texto:"
   ]
  },
  {
   "cell_type": "code",
   "execution_count": 14,
   "metadata": {},
   "outputs": [
    {
     "name": "stdout",
     "output_type": "stream",
     "text": [
      "0765-BBC\n",
      "9866-LPX\n"
     ]
    }
   ],
   "source": [
    "import re\n",
    "\n",
    "Texto = '''INSTRUIDO por accidente de circulación ocurrido a las 09:43\n",
    "entre la motocicleta HONDA 500, matrícula 0765-BBC  y la\n",
    "motocicleta HARLEY-DAVIDSON , matrícula 9866-LPX, en el punto\n",
    "kilométrico 3.5 de la carretera general del sur, término municipal de\n",
    "Arona, Tenerife, y bla, bla, bla...'''\n",
    "\n",
    "patron = re.compile('H?[0-9]{4}-?[BCDFGHJKLMNPRSTVWXYZ]{3}', re.IGNORECASE)\n",
    "for matricula in patron.findall(Texto):\n",
    "    print(matricula)"
   ]
  },
  {
   "cell_type": "markdown",
   "metadata": {},
   "source": [
    "El patrón usado es el siguiente: `H?[0-9]{4}-?[BCDFGHJKLMNPRSTVWXYZ]{3}`, veámoslo por partes:\n",
    "\n",
    " - **`H?`** : Una H. Pero como la sigue una interrogación, es opcional. Recuerdese que `?` se interpreta como la expresión regular anterior (en este caso la H), 0 o una vez.\n",
    " \n",
    " - **`[0-9]{4}`** : El conjunto de los caracteres del 0 al 9 (`[0-9]`), o lo que es lo mismo, cualquier dígito, repetido 4 veces (`{4}`), es decir, un número de cuatro dígitos.\n",
    " \n",
    " - **`-?`**: Un guión, opcional, igual que la H para vehículos históricos del principio\n",
    " \n",
    " - **`[BCDFGHJKLMNPRSTVWXYZ]{3}`** : Cualquiera de los caracteres del conjunto indicado (letras consonantes excepto la Ñ, Q, CH y LL) repetido 3 veces.\n",
    " \n"
   ]
  },
  {
   "cell_type": "markdown",
   "metadata": {},
   "source": [
    "### <a name=\"os\"></a>El módulo os:  Llamadas al sistema operativo <a href=\"#top\">▲</a>\n",
    "\n",
    "Este módulo da acceso a llamadas del sistema operativo. A nivel de diseño, las llamadas que funcionana en todos los sistemas usan y devuelven la misma interfaz, independiente del S.O. Por ejemplo, la función `stat` devuelve información sobre un fichero en el mismo formato, independientemente de la plataforma.\n",
    "\n",
    "Las funciones que solo están disponibles para un determinado sistema operativo estan en submódulos aparte.\n",
    "\n",
    "El submodulo `os.path` (cargado automáticamente) incluye funciones de ayuda para trabajar con rutas de archivos.\n",
    "\n",
    "Algunas de las funciones y atributos de este módulo son:\n",
    "\n",
    "- **`os.name`** : El nombre del sistema operativo sobre el que se está ejecutando python. Actualmente existen los siguientes nombres posibles: `posix`, `nt`, `os2`, `ce`, `java`, `riscos`.</dd>\n",
    "\n",
    "- **`os.environ`** : Un diccionario que contiene las variables de entorno definidas en el sistema operativa. Los valores se obtiene la primera vez que se importa el módulo, por lo que no reflejan cambios hechos después\n",
    "\n",
    "- **`os.walk(top, topdown=True, onerror=None, followlinks=False)`** : Devuelve un iterador que nos permite examinar todo  un sistema de archivos. Para cada directorio y subdirectorio en la raíz (indicada por `top`), incluyendo la propia raíz, el iterador devuelte una tupla de tres elementos (`dirpath`, `dirnames`, `filenames`); `dirpath` es una cadena de texto, la ruta del direcotorio, `dirnames` es una lista con los nombres de los subdirectorios dentro de `dirpath` (excluyendo los nombres especiales `.` y `..`) y `filenames` es una lista de nombres de los ficheros que no son directorio en `dirpath`. En cualquier momento podemos tener una ruta absoluta a un archivo `f` en `filenames` haciendo `os.path.join(top, dirpath, f)`.\n",
    "\n",
    "- **`os.path.getsize(path)`** : Devuelve el tamaño, en bytes, del fichero\n",
    "\n",
    "- **`os.path.getmtime(path)`** : Devuelve el tiempo de la ultima modificación del archivo. El valor es en tiempo unix: el número de segundos desde la medianoche UTC del 1 de enero de 1970. Veaseel módulo `time`.\n",
    "\n",
    "- **`os.path.splitext(path)`** : Devuelve una tupla de dos elementos (`root`, `ext`). En la primera posición va la ruta completa del fichero, sin extensión, y en la segunda va la extension, de forma que `path == root + ext`.\n",
    "\n",
    "#### Ejercicio: Calcular cuanto ocupan todos los ficheros de tipo Python en un determinado directorio\n",
    "\n",
    "Incluyendo sus subdirectorios, si los hubiera. Listar los nombres absolutos, es decir, incluyendo la ruta desde la raíz, así como el espacio que ocupan en disco.\n",
    "\n",
    "#### Solución"
   ]
  },
  {
   "cell_type": "code",
   "execution_count": 15,
   "metadata": {},
   "outputs": [
    {
     "name": "stdout",
     "output_type": "stream",
     "text": [
      "./test_ast.py 140\n",
      "./fibo_memoized.py 330\n",
      "./fibo.py 453\n",
      "./ejercicios/find-by-ext.py 887\n",
      "Bytes totales: 1810\n"
     ]
    }
   ],
   "source": [
    "import os\n",
    "\n",
    "acc = 0\n",
    "for (dirpath, dirnames, filenames) in os.walk('.'):\n",
    "    for filename in filenames:\n",
    "        if filename.lower().endswith('.py'):\n",
    "            fullname = os.path.join(dirpath, filename)\n",
    "            size = os.path.getsize(fullname) \n",
    "            acc += size\n",
    "            print(fullname, size)\n",
    "print('Bytes totales:', acc)"
   ]
  },
  {
   "cell_type": "markdown",
   "metadata": {},
   "source": [
    "### <a name=\"sys\"></a> El módulo sys: configuración específica del sistema <a href=\"#top\">▲</a>\n",
    "\n",
    "Este módulo proporciona acceso a algunas variables usadas o mantenidas por el propio interprete de Python. Siempre está disponible las siguientes:\n",
    "\n",
    "- **`sys.argv`** : La lista de argumentos pasados al script de python. En la primera posicion (`sys.argv[0]`) siempre va el nombre del script (depende del S.O. subyacente si devuelve el nombre completo, incluyendo la ruta, o no).\n",
    "\n",
    "- **`sys.exc_info()`**: Esta función devuelve una tupla de tres valores  con información sobre el error que está siendo tratado: Tipo de la excepcion, valor de la  misma y traza de ejecución. Podemos usarla en una clausula `except` para obtener más información del error. Si se llama cuando no hay ninguna excepciónactiva, devuelve una tupla con tres valores `None`.\n",
    "\n",
    "- **`sys.path`** : Una lista de cadenas de texto que especifican las rutas de búsqueda para los módulos y paquetes de  python.\n",
    "\n",
    "- **`sys.platform`** : Un identificador de la version de Python en ejecución\n",
    "\n",
    "#### Ejercicio: Script para busqueda mejorado\n",
    "\n",
    "Modificar el ejercicio anterior para que busque\n",
    "ficheros con una extension que determinaremos nosotros, como\n",
    "un argumento del script.\n",
    "\n",
    "#### Solución:\n",
    "\n",
    "Vease [Ejercicios: Find file by ext](ejercicios/find-by-ext.py)."
   ]
  },
  {
   "cell_type": "code",
   "execution_count": 16,
   "metadata": {},
   "outputs": [
    {
     "name": "stdout",
     "output_type": "stream",
     "text": [
      "#!/usr/bin/env python\r\n",
      "# -*- coding: utf-8 -*-\r\n",
      "\r\n",
      "from __future__ import print_function\r\n",
      "from __future__ import absolute_import\r\n",
      "from __future__ import division\r\n",
      "from __future__ import unicode_literals\r\n",
      "\r\n",
      "import sys\r\n",
      "import os\r\n",
      "\r\n",
      "\r\n",
      "def find_by_ext(ext):\r\n",
      "    result = 0\r\n",
      "    for (dirpath, dirnames, filenames) in os.walk('.'):\r\n",
      "        for filename in filenames:\r\n",
      "            if filename.lower().endswith(ext):\r\n",
      "                fullname = os.path.join(dirpath, filename)\r\n",
      "                size = os.path.getsize(fullname) \r\n",
      "                result += size\r\n",
      "                print(fullname, size, 'bytes')\r\n",
      "\r\n",
      "\r\n",
      "if __name__ == '__main__':\r\n",
      "    argc = len(sys.argv)\r\n",
      "    if argc < 2:\r\n",
      "        print('Tiene que especificar la extensión que busca')\r\n",
      "        sys.exit(-1)\r\n",
      "    ext = sys.argv[1].lower()\r\n",
      "    print('Buscando ficheros con extensión {}'.format(ext))\r\n",
      "    acc = find_by_ext(ext)\r\n",
      "    print('Bytes totales:', acc)"
     ]
    }
   ],
   "source": [
    "!cat ejercicios/find-by-ext.py"
   ]
  },
  {
   "cell_type": "markdown",
   "metadata": {},
   "source": [
    "### <a name=\"difflib\"></a>El módulo difflib: Buscar diferencias entre secuencias <a href=\"#top\">▲</a>\n",
    "\n",
    "Este módulo proporciona clases y funciones que nos permite comparar secuencias. Se puede usar, por ejemplo, para compara ficheros, considerados como secuencias de líneas, o textos, considerados como secuencias de caracteres. Las diferencias se pueden analizar e imprimir en diferentes formatos, incluyendo HTML y parches.\n",
    "\n",
    "La clase `difflib.SequenceMatcher` permite comparar cualquier tipo de secuencia. El algoritmo que usa intenta conseguir la subcadena más largas de coincidencias consecutivas. A partir de ahi se aplica recursivamente tanto a la derecha com a la izquierda de dicha subcadena. No produce secuencias de ediciones mínimas, pero son más comprensibles para los humanos.\n",
    "\n",
    "Ejercicio: Dada una secuencia de lineas de texto, encontrar\n",
    "la más parecia a un texto original."
   ]
  },
  {
   "cell_type": "markdown",
   "metadata": {},
   "source": [
    "### <a name=\"collections\"></a>El módulo collections: Otras estructuras de datos <a href=\"#top\">▲</a>\n",
    "\n",
    "Este módulo implemente ciertos contendores especializados a partir de los básicos: dicionarios, listas, conjunto y tuplas. Algunas de las más interesantes son las siguientes:\n",
    "\n",
    "#### Namedtuple\n",
    "\n",
    "Con **`namedtuple`** podemos crear un tipo especial de tuplas cuyo contenido puede ser accedido tanto por posición como por nombre. Llamamos a `namedtuple` para crear una clase que luego puede ser usada para crear instancias de tuplas. Se comprende mejor con un ejemplo:"
   ]
  },
  {
   "cell_type": "code",
   "execution_count": 17,
   "metadata": {},
   "outputs": [
    {
     "name": "stdout",
     "output_type": "stream",
     "text": [
      "Superhero(name='Batman', identity='Bruce Wayne', city='Gotham City')\n",
      "Superhero(name='Wonder Woman', identity='Diana Prince', city='Boston')\n"
     ]
    }
   ],
   "source": [
    "from collections import namedtuple\n",
    "\n",
    "Superhero = namedtuple('Superhero', 'name identity city')  # nombre de la clase y atributos aceptados\n",
    "\n",
    "batman = Superhero(name='Batman', identity='Bruce Wayne', city='Gotham City')\n",
    "assert batman.name == batman[0]\n",
    "assert batman.identity == batman[1]\n",
    "assert batman.city == batman[2]\n",
    "wonder_woman = Superhero('Wonder Woman', 'Diana Prince', 'Boston') # Creación por posición\n",
    "print(batman, wonder_woman, sep='\\n')\n"
   ]
  },
  {
   "cell_type": "markdown",
   "metadata": {
    "collapsed": true
   },
   "source": [
    "Es una forma rápida de crear una estructura, para aquellos casos en que no es necesario crear una clase completa. Por ejemplo, se puede usar para leer el contenido de un fichero en formato .CSV como una serie de _namedtuples_, accesibles tanto por posición como por el nombre de la columna. Siempre se puede reemplazar en el futuro por una clase completa, si fuera necesario."
   ]
  },
  {
   "cell_type": "markdown",
   "metadata": {},
   "source": [
    "#### deque\n",
    "\n",
    "\n",
    "La estrutura de datos **`deque`** sirve para mejorar el rendimiento de las listas en aquellos casos en los que no nos interesa el acceso a los contenidos de la lista por posición, sino solo nos interesa trabajar con los extremos de la lista, es decir, que usamos solo operaciones de tipo `append`, `insert` o `pop`, pero nunca accedemos por posición.\n",
    "\n",
    "Con una lista podemos obviamente hacer un `pop(0)`, pero la lista incurre en una carga extra, porque al eliminar el primer elemento tienen que recolocar todos los demás elementos de la lista (El segundo pasa a ser el primero, el tercero pasa al segundo, etc...), lo que implica que la lista realiza O(n) movimientos de memoria. Con `deque`, que se implementa en forma de lista doblemente enlazada, la operación es de coste fijo. \n",
    "\n",
    "Veamos un ejemplo para medir el rendimiento:"
   ]
  },
  {
   "cell_type": "code",
   "execution_count": 18,
   "metadata": {},
   "outputs": [
    {
     "name": "stdout",
     "output_type": "stream",
     "text": [
      "CPU times: user 0 ns, sys: 0 ns, total: 0 ns\n",
      "Wall time: 172 µs\n",
      "CPU times: user 0 ns, sys: 0 ns, total: 0 ns\n",
      "Wall time: 5.48 µs\n"
     ]
    },
    {
     "data": {
      "text/plain": [
       "True"
      ]
     },
     "execution_count": 18,
     "metadata": {},
     "output_type": "execute_result"
    }
   ],
   "source": [
    "from collections import deque\n",
    "\n",
    "list_items = list(range(100000))\n",
    "%time list_items.pop(0) == 0\n",
    "\n",
    "deque_items = deque(range(100000))\n",
    "%time deque_items.popleft() == 0\n"
   ]
  },
  {
   "cell_type": "markdown",
   "metadata": {},
   "source": [
    "Como vemos, una mejora importante. Si en vez de trabajar con 100000 elementos fueran un millón, el resultado sería aun más espectacular. En resumen, `deque` es una doble lista encadenada especializada en realizar las operaciones de añadir o quitar de los extremos con rapidez."
   ]
  },
  {
   "cell_type": "markdown",
   "metadata": {},
   "source": [
    "#### Counter\n",
    "\n",
    "la clase **`Counter`** es un tipo especial derivado del diccionario que está especializado en llevar cuentas; asocia a cada clave un contador y tienen métodos adicionales para este tipo de estructura de datos. Es equivalente en otros lengajes al concepto de _multisets_ o multiconjuntos. Veamos un ejemplo:"
   ]
  },
  {
   "cell_type": "code",
   "execution_count": 19,
   "metadata": {},
   "outputs": [
    {
     "name": "stdout",
     "output_type": "stream",
     "text": [
      "Counter({'a': 9, ' ': 3, 'r': 3, 'b': 3, 'c': 2, 'd': 2, 'p': 1, 't': 1, 'e': 1})\n"
     ]
    }
   ],
   "source": [
    "from collections import Counter\n",
    "\n",
    "c = Counter('abracadabra pata de cabra')\n",
    "print(c)"
   ]
  },
  {
   "cell_type": "markdown",
   "metadata": {},
   "source": [
    "Por ejemplo, si quisieramos descubrir las 25 palabras más usadas en el prólogo del señor de los anillos, podriamos hacer:"
   ]
  },
  {
   "cell_type": "code",
   "execution_count": 20,
   "metadata": {},
   "outputs": [],
   "source": [
    "# Primero definimos una función para eliminar caracteres molestos y\n",
    "# que nos devuelva el texto en forma de listas de palabras en minusculas\n",
    "\n",
    "import re\n",
    "\n",
    "def limpia_texto(texto):\n",
    "    pat_exclude = re.compile('[ \".,\\:;\\-\\(\\)]+')  # Caracteres a ignorar\n",
    "    result = pat_exclude.split(texto)\n",
    "    return [w.lower() for w in result if w]\n",
    "\n",
    "assert  limpia_texto('Hola. Me llamo \"Iñigo Montoya\"') == ['hola', 'me', 'llamo', 'iñigo', 'montoya']\n",
    "assert  limpia_texto('Tú mataste -a mi padre-') == ['tú', 'mataste', 'a', 'mi', 'padre']\n",
    "assert  limpia_texto('(Prepárate a: morir)') == ['prepárate', 'a', 'morir']\n"
   ]
  },
  {
   "cell_type": "code",
   "execution_count": 21,
   "metadata": {},
   "outputs": [
    {
     "name": "stdout",
     "output_type": "stream",
     "text": [
      "[('de', 408), ('y', 273), ('la', 237), ('en', 234), ('los', 226), ('que', 170), ('el', 149), ('a', 131), ('se', 105), ('las', 101), ('del', 85), ('más', 56), ('no', 56), ('un', 51), ('hobbits', 50), ('por', 49), ('lo', 48), ('con', 43), ('pero', 39), ('como', 38), ('comarca', 38), ('bilbo', 37), ('o', 35), ('una', 35), ('había', 32)]\n"
     ]
    }
   ],
   "source": [
    "# Ahora le pasamos el texto en forma de lista a un objeto de la clase Counter\n",
    "# y le pedimos las 25 palabras más usadas\n",
    "\n",
    "from collections import Counter\n",
    "\n",
    "with open('data/prologo.txt', 'r', encoding='utf-8') as f:\n",
    "    words = limpia_texto(f.read())\n",
    "    \n",
    "c = Counter(words)\n",
    "print(c.most_common(25))"
   ]
  },
  {
   "cell_type": "markdown",
   "metadata": {},
   "source": [
    "Quitando las palabras aburridas (el, la, los, las, un, etc...), la más mencionada es _hobbits_. ¿Cuántas veces aparecen las palabras \"elfo\" o \"elfos\"?"
   ]
  },
  {
   "cell_type": "code",
   "execution_count": 22,
   "metadata": {},
   "outputs": [
    {
     "name": "stdout",
     "output_type": "stream",
     "text": [
      "13\n"
     ]
    }
   ],
   "source": [
    "print(c['elfo'] + c['elfos'])"
   ]
  },
  {
   "cell_type": "markdown",
   "metadata": {},
   "source": [
    "#### OrderedDict\n",
    "\n",
    "Un diccionario de la clase **`OrderedDict`** es igual que cualquier otro diccionario con la salvedad de que recuerda el orden en que se han insertado las claves, de forma que cuando se recorre, se sigue ese mismo orden (En un diccionario estandar, no se garantiza el orden). Podemos crear el diccionario a partir de una lista de tuplas, por ejemplo."
   ]
  },
  {
   "cell_type": "code",
   "execution_count": 23,
   "metadata": {},
   "outputs": [
    {
     "name": "stdout",
     "output_type": "stream",
     "text": [
      "I : 1\n",
      "II : 2\n",
      "III : 3\n",
      "IV : 4\n",
      "V : 5\n",
      "VI : 6\n",
      "VII : 6\n"
     ]
    }
   ],
   "source": [
    "from collections import OrderedDict\n",
    "\n",
    "d = OrderedDict([('I', 1), ('II', 2), ('III', 3), ('IV', 4), ('V', 5), ('VI', 6), ('VII', 6)])\n",
    "for k in d:\n",
    "    print(k, ':', d[k])"
   ]
  },
  {
   "cell_type": "markdown",
   "metadata": {},
   "source": [
    "#### defaultdict\n",
    "\n",
    "La clase **`defaultdict`** nos permite especificar, al crear una instancia, una función que se llamara cuando no se encuentre una clave, almacenándose el resultado de esa llamada en la clave. Un caso muy usado es cuando queremos un diccionario de listas. Veamos un ejemplo:\n"
   ]
  },
  {
   "cell_type": "code",
   "execution_count": 24,
   "metadata": {},
   "outputs": [
    {
     "name": "stdout",
     "output_type": "stream",
     "text": [
      "defaultdict(<class 'list'>, {'a': ['alfa', 'amigo'], 'b': ['bingo']})\n",
      "['alfa', 'amigo'] ['bingo'] []\n",
      "defaultdict(<class 'list'>, {'a': ['alfa', 'amigo'], 'b': ['bingo'], 'c': []})\n"
     ]
    }
   ],
   "source": [
    "from collections import defaultdict\n",
    "\n",
    "d = defaultdict(list)  # list es una función predefinida que crea una lista. \n",
    "d['a'].append('alfa')\n",
    "d['a'].append('amigo')\n",
    "d['b'].append('bingo')\n",
    "\n",
    "print(d)\n",
    "print(d['a'], d['b'], d['c'])  # ❶\n",
    "print(d)"
   ]
  },
  {
   "cell_type": "markdown",
   "metadata": {},
   "source": [
    "Cada vez que intentemos acceder a un elemento  con una clave inexistente, se creará una lista vacía, porque ese es el resultado de ejecutar `list` sin parámetros. Por eso al acceder en la línea ❶ a la clave `c`, aunque no hicimos nada, se creo automaticamente la lista vacia. Podemos usar cualquier funcion que deseemos, siempre que se pueda llamar sin parámetros."
   ]
  },
  {
   "cell_type": "markdown",
   "metadata": {},
   "source": [
    "### <a name=\"random\"></a> El módulo random  <a href=\"#top\">▲</a>\n",
    "\n",
    "Este módulo implementa generadores de números pseudo-aleatorios para distintas distribucines. Para enteros, podemos hacer\n",
    "una selección uniforme dentro de un rango; para secuencias, una selección uniforme de un elemento. Podemos reordenar al azar -barajar- una secuencia y obtener una muestra al azar. También podemos trabajar con distintas distribuciones estadísticas.\n",
    "\n",
    "Casi todas las funciones dependen de la función básica `random()`, que genera un número al azar en el intervalo semiabierto \\[0.0, 1.0). Algunas de las funciones más usadas son:\n",
    "\n",
    "- **`random.seed([x])`** :  Inicializa el generador de números con un determinado valor. Si se omite el valor, usara uno generado a partir de la fecha y hora actual\n",
    "\n",
    "- **`random.random()`** : Devuelve un número al azar en coma flotante en el intervalo \\[0.0, 1.0).\n",
    "\n",
    "- **`random.randrange(last)`** : Genera un entero $n$ al azar tal que $0 <= n < last$.\n",
    "\n",
    "- **`random.randrange(start, last)`** : Genera un entero $n$ al azar tal que $start <= n < last$.\n",
    "\n",
    "- **`random.randint(a, b)`** : Genera un entero $n$ al azar tal que $a <= n <= b$. equivale a `randrange(a, b+1)`\n",
    "\n",
    "- **`random.choice(seq)`** : Devuelve un elemento al azar de los perteneciente a la secuencia `seq` Si `seq` está vacio, eleva una excepción `IndexError`.\n",
    "\n",
    "- **`random.shuffle(x[, random])`** : Baraja la secuencia (internamente, es decir, no genera una nueva secuencia, sino que modifica la pasada). El argumento opcional `random` es una función sin argumentos que devuelve un número en coma flotante en el intervalo [0.0, 1.0); por defecto es la función `random()`.\n",
    "\n",
    "- **`random.gauss(mu, sigma)`** : Devuelve un valor siguiente la [distribución normal o de Gauss](https://es.wikipedia.org/wiki/Distribuci%C3%B3n_normal). `mu` es la media, `sigma` es la desviación estandar. Otras distribuciones disponibles son la [distribución Beta](https://es.wikipedia.org/wiki/Distribuci%C3%B3n_beta), la [distribución exponencial](https://es.wikipedia.org/wiki/Distribuci%C3%B3n_exponencial) y la [distribución Gamma](https://es.wikipedia.org/wiki/Distribuci%C3%B3n_gamma).\n",
    "\n",
    "Vamos a generar 1000 números al azar usando una distribución de Gauss com media 7.5 y desviacion estandar 2.8:"
   ]
  },
  {
   "cell_type": "code",
   "execution_count": 25,
   "metadata": {},
   "outputs": [
    {
     "data": {
      "text/plain": [
       "<matplotlib.axes._subplots.AxesSubplot at 0x7feadf05af60>"
      ]
     },
     "execution_count": 25,
     "metadata": {},
     "output_type": "execute_result"
    },
    {
     "data": {
      "image/png": "[encoded data removed]",
      "text/plain": [
       "<matplotlib.figure.Figure at 0x7feadf05a710>"
      ]
     },
     "metadata": {},
     "output_type": "display_data"
    }
   ],
   "source": [
    "%matplotlib inline\n",
    "\n",
    "import random\n",
    "import pandas\n",
    "\n",
    "numbers = [random.gauss(7.5, 2.8) for i in range(1000)]\n",
    "df = pandas.DataFrame(data=numbers, columns=['Ruido',])\n",
    "df.plot()"
   ]
  },
  {
   "cell_type": "code",
   "execution_count": 26,
   "metadata": {},
   "outputs": [
    {
     "data": {
      "text/plain": [
       "array([[<matplotlib.axes._subplots.AxesSubplot object at 0x7feaf010eba8>]], dtype=object)"
      ]
     },
     "execution_count": 26,
     "metadata": {},
     "output_type": "execute_result"
    },
    {
     "data": {
      "image/png": "[encoded data removed]",
      "text/plain": [
       "<matplotlib.figure.Figure at 0x7feb0c6b4710>"
      ]
     },
     "metadata": {},
     "output_type": "display_data"
    }
   ],
   "source": [
    "# Veamos el histograma para apreciar la campana de Gauss\n",
    "\n",
    "df.hist(bins=100)"
   ]
  },
  {
   "cell_type": "markdown",
   "metadata": {},
   "source": [
    "## Trabajar con fechas y tiempos"
   ]
  },
  {
   "cell_type": "markdown",
   "metadata": {},
   "source": [
    "### <a name=\"time\"></a> El módulo time  <a href=\"#top\">▲</a>\n",
    "\n",
    "Esté modulo proporciona funciones para trabajar con tiempos y fechas. La mayoría de las funciones realizan llamadas al S.O. subyacente.\n",
    "\n",
    "Algunas consideraciones y terminología:\n",
    "\n",
    "- **UTC** es el tiempo coordinado Universal, anteriormente conocido como GMT o Hora de Greenwich (El acrónimo UTC es un comprimiso entre el inglés y el francés)\n",
    "\n",
    "- **DST** es el ajuste de horario de verano (_Daylight Saving Time_) una modificacion de la zona horaria, normalmente de una hora, que se realiza durante parte del año. las reglas de los DST son, en la práctica, pura magia (dependen de las leyes locales) y pueden cambiar de año a año\n",
    "\n",
    "Los valores de tiempo devueltos por `gmtime()`, `localtime()` y `strptime()`, y aceptados por `asctime()`, `mktime()` y\n",
    "`strftime()` son tuplas (En realidad, `namedtuple`) de 9 enteros, por este orden: año, mes, dia, horas, minutos, segundos, día de la semana, día dentro del año y un indicador de si se aplica o no el horario de verano.\n",
    "\n",
    "Algunas funciones definidas en este módulo:\n",
    "\n",
    "- **`time.time()`** : Devuelve el tiempo en segundos, en forma de número de coma flotante.\n",
    "\n",
    "\n",
    "- **`time.gmtime([secs])`** : Convierte  un tiempo en segundos en una tupla de nueve elementos, en los cuales el flag final es siempre 0. Si no se indica el tiempo , se tomará el momento actual.\n",
    "\n",
    "- **`time.localtime([secs])`** : Como `gmtime()`, pero convertido a tiempo local. El indicador final se pone a uno si en ese momento estaba activo el horario de verano.\n",
    "\n",
    "- **`time.mktime(t)`** : La inversa de `localtime()`. Su argumento es una tupla de 9 elementos (Como el flag final es obligatorio, se puede poner -1 para indicar que no lo sabemos). Devuelve un [tiempo Unix o POSIX](https://es.wikipedia.org/wiki/Tiempo_Unix): El número de segundos trascurridos desde la medianoche UTC del 1 de enero de 1970.\n",
    "\n",
    "- **`time.sleep(secs)`** : Suspender la ejecución del programa durante el tiempo en segundos indicado como parámetro.\n",
    "\n",
    "#### Ejercicio: Determinar el dia de la semana de una fecha\n",
    "\n",
    "Escribir una función que, pasandole año, mes y día nos devuelva el día de la semana que corresponde. Usarlo para averiguar que día de la semana era el día que cayó el [Muro de Berlín](https://es.wikipedia.org/wiki/Muro_de_Berl%C3%ADn) (9 de noviembre de 1989) (O cualquier otra fecha que les interese)."
   ]
  },
  {
   "cell_type": "markdown",
   "metadata": {},
   "source": [
    "### Solución\n",
    "\n",
    "Podemos usar las funciones `mktime`, que nos permite pasar -1 para los valores que a priori desconocemos, obtener los segundos en tiempo UNIX, y a partir de esos segundos volver a obtener una tupla con los valores correctos en los tres ultimos _flags_. Sabiendo que el lunes se considera el día 0, una solución podría ser:"
   ]
  },
  {
   "cell_type": "code",
   "execution_count": 27,
   "metadata": {},
   "outputs": [
    {
     "name": "stdout",
     "output_type": "stream",
     "text": [
      "El muro de Berlín cayó un jueves\n"
     ]
    }
   ],
   "source": [
    "import time\n",
    "\n",
    "def date_to_weekday(year, month, day):\n",
    "    weekdays = ['lunes', 'martes', 'miércoles', 'jueves', 'viernes', 'sábado', 'domingo']\n",
    "    t = (year, month, day, 12, 0, 0, -1, -1, -1)\n",
    "    num_secs = time.mktime(t)\n",
    "    dt = time.gmtime(num_secs)\n",
    "    return weekdays[dt[6]]\n",
    "\n",
    "print('El muro de Berlín cayó un', date_to_weekday(1989, 11, 9))"
   ]
  },
  {
   "cell_type": "markdown",
   "metadata": {},
   "source": [
    "###  <a name=\"datetime\"></a> El módulo datetime <a href=\"#top\">▲</a>\n",
    "\n",
    "El módulo `datetime` continua donde lo deja `time`. Proporciona  clases para trabajar con fechas y tiempos, soportando por ejemplo aritmética de fechas.\n",
    "\n",
    "La clase `datetime` sirva para trabajar con fechas y horas. Para trabajar con estos objetos hay que saber que podemos tener derivar dos tipos distintos de fechas/horas a partir de esta clase: las fechas absolutas o relativas.\n",
    "\n",
    "Una fecha absoluta dispone de toda la información necesaria para poder determinar, sin ninguna ambigüedad, su valor. Sabe por tanto en que zona horaría está y, lo que es más complicado, si está activo o  no el horario de verano. El horario de verano es un acuerdo político, administrado por cada país, por lo que suele ser cambiante, difícil de entender y, en general, caótico. La ventaja de este tipo de fecha/hora es que no está sujeta a interpretación.\n",
    "\n",
    "Una fecha relativa, por el contrario, no tienen toda la información necesaria para que su valor sea indiscutible, lo que dificulta, por ejemplo, hacer comparaciones. Determinar si una fecha relativa está referida al Tiempo Coordinado Universal (UTC), la fecha y hora local o la fecha y hora en alguna otra zona horaria depende por entero del\n",
    "programa, de la misma forma que es responsabilidad del programa determinar si un número representa metros, micras o litros. Las fechas/tiempo locales son fáciles de entender y de usar, pero tenemos que pagar el coste que supone ignorar ciertos aspectos  de la realidad.\n",
    "\n",
    "Los tipos disponibles en este módulo son:\n",
    "\n",
    "- **`class datetime.date`** : Una fecha local, que asume que el [Calendario Gregoriano](https://es.wikipedia.org/wiki/Calendario_gregoriano) siempre ha estado y estará vigente. Tiene los atributos: `year`, `month` y `day`. Se le puede llamar pasandole los tres parámetros, año, mes y dia. Si queremos obtener la fecha de hoy podemos llamar a la función de clase `datetime.date.today()`.\n",
    "\n",
    "- **`class datetime.time`** : Una marca de tiempo ideal, no sujeta a ninguna fecha en particular, y que asume que cada día tiene exactamente 24*60*60 segundos. Tiene los atributos: `hour`, `minute`, `second`, `microsecond` y `tzinfo`.\n",
    "\n",
    "- **`class datetime.datetime`** :  Combinación de fecha y hora, con los atributos: `year`, `month`, `day`, `hour`, `minute`, `second`, `microsecond` y `tzinfo`. Podemos obtener el momento actual llamando al mñétodo de clase `datetime.datetime.now()`.\n",
    "\n",
    "- **`class datetime.timedelta`** : Representa una duración: La diferencia entre dos objetos de tipo `date` o `datetime`.\n",
    "\n",
    "Estos tipos de datos son todos inmutables.\n",
    "\n",
    "#### Ejercicio: ¿Qué día de la semana es hoy?\n",
    "\n",
    "Usar la función definida en el ejercicio anterior para saber que día de la semana es hoy."
   ]
  },
  {
   "cell_type": "markdown",
   "metadata": {},
   "source": [
    "#### Solución\n",
    "\n",
    "Podemos usar `datetime.date.today()` para obtener la fecha de hoy, y a partir del año, mes y día es trivial obtener el día de la semana:"
   ]
  },
  {
   "cell_type": "code",
   "execution_count": 28,
   "metadata": {},
   "outputs": [
    {
     "name": "stdout",
     "output_type": "stream",
     "text": [
      "Hoy es lunes\n"
     ]
    }
   ],
   "source": [
    "import datetime\n",
    "\n",
    "hoy = datetime.date.today()\n",
    "print('Hoy es', date_to_weekday(hoy.year, hoy.month, hoy.day))"
   ]
  },
  {
   "cell_type": "markdown",
   "metadata": {},
   "source": [
    "## Trabajar con ficheros"
   ]
  },
  {
   "cell_type": "markdown",
   "metadata": {},
   "source": [
    "### <a name=\"xml\"></a>El paquete xml <a href=\"#top\">▲</a>\n",
    "\n",
    "Los diferentes módulos de Python para trabajar con ficheros XML están agrupados en el paquete `xml`. Las dos formas más habituales de trabajar con un fichero XML son DOM (:term:`Document Object Model`) y SAX (:term:`Simple API for XML`). Ambas están disponibles en los módulos `xml.dom` y `xml.sax` respectivamente.\n",
    "\n",
    "Usando el modelo DOM tenemos acceso a todo el árbol de una sola vez, lo que puede ser costoso en terminos de almacenamiento en memoría. Con SAX procesamos el árbol paso a paso, respondiendo ante ciertos eventos, a medida que se van abriendo y cerrando los nodos. Con esta segunda forma perdemos cierta flexibilidad pero no tenemos el problema del almacenamiento completo del árbol en memoria.\n",
    "\n",
    "XML es un formato de datos jerárquico, con lo que la forma maás habitual de representarlo es un árbol. Para eso se definen las clases `ElementTree`, que representa todo el documento XML a tratar, y `Element`, que representa a un nodo dentro del árbol. Las interacciones con el documento como un todo, como por ejemplo leerlo o guardarlo en un fichero en disco, se hacen normalmente a nivel de `ElementTree`. Las interacciones con un elemento XML o sus subelementos se realizan en el nivel de `Element`.\n",
    "\n",
    "Usaremos para explicar estos módulos el siguiente documento XML:"
   ]
  },
  {
   "cell_type": "code",
   "execution_count": 29,
   "metadata": {},
   "outputs": [
    {
     "name": "stdout",
     "output_type": "stream",
     "text": [
      "<?xml version=\"1.0\"?>\r\n",
      "<data>\r\n",
      "    <country name=\"Liechtenstein\">\r\n",
      "        <rank>1</rank>\r\n",
      "        <year>2008</year>\r\n",
      "        <gdppc>141100</gdppc>\r\n",
      "        <neighbor name=\"Austria\" direction=\"E\"/>\r\n",
      "        <neighbor name=\"Switzerland\" direction=\"W\"/>\r\n",
      "    </country>\r\n",
      "    <country name=\"Singapore\">\r\n",
      "        <rank>4</rank>\r\n",
      "        <year>2011</year>\r\n",
      "        <gdppc>59900</gdppc>\r\n",
      "        <neighbor name=\"Malaysia\" direction=\"N\"/>\r\n",
      "    </country>\r\n",
      "    <country name=\"Panama\">\r\n",
      "        <rank>68</rank>\r\n",
      "        <year>2011</year>\r\n",
      "        <gdppc>13600</gdppc>\r\n",
      "        <neighbor name=\"Costa Rica\" direction=\"W\"/>\r\n",
      "        <neighbor name=\"Colombia\" direction=\"E\"/>\r\n",
      "    </country>\r\n",
      "</data>"
     ]
    }
   ],
   "source": [
    "!cat data/country_data.xml"
   ]
  },
  {
   "cell_type": "markdown",
   "metadata": {},
   "source": [
    "Lo más básico es importar y leer estos datos desde un fichero. Lo podemos hacer con el siguiente código:"
   ]
  },
  {
   "cell_type": "code",
   "execution_count": 30,
   "metadata": {},
   "outputs": [
    {
     "name": "stdout",
     "output_type": "stream",
     "text": [
      "<Element 'data' at 0x7feadcd670e8>\n"
     ]
    }
   ],
   "source": [
    "import xml.etree.ElementTree as ET\n",
    "\n",
    "tree = ET.parse('data/country_data.xml')\n",
    "root = tree.getroot()\n",
    "print(root)"
   ]
  },
  {
   "cell_type": "markdown",
   "metadata": {},
   "source": [
    "O también podemos leer los datos a partir de una variable de tipo _string_:"
   ]
  },
  {
   "cell_type": "code",
   "execution_count": 31,
   "metadata": {},
   "outputs": [
    {
     "name": "stdout",
     "output_type": "stream",
     "text": [
      "<Element 'data' at 0x7feadce11368>\n"
     ]
    }
   ],
   "source": [
    "with open('data/country_data.xml', 'r', encoding='utf-8') as f:\n",
    "    country_data_as_string = f.read()\n",
    "\n",
    "root = ET.fromstring(country_data_as_string)\n",
    "print(root)"
   ]
  },
  {
   "cell_type": "markdown",
   "metadata": {},
   "source": [
    "Como `root` es un elemento (un objeto de la clase `Element`), tiene una etiqueta, `tag` y un conjunto de atributos, en forma de diccionario, `attrib`:"
   ]
  },
  {
   "cell_type": "code",
   "execution_count": 32,
   "metadata": {},
   "outputs": [
    {
     "name": "stdout",
     "output_type": "stream",
     "text": [
      "data {}\n"
     ]
    }
   ],
   "source": [
    "print(root.tag, root.attrib)"
   ]
  },
  {
   "cell_type": "markdown",
   "metadata": {},
   "source": [
    "Tambien tiene una serie de hijos, sobre los que podemos iterar:"
   ]
  },
  {
   "cell_type": "code",
   "execution_count": 33,
   "metadata": {},
   "outputs": [
    {
     "name": "stdout",
     "output_type": "stream",
     "text": [
      "country {'name': 'Liechtenstein'}\n",
      "country {'name': 'Singapore'}\n",
      "country {'name': 'Panama'}\n"
     ]
    }
   ],
   "source": [
    "for child in root:\n",
    "    print(child.tag, child.attrib)"
   ]
  },
  {
   "cell_type": "markdown",
   "metadata": {},
   "source": [
    "También podemos acceder a los hijos usando índices:"
   ]
  },
  {
   "cell_type": "code",
   "execution_count": 34,
   "metadata": {},
   "outputs": [
    {
     "name": "stdout",
     "output_type": "stream",
     "text": [
      "2008\n"
     ]
    }
   ],
   "source": [
    "print(root[0][1].text)"
   ]
  },
  {
   "cell_type": "markdown",
   "metadata": {},
   "source": [
    "La clase `Element` define una serie de método que nos ayudan a recorrer recursivamente todo el subárbol que haya debajo de él (Sus hijos, nietos, etc...). Por ejemplo, el método `iter()`:"
   ]
  },
  {
   "cell_type": "code",
   "execution_count": 35,
   "metadata": {},
   "outputs": [
    {
     "name": "stdout",
     "output_type": "stream",
     "text": [
      "{'direction': 'E', 'name': 'Austria'}\n",
      "{'direction': 'W', 'name': 'Switzerland'}\n",
      "{'direction': 'N', 'name': 'Malaysia'}\n",
      "{'direction': 'W', 'name': 'Costa Rica'}\n",
      "{'direction': 'E', 'name': 'Colombia'}\n"
     ]
    }
   ],
   "source": [
    "for neighbor in root.iter('neighbor'):\n",
    "    print(neighbor.attrib)"
   ]
  },
  {
   "cell_type": "markdown",
   "metadata": {},
   "source": [
    "El método `Element.findall()` localiza sólo los elementos de una determinada etiqueta que son hijos directos del nodo actual. El método `Element.find()` encuentra el primer hijo que cumpla esta misma condición. Con `Element.text` podemos acceder al contenido textual del elemento, y con `Element.get` podemos acceder a los valores de sus atributos:"
   ]
  },
  {
   "cell_type": "code",
   "execution_count": 41,
   "metadata": {},
   "outputs": [
    {
     "name": "stdout",
     "output_type": "stream",
     "text": [
      "El ranking de Liechtenstein es 1\n",
      "El ranking de Singapore es 4\n",
      "El ranking de Panama es 68\n"
     ]
    }
   ],
   "source": [
    "for country in root.findall('country'):\n",
    "    rank = country.find('rank').text\n",
    "    name = country.get('name')\n",
    "    print('El ranking de', name, 'es', rank)"
   ]
  },
  {
   "cell_type": "markdown",
   "metadata": {},
   "source": [
    "Se pueden hacer operaciones de búsqueda aun más sofisticadas usando [Xpath](http://en.wikipedia.org/wiki/XPath)."
   ]
  },
  {
   "cell_type": "markdown",
   "metadata": {},
   "source": [
    "### <a name=\"csv\"></a>El paquete csv <a href=\"#top\">▲</a>\n",
    "\n",
    "El formato de fichero llamado **CSV** (_Comma Separated Values_ o Valores separados por comas) es uno de los más usados para el intercambio de información de hojas de cálculo o bases de datos. A pesar de eso, no hay ningún estandar ni norma escrita, así que el formato esta definido de forma más o menos informal por el conjunto de aplicaciones que pueden leerlo o escribirlo.\n",
    "\n",
    "Esta carencia de estandares provoca que haya multiples, inesperadas y pequeñas diferencias entre los datos producidos o consumidos por diferentes aplicaciones. Por esta razón, trabajar con distinto ficheros CVS provinientes de distintas fuentes suele dar más de un dolor de cabeza. A pesar de estas divergencias (empezando por que caracter usar como separador de campos), es posible escribir un módulo que pueda maniputar de forma eficiente estos datos, ocultado al programador los detalles específicos de leer o escribir estos ficheros,\n",
    "\n",
    "![Su carencia de estándares...](img/estandares.png)\n",
    "\n",
    "El módulo csv permite escribir y leer estos archivos. El programador puede especificar, por ejemplo, \"escribe este archivo en el formato preferido por excel\", o \"lee este fichero como fuera de excel, pero usando el carácter `:` como separador de campos\". También nos permite definir nuestros propios formatos de uso particular, que el módulo denomina \"dialectos\".\n",
    "\n",
    "Las funciones `reader()` y `writer()` leen y escriben secuencias.\n",
    "\n",
    "Vamos a trabajar con un sencillo fichero, couyo contenido es el siguiente:"
   ]
  },
  {
   "cell_type": "code",
   "execution_count": 42,
   "metadata": {},
   "outputs": [
    {
     "name": "stdout",
     "output_type": "stream",
     "text": [
      "Range; Name; Race; Starship; Level\r\n",
      "Captain; James T. kirk; Human; USS Enterprise (NCC-1701); 92\r\n",
      "First officer: Spock; Vulcan; USS Enterprise (NCC-1701); 88\r\n",
      "Chief medical officer; Human; Leonard McCoy; USS Enterprise (NCC-1701); 87\r\n",
      "Communications officer; Human; Nyota Uhura; USS Enterprise (NCC-1701); 88\r\n",
      "Navigator; Human; Pavel Chekov; USS Enterprise (NCC-1701); 72\r\n",
      "Science officer; Michael Burnham; Vulcan; USS Discovery (NCC-1031); 0\r\n",
      "Captain; Gabriel Lorca; Human; USS Discovery (NCC-1031); 99\r\n",
      "First officer; Saru; Kelpien; USS Discovery (NCC-1031); 98\r\n"
     ]
    }
   ],
   "source": [
    "!cat data/star-trek-crew.csv"
   ]
  },
  {
   "cell_type": "markdown",
   "metadata": {},
   "source": [
    "Un ejemplo sencillo de lectura:"
   ]
  },
  {
   "cell_type": "code",
   "execution_count": 43,
   "metadata": {},
   "outputs": [
    {
     "name": "stdout",
     "output_type": "stream",
     "text": [
      "['Range', ' Name', ' Race', ' Starship', ' Level']\n",
      "['Captain', ' James T. kirk', ' Human', ' USS Enterprise (NCC-1701)', ' 92']\n",
      "['First officer: Spock', ' Vulcan', ' USS Enterprise (NCC-1701)', ' 88']\n",
      "['Chief medical officer', ' Human', ' Leonard McCoy', ' USS Enterprise (NCC-1701)', ' 87']\n",
      "['Communications officer', ' Human', ' Nyota Uhura', ' USS Enterprise (NCC-1701)', ' 88']\n",
      "['Navigator', ' Human', ' Pavel Chekov', ' USS Enterprise (NCC-1701)', ' 72']\n",
      "['Science officer', ' Michael Burnham', ' Vulcan', ' USS Discovery (NCC-1031)', ' 0']\n",
      "['Captain', ' Gabriel Lorca', ' Human', ' USS Discovery (NCC-1031)', ' 99']\n",
      "['First officer', ' Saru', ' Kelpien', ' USS Discovery (NCC-1031)', ' 98']\n"
     ]
    }
   ],
   "source": [
    "import csv\n",
    "\n",
    "with open('data/star-trek-crew.csv', 'r', encoding='utf-8') as f:\n",
    "    reader = csv.reader(f, delimiter=';')\n",
    "    for row in reader:\n",
    "        print(row)"
   ]
  },
  {
   "cell_type": "markdown",
   "metadata": {},
   "source": [
    "Y uno de escritura:"
   ]
  },
  {
   "cell_type": "code",
   "execution_count": 44,
   "metadata": {},
   "outputs": [
    {
     "name": "stdout",
     "output_type": "stream",
     "text": [
      "\"Leonardo\"\t\"Azul\"\t1452\r\n",
      "\"Raphael\"\t\"Rojo\"\t1483\r\n",
      "\"Michelangelo\"\t\"Naranja\"\t1475\r\n",
      "\"Donatello\"\t\"Violeta\"\t1386\r\n"
     ]
    }
   ],
   "source": [
    "import sys\n",
    "import csv\n",
    "\n",
    "datos = [\n",
    "    ('Leonardo', 'Azul', 1452),\n",
    "    ('Raphael', 'Rojo', 1483),\n",
    "    ('Michelangelo', 'Naranja', 1475),\n",
    "    ('Donatello', 'Violeta', 1386),\n",
    "    ]\n",
    "\n",
    "writer = csv.writer(sys.stdout, delimiter='\\t', quoting=csv.QUOTE_NONNUMERIC)\n",
    "writer.writerows(datos)"
   ]
  },
  {
   "cell_type": "markdown",
   "metadata": {},
   "source": [
    "Módulos para trabajar con ficheros comprimidos\n",
    "-----------------------------------------------------------------------"
   ]
  },
  {
   "cell_type": "markdown",
   "metadata": {},
   "source": [
    "### <a name=\"zipfile\">El módulo zipfile — Soporte para archivos ZIP</a> <a href=\"#top\">▲</a>\n",
    "\n",
    "El archivo ZIP es un formato estándar de archivado y compresión de archivos. Este módulo proporciona mecanismos para crear, leer, escribir, modificar y listar archivos ZIP. Soporta trabajar con ficheros ZIP cifrados, pero por el momento no puede crearlos. El descifrado es particularmente lento, porque no está implementado en C.\n",
    "\n",
    "La función `is_zipfile()` devuelve un booleno indicando si el fichero que se le pasa como parámetro es un archivo ZIP o no.\n",
    "\n",
    "La clase `ZipFile` nos permite trabajar directamente con un archivo ZIP. Tiene métodos para obtener información sobre los ficheros contenidos en el archivo, así como para añadir nuevos ficheros a un archivo.\n",
    "\n",
    "Por ejemplo, para leer los nombres de los ficheros contenidos enun archivo ZIP, podemos hacer:"
   ]
  },
  {
   "cell_type": "code",
   "execution_count": 40,
   "metadata": {},
   "outputs": [
    {
     "name": "stdout",
     "output_type": "stream",
     "text": [
      "country_data.xml\n",
      "star-trek-crew.csv\n"
     ]
    }
   ],
   "source": [
    "import zipfile\n",
    "\n",
    "zf = zipfile.ZipFile('data/data.zip', 'r')\n",
    "for fn in zf.namelist():\n",
    "    print(fn)"
   ]
  },
  {
   "cell_type": "markdown",
   "metadata": {},
   "source": [
    "#### Ejercicio: Buscar y listasr contenido de archivos Zip\n",
    "\n",
    "Usando la funcion `walk` del módulo `os.path`, hacer una utilidad que busque a partir de un directorio todos los ficheros zip y liste su contenido."
   ]
  },
  {
   "cell_type": "code",
   "execution_count": 45,
   "metadata": {},
   "outputs": [
    {
     "name": "stdout",
     "output_type": "stream",
     "text": [
      "#!/usr/bin/env python\r\n",
      "# -*- coding: utf-8 -*-\r\n",
      "\r\n",
      "from __future__ import print_function\r\n",
      "from __future__ import absolute_import\r\n",
      "from __future__ import division\r\n",
      "from __future__ import unicode_literals\r\n",
      "\r\n",
      "import os\r\n",
      "import zipfile\r\n",
      "\r\n",
      "def find_zip():\r\n",
      "    for (dirpath, dirnames, filenames) in os.walk('.'):\r\n",
      "        for filename in filenames:\r\n",
      "            if filename.lower().endswith('.zip'):\r\n",
      "                fullname = os.path.join(dirpath, filename)\r\n",
      "                yield fullname\r\n",
      "\r\n",
      "if __name__ == '__main__':\r\n",
      "    print('Buscando ficheros zip')\r\n",
      "    for fn in find_zip():\r\n",
      "        print('Fichero:', fn)\r\n",
      "        zf = zipfile.ZipFile(fn, 'r')\r\n",
      "        for fn in zf.namelist():\r\n",
      "            print(' - {}'.format(fn))\r\n",
      "        print('-'*80)"
     ]
    }
   ],
   "source": [
    "!cat ejercicios/find_zips.py"
   ]
  },
  {
   "cell_type": "markdown",
   "metadata": {},
   "source": [
    "### <a name=\"gzip\"></a>El módulo gzip - Soporte para ficheros gzip  <a href=\"#top\">▲</a>\n",
    "\n",
    "El módulo `gzip` nos proporciona los medios para comprimir o descomprimir ficheros igual que lo hacen los programas unix `gzip` y `gunzip`. Al contrario que con el formato ZIP,  el formato gzip solo permite comprimir y descomprimir un fichero, porque no tiene capacidad de archivado (Es decir, la posibilidad de añadir varios ficheros dentro del archivo).\n",
    "\n",
    "El módulo `gzip` proporciona la clase `GzipFile`, que imita a un objeto de tipo `file` de Python. Los objetos instanciados de esta clase leen y escriben ficheros con el formato gzip. La compresión y descompresión es realizada automáticamente, por lo que el programandor puede trabajar con el fichero como si fuera un fichero normal.\n",
    "\n",
    "Veamos un ejemplo de como crear un fichero comprimido con gzip:"
   ]
  },
  {
   "cell_type": "code",
   "execution_count": 50,
   "metadata": {},
   "outputs": [],
   "source": [
    "import gzip\n",
    "\n",
    "content = \"Lots of content here\"\n",
    "f = gzip.open('data/file.txt.gz', 'w')\n",
    "f.write(content.encode('utf-8'))\n",
    "f.close()"
   ]
  },
  {
   "cell_type": "markdown",
   "metadata": {},
   "source": [
    "Un ejemplo  de como leer un fichero comprimido:"
   ]
  },
  {
   "cell_type": "code",
   "execution_count": 58,
   "metadata": {},
   "outputs": [
    {
     "name": "stdout",
     "output_type": "stream",
     "text": [
      "Lots of content here\n"
     ]
    }
   ],
   "source": [
    "import gzip\n",
    "\n",
    "with gzip.open('data/file.txt.gz', 'rt', encoding='utf-8') as f:\n",
    "    file_content = f.read()\n",
    "\n",
    "print(file_content)"
   ]
  },
  {
   "cell_type": "markdown",
   "metadata": {},
   "source": [
    "Como comprimir un fichero ya existente (por defecto gzip asume ficheros binarios, si queremos un fichero de texto y que haga las conversiones automaticas a utf-8 hay que usar los modos `rt` o `wt`:"
   ]
  },
  {
   "cell_type": "code",
   "execution_count": 61,
   "metadata": {},
   "outputs": [
    {
     "name": "stdout",
     "output_type": "stream",
     "text": [
      "data/file.txt.gz  data/prologo.txt.gz\r\n"
     ]
    }
   ],
   "source": [
    "import gzip\n",
    "with open('data/prologo.txt', 'r', encoding='utf-8') as f_in:\n",
    "    with gzip.open('data/prologo.txt.gz', mode='wt', encoding='utf-8') as f_out:\n",
    "        f_out.writelines(f_in)\n",
    "!ls data/*.gz"
   ]
  },
  {
   "cell_type": "markdown",
   "metadata": {},
   "source": [
    "## Internet\n",
    "\n",
    "En la librería estandar vienen incluidos varios módulos muy potentes para trabajar con recurosos de Internet.\n"
   ]
  },
  {
   "cell_type": "markdown",
   "metadata": {},
   "source": [
    "### <a name=\"urllib.request\"></a> El módulo urllib.request — Librería para abrir URLs  <a href=\"#top\">▲</a>\n",
    "\n",
    "El módulo `urllib.request` define funciones y clases que nos ayudan a abrir recursos en Intenet, URL, en su mayoría usando el protocolo HTTP, incluyendo algunos aspectos un poco más comlpejos, como autentificación, redirecciones, _cookies_, etc...\n",
    "\n",
    "> Nota : Diferencias entre Python 2.x / Python 3.x\n",
    "\n",
    "  Los contenidos de los módulos `urllib.request` y `urllib.error`, en python 2.x se encontraban en un solo módulo, `urllib2`. La herramienta `2to3` adapta automáticamente estos imports, o podemos usar `six` para importar de igual manera en ambas versiones: `form six.moves import urllib`.\n",
    " \n",
    "Este módulo nos permite abrir y trabajar con direcciones de internet\n",
    "(URLs). La función más usada del módulo es la siguiente:\n",
    "\n",
    "    urllib.request.urlopen(url[, data][, timeout])\n",
    "\n",
    "Que abre la url indicada, dandonos un objeto similar a un fichero. Por ejemplo, podemos realizar una consulta a Google con el siguente código:"
   ]
  },
  {
   "cell_type": "code",
   "execution_count": 66,
   "metadata": {},
   "outputs": [
    {
     "data": {
      "text/html": [
       "<p>hola <b>nn</b<</p>"
      ],
      "text/plain": [
       "<IPython.core.display.HTML object>"
      ]
     },
     "metadata": {},
     "output_type": "display_data"
    }
   ],
   "source": [
    "from IPython.display import display, HTML\n",
    "\n",
    "display(HTML('<p>hola <b>nn</b<</p>'))"
   ]
  },
  {
   "cell_type": "code",
   "execution_count": 83,
   "metadata": {},
   "outputs": [
    {
     "name": "stdout",
     "output_type": "stream",
     "text": [
      "Python Canarias - Comunidad de entusiastas del lenguaje Python.\n"
     ]
    }
   ],
   "source": [
    "import urllib\n",
    "\n",
    "r = urllib.request.urlopen('http://www.pythoncanarias.es/')\n",
    "page = r.read().decode('utf-8')\n",
    "pat_titulo = re.compile('<title>([^<]+)</title>', re.IGNORECASE)\n",
    "m = pat_titulo.search(page)\n",
    "print(m.group(1) if m else 'Título no encontrado')\n"
   ]
  },
  {
   "cell_type": "markdown",
   "metadata": {},
   "source": [
    "En el parámetro opcional `data` podemos incluir información adicional  que requieren ciertas peticiones web, especialmente las que usan el verbo `POST`. Si se incluye, `data` debe estar formateada con el estándar  `application/x-www-form-urlencoded`, algo que podemos conseguir usando la función `urllib.parse.urlencode()`, que acepta como\n",
    "parámetro un  diccionario o una secuencia de parejas (2-tuplas), y devuelve una string en ese formato.\n",
    "\n",
    "El otro parámetro opcional, `timeout`, indica el tiempo en segundos que debemos esperar antes de descartar por imposible una conexión.\n",
    "\n",
    "El objeto devuelto, además de comportarse como un archivo y como un _context manager_, dispone de métodos como:\n",
    "\n",
    " - **`geturl()`** : Devuelve la URL del recurso recuperado. Esto se utiliza normalmente para determinar si ha habido alguna clase de recirección.\n",
    "\n",
    "- **`info()`** : Devuelve la meta-información sobre el recurso solicitado, como las cabeceras, en forma de una instancia de la clase `mimetools.Message`.\n",
    "\n",
    "- **`getcode()`** : Devuelve el código de estado del protocolo HTTP de la respuesta.\n",
    "\n",
    "#### Ejercicio: Salvar una página de Internet en un fichero local\n",
    "\n",
    "POr ejemplo, la de Python: <http:www.python.org>\n",
    "\n",
    "#### Solución"
   ]
  },
  {
   "cell_type": "code",
   "execution_count": 91,
   "metadata": {},
   "outputs": [
    {
     "name": "stdout",
     "output_type": "stream",
     "text": [
      "-rw-r--r-- 1 jileon jileon 48853 nov 20 19:55 data/python-homepage.html\r\n"
     ]
    }
   ],
   "source": [
    "import urllib\n",
    "\n",
    "url = 'http://www.python.org/'\n",
    "with urllib.request.urlopen(url) as source:\n",
    "    with open('data/python-homepage.html', 'w', encoding='utf-8') as target:\n",
    "        for linea in source.readlines():\n",
    "            target.write(linea.decode('utf-8'))\n",
    "!ls -la data/*.html"
   ]
  },
  {
   "cell_type": "markdown",
   "metadata": {},
   "source": [
    "### <a name=\"smtplib\"></a>El módulo smtplib — cliente de protocolo SMTP (Correo)  <a href=\"#top\">▲</a>\n",
    "\n",
    "El módulo `smtplib` define un cliente del protocolo **SMTP** (_Simple Mail TRansfer Protocol_), que puede ser usado para enviar correo  electrónico a cualquier ordenador en Internet que esté ejecutando un demonio SMTP o ESMTP.\n",
    "\n",
    "El siguiente ejemplo compone un mensaje, ayudándose de la clase `Message` definido en `email.message`. Las variables\n",
    "`gmail_user` y `gmail_password` están definidas en el código, lo que en general es muy mala idea. Una vez creado el mensaje, se realiza la conexión al servidor de correo, que en este caso es el de Google Mail. La conexión en este caso es un poco más complicada de lo que sería con un servidor SMTP local, en la que la seguridad a lo mejor es un poco más laxa:"
   ]
  },
  {
   "cell_type": "code",
   "execution_count": 98,
   "metadata": {},
   "outputs": [
    {
     "name": "stdout",
     "output_type": "stream",
     "text": [
      "No puedo enviar correo sin unas credenciales válidas\n"
     ]
    }
   ],
   "source": [
    "from email.message import Message\n",
    "from smtplib import SMTP\n",
    "\n",
    "gmail_user = ''  # Pon aqui tu nombre de usuario\n",
    "gmail_password = ''  # pon aqui tu contraseña\n",
    "\n",
    "if all({gmail_user, gmail_password}):\n",
    "    # Creamos el mensaje\n",
    "    msg = Message()\n",
    "    msg['to'] = 'euribates+test@gmail.com'\n",
    "    msg['from'] = 'euribates@gmail.com'\n",
    "    msg['subject'] = 'Esto es una prueba!'\n",
    "    msg.set_payload('Hola, mundo\\n\\n-- Juan')\n",
    "\n",
    "    # Lo enviamos\n",
    "    print('Enviando correo', end=' ')\n",
    "    smtpserver = SMTP(\"smtp.gmail.com\", 587)\n",
    "    smtpserver.ehlo()\n",
    "    smtpserver.starttls()\n",
    "    smtpserver.ehlo\n",
    "    smtpserver.login(gmail_user, gmail_password)\n",
    "    smtpserver.sendmail(gmail_user, msg['to'], msg.as_string())\n",
    "    smtpserver.close()\n",
    "    print('[OK]')\n",
    "else:\n",
    "    print('No puedo enviar correo sin unas credenciales válidas')"
   ]
  },
  {
   "cell_type": "markdown",
   "metadata": {},
   "source": [
    "Aunque el formato de los mensajes es realmente sencillo, usar la clase `Message` nos permite incluir de forma rápida y sencilla funcionalidades más elaboradas, como anexar ficheros o enviar múltiples versiones del mismo contenido."
   ]
  },
  {
   "cell_type": "markdown",
   "metadata": {},
   "source": [
    "### <a name=\"http.server\"></a> El modulo http.server - Un servidor web  <a href=\"#top\">▲</a>\n",
    "\n",
    "> **Nota: Diferencias entre Python 2.x / Python 3.x**\n",
    "> En Python2.x el módulo `http.server` se llamaba `SimpleHTTPServer`. La herramienta `2to3` adapta automáticamente estos imports, o podemos user `six` para que el código funcione en ambas plataformas \n",
    "\n",
    "Este módulo define una serie de clases que nos permiten  implementar nuestros propios servidores web. La clase SimpleHTTPRequestHandler definida en `http.server` (En el módulo `SimpleHTTPServer` en Python 2.x) es un servidor de ejemplo básico que sirve los ficheros del directorio donde se ha ejecutado, mapeando la estrucura de directorios como páginas web.\n",
    "\n",
    "La mayor parte del trabajo, como analizar las peticiones, por ejemplo, lo hace la clase de la que deriva, `BaseHTTPServer`, la clase de ejemplo solo tienen que sobreescribir los métodos `do_GET()` y `do_HEAD()`.\n",
    "\n",
    "El siguiente programa usa la clase de ejemplo para arrancar un\n",
    "servidor web básico, escuchando en la máquina local y en el puerto\n",
    "8000:"
   ]
  },
  {
   "cell_type": "code",
   "execution_count": 4,
   "metadata": {},
   "outputs": [
    {
     "name": "stdout",
     "output_type": "stream",
     "text": [
      "#!/usr/bin/env python3\r\n",
      "# -*- coding: utf-8 -*-\r\n",
      "\r\n",
      "from http.server import HTTPServer\r\n",
      "from http.server import SimpleHTTPRequestHandler\r\n",
      "\r\n",
      "if __name__ == '__main__':\r\n",
      "    server_address = ('localhost', 8080)\r\n",
      "    httpd = HTTPServer(server_address, SimpleHTTPRequestHandler)\r\n",
      "    print('Serving at {}'.format(server_address))\r\n",
      "    httpd.serve_forever()\r\n",
      "\r\n"
     ]
    }
   ],
   "source": [
    "!cat ejercicios/http_server.py"
   ]
  },
  {
   "cell_type": "markdown",
   "metadata": {},
   "source": [
    "Arrancarlo dentro de Jupyter puede ser un poco complicado, sobre todo para poder abortarlo, pero se puede ejecutar desde la shell sin problemas, y abortarlo con CTL-C, o ajecutar la línea siguiente (Para parar el servidor dentro de Jupyter, ir al menu Kernel -> Interrupt:"
   ]
  },
  {
   "cell_type": "code",
   "execution_count": 5,
   "metadata": {},
   "outputs": [
    {
     "name": "stdout",
     "output_type": "stream",
     "text": [
      "Serving at ('localhost', 8080)\n",
      "127.0.0.1 - - [20/Nov/2017 23:02:50] \"GET / HTTP/1.1\" 200 -\n",
      "127.0.0.1 - - [20/Nov/2017 23:02:53] \"GET /characteres.json HTTP/1.1\" 200 -\n",
      "127.0.0.1 - - [20/Nov/2017 23:02:56] \"GET /fibo.py HTTP/1.1\" 200 -\n",
      "^C\n",
      "Traceback (most recent call last):\n",
      "  File \"ejercicios/http_server.py\", line 11, in <module>\n",
      "    httpd.serve_forever()\n",
      "  File \"/usr/lib/python3.5/socketserver.py\", line 232, in serve_forever\n",
      "    ready = selector.select(poll_interval)\n",
      "  File \"/usr/lib/python3.5/selectors.py\", line 376, in select\n",
      "    fd_event_list = self._poll.poll(timeout)\n",
      "KeyboardInterrupt\n"
     ]
    }
   ],
   "source": [
    "!python3 ejercicios/http_server.py"
   ]
  },
  {
   "cell_type": "markdown",
   "metadata": {},
   "source": [
    "Pero puede ser aun más fácil, usando la opcion `-m` en el  interprete para que ejecute el módulo como si fuera\n",
    "el programa principal, y opcionalmente indicando el número de puerto al que se vincula el servidor.\n",
    "\n",
    "Para Python 3.x:\n",
    "\n",
    "    $ python3 -m http.server 8000\n",
    "    \n",
    "Para Python 2.x:\n",
    "\n",
    "    $ python -m SimpleHTTPServer 8000\n"
   ]
  },
  {
   "cell_type": "markdown",
   "metadata": {},
   "source": [
    "### <a name=\"hashlib\"></a>El módulo hashlib - hashes y códigos de verificación e integridad <a href=\"#top\">▲</a>\n",
    "\n",
    "El módulo `hashlib` define una interfaz común a una serie de algoritmos conocidos como _funciones de hash criptográficos_ o _funciones resumen_: SHA1, SHA224, SHA256,  SHA384 y SHA512, así como el algoritmo MD5 de RSA (Definido como estándar en el RFC 1321).\n",
    "\n",
    "Su uso en muy sencillo: Por ejemplo, usamos `new('<name>')` para crear un objeto, donde $name$ es el nombre de un algoritmo conocido e imlpementado en la librería, como por ejemplo `md5`. A partir de ahi, podemos ir actualizando los datos sobre los que se tienen que hacer el *hash* con sucesivas llamadas a su método `update()`. Hacer una serie de llamadas sucesivas con partes del texto es equivalente a hacer un solo `update()` con todo el texto concatenado en un único valor; en otras palabras:"
   ]
  },
  {
   "cell_type": "code",
   "execution_count": 39,
   "metadata": {},
   "outputs": [
    {
     "name": "stdout",
     "output_type": "stream",
     "text": [
      "3f687c859595879530a6a8c0062b1563\n",
      "3f687c859595879530a6a8c0062b1563\n"
     ]
    }
   ],
   "source": [
    "import hashlib\n",
    "\n",
    "a = b'hola, '\n",
    "b = b'mundo'\n",
    "\n",
    "m1 = hashlib.new('md5')\n",
    "m1.update(a)\n",
    "m1.update(b)\n",
    "\n",
    "m2 = hashlib.new('md5')\n",
    "m2.update(a + b)\n",
    "\n",
    "assert m1.hexdigest() == m2.hexdigest() == '3f687c859595879530a6a8c0062b1563'\n",
    "print(m1.hexdigest(), m2.hexdigest(), sep='\\n')"
   ]
  },
  {
   "cell_type": "markdown",
   "metadata": {},
   "source": [
    "Podemos ir actualizando poco a poco con el método `update` o se pueden suministrar todos los datos en la llamada a `new`. Por ejemplo, para obtener el *hash* criptográfico de la frase \"Su teoría es descabellada, pero no lo suficente para ser correcta.\", podemos hacer:"
   ]
  },
  {
   "cell_type": "code",
   "execution_count": 40,
   "metadata": {},
   "outputs": [
    {
     "name": "stdout",
     "output_type": "stream",
     "text": [
      "46c8a761de36c7306532ae6f1013164c\n",
      "46c8a761de36c7306532ae6f1013164c\n"
     ]
    }
   ],
   "source": [
    "import hashlib\n",
    "\n",
    "m1 = hashlib.new('md5')\n",
    "m1.update(\"Su teoría es descabellada\".encode('utf-8'))\n",
    "m1.update(b\", pero no lo suficente\")\n",
    "m1.update(b\" para ser correcta.\")\n",
    "\n",
    "m2 = hashlib.new('md5', 'Su teoría es descabellada, pero no lo suficente para ser correcta.'.encode('utf-8'))\n",
    "\n",
    "assert m1.hexdigest() == m2.hexdigest() == '46c8a761de36c7306532ae6f1013164c'\n",
    "print(m1.hexdigest(), m2.hexdigest(), sep='\\n')"
   ]
  },
  {
   "cell_type": "markdown",
   "metadata": {},
   "source": [
    "El código obtenido depende de los datos suministrados, de forma que cualquier alteración, por mínima que sea, en el texto original, provocará una alteración enorme en el código de salida. Por ejemplo, veamos como cambia el resultado simplemente cambiando una coma de lugar:"
   ]
  },
  {
   "cell_type": "code",
   "execution_count": 41,
   "metadata": {},
   "outputs": [
    {
     "name": "stdout",
     "output_type": "stream",
     "text": [
      "eafd88022b53be13af86520a6a221024\n",
      "2b4360dbca5fd7b7b5df3fc4af7bab24\n"
     ]
    }
   ],
   "source": [
    "import hashlib\n",
    "\n",
    "m1 = hashlib.new('md5', 'Perdón imposible, ejecutar prisionero'.encode('utf-8'))\n",
    "m2 = hashlib.new('md5', 'Perdón, imposible ejecutar prisionero'.encode('utf-8'))\n",
    "\n",
    "assert m1.hexdigest() != m2.hexdigest()\n",
    "print(m1.hexdigest(), m2.hexdigest(), sep='\\n')"
   ]
  },
  {
   "cell_type": "markdown",
   "metadata": {},
   "source": [
    "> **Nota: El ejemplo se basa en una anécdota apócrifa atribuida al emperador Carlos V, de la que circulan varias versiones. Ésta es una de ellas:**\n",
    "> Estando el rey en el teatro, le recordaron que tenía que decidir si indultaba o no a un condenado a muerte, decisión que había aplazado en su última audiencia, pero que ahora corría prisa, pues la ejecución estaba prevista para el día siguiente. Como respuesta, escribió en un billete: \"Perdón imposible ejecutar al reo\". El secretario que llevaba el papel se dió cuenta de que la vida del prisionero estaba en sus manos, y dependía de dónde se añadiese la coma que, evidentemente, faltaba. Si se decía \"Perdón imposible, ejecutar al reo\", el condenado era hombre muerto, pero si se escribía \"Perdón, imposible ejecutar al reo\", se salvaba."
   ]
  },
  {
   "cell_type": "code",
   "execution_count": null,
   "metadata": {},
   "outputs": [],
   "source": []
  }
 ],
 "metadata": {
  "kernelspec": {
   "display_name": "Python 3",
   "language": "python",
   "name": "python3"
  },
  "language_info": {
   "codemirror_mode": {
    "name": "ipython",
    "version": 3
   },
   "file_extension": ".py",
   "mimetype": "text/x-python",
   "name": "python",
   "nbconvert_exporter": "python",
   "pygments_lexer": "ipython3",
   "version": "3.5.2"
  }
 },
 "nbformat": 4,
 "nbformat_minor": 2
}
