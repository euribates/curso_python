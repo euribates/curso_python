{
 "cells": [
  {
   "cell_type": "markdown",
   "metadata": {},
   "source": [
    "# Control de flujo en Python\n",
    "\n",
    "Python es similar en muchos aspectos a otros lenguajes de \n",
    "programación, pero tiene una caraterísitica casi única,\n",
    "el uso de la indentación para agrupar los bloques de código.\n",
    "\n",
    "En otros lenguajes es habitual el uso de palabras reservadas\n",
    "como `Begin`  o `End` o caracteres especiales como `{` y `}`. En python,\n",
    "sin embargo, los bloques de código quedan definidos por su nivel de\n",
    "indentación. \n",
    "\n",
    "La indentación, por tanto, que en otros lenguajes es\n",
    "solo una opción estética destinada a mejorar la legibilidad, en Python\n",
    "si que tiene significado y es, por tanto, obligatoria.\n",
    "\n",
    "Para empezar un bloque de código, se aumenta la indentación de \n",
    "las líneas siguientes; todas las lineas que tengan la misma indentación\n",
    "forman parte del mismo bloque. Cuando queremos indicar el fin del bloque, \n",
    "simplemente volvemos a la indentación anterior.\n",
    "\n",
    "**Nota**: No hay obligación por parte del lenguaje de usar un determinado número\n",
    "de espacios ni de usar o no el tabulador, pero la recomendación, seguida\n",
    "practicamente por todos los desarrolladores y muy conveniente a la hora\n",
    "de publicar, compartir o reutilizar código, es usar *cuatro espacios* para\n",
    "cada nivel de indentación, y no usar tabuladores.\n",
    "\n",
    "Eso si: Es muy importante **no mezclar nunca espacios y tabuladores**. El \n",
    "interprete reconoce un tabulador como 8 espacios, pero visualmente no se \n",
    "puede apreciar la diferencia, así que es muy importante mantenener la \n",
    "consistencia.\n",
    "\n",
    "La mayor parte de los editores e IDEs de programación actuales \n",
    "indentan automáticamente el código a medida que escribimos, y reconocen\n",
    "la sintáxis de Python.\n",
    "\n",
    "Algunos ven con cierto desagrado este aspecto\n",
    "de Python. En realidad, al poco de usarlo, la mayoría encuentra las\n",
    "ventajas de este sistema mucho mayores que las desventajas. Las\n",
    "ventajas son:\n",
    "\n",
    " - El código es más legible y más corto.\n",
    "\n",
    " - Permite reutilizar para otras funciones símbolos\n",
    "   como ``{`` y ``}``, usados en la mayoría\n",
    "   de los lenguajes derivados de C, como C++, Java o\n",
    "   C# para marcar el inicio y final de bloques, o\n",
    "   reduce la lista de palabras reservadas del lenguaje,\n",
    "   en casos como Pascal (Donde se reservan las palabras\n",
    "   `BEGIN` y `END`).\n",
    "\n",
    " - Evita ciertos casos de ambigüedad, donde la indentación\n",
    "   indica una cosa pero el código realmente ejecuta otra.\n",
    "   En estos casos, o bien la identación es correcta, y el código\n",
    "   esta mal, o viceversa. Ambos casos nos llevan a suponer\n",
    "   que el código está haciendo una cosa, cuando realmente\n",
    "   está haciendo otra. Este tipo de errores es relativamente\n",
    "   frecuente, y difícil de detectar si hay muchos niveles de\n",
    "   anidamiento. Con python no existe esta ambigüedad, ya\n",
    "   que la unica referencia es el nivel de indentación.\n",
    "\n",
    " - De todas formas, ibas a indentarlo\n",
    "\n",
    "Tampoco hay puntos y comas al final de cada línea. La línea acaba donde acaba. En\n",
    "caso de necesitar extendernos a más de una linea, podemos\n",
    "usar el caracter `\\` al final de una línea para continuar en la siguiente. Veremos\n",
    "algunos ejemplos durante el resto del curso.\n"
   ]
  },
  {
   "cell_type": "markdown",
   "metadata": {},
   "source": [
    "## La sentencia if\n",
    "\n",
    "Esta estructura de control seguramente es la más\n",
    "fácil de usar. Simplemente evalua una expresion, si el resultado\n",
    "es verdad (`True`) se ejecuta el bloque de código siguiente al `if`.\n",
    "Si es `False`, se ejecuta el bloque de código que sigue despues\n",
    "del `else`, si es que se ha incluido, ya que es opcional:"
   ]
  },
  {
   "cell_type": "code",
   "execution_count": 4,
   "metadata": {
    "collapsed": false
   },
   "outputs": [
    {
     "name": "stdout",
     "output_type": "stream",
     "text": [
      "Siete es mayor que tres\n",
      "quien lo iba a pensar...\n"
     ]
    }
   ],
   "source": [
    "if 7 > 3:\n",
    "    print('Siete es mayor que tres')\n",
    "    print('quien lo iba a pensar...')\n",
    "else:\n",
    "    print('Algo falla en las matemáticas...')"
   ]
  },
  {
   "cell_type": "markdown",
   "metadata": {},
   "source": [
    "Como vemos, las dos líneas de `print` se ejecutan porque las dos están \n",
    "al mismo nivel y forman, por tanto, un bloque.\n",
    "\n",
    "**Nota**: En el modo interactivo, eso significa que tendremos que pulsar varias\n",
    "veces la barra de espacios o el tabulador, para cada línea dentro de\n",
    "un bloque. En la práctica, la mayoría de las veces escribiremos código\n",
    "Python usando algún editor para programadores, todos los cuales tiene\n",
    "algún tipo de facilidad de auto-indentado. Otra pega del modo\n",
    "interactivo es que tendremos que indicar con una línea en blanco\n",
    "cuando hayamos acabado de introducir todas las líneas del bloque, ya\n",
    "que el analizador no tiene otra forma de saber si hemos acabado de\n",
    "introducir líneas o no.\n",
    "\n",
    "No es necesario incluir paréntesis en la expresión de la condición, a no ser que\n",
    "sean necesarios para modificar la prioridad de ciertas operaciones, por \n",
    "ejemplo:"
   ]
  },
  {
   "cell_type": "code",
   "execution_count": 6,
   "metadata": {
    "collapsed": false
   },
   "outputs": [
    {
     "name": "stdout",
     "output_type": "stream",
     "text": [
      "It's OK\n"
     ]
    }
   ],
   "source": [
    "a = 7\n",
    "b = 8\n",
    "c = 9\n",
    "if (a+b)*c == 135:\n",
    "    print(\"It's OK\")"
   ]
  },
  {
   "cell_type": "markdown",
   "metadata": {},
   "source": [
    "Si queremos comprobar una serie de condiciones, y actuar\n",
    "de forma adecuada en cada caso, podemos encadenarlas\n",
    "usando la formula `if [elif ...] else`. `elif`\n",
    "es solo una forma abreviada de `else if`, apropiada\n",
    "para mantener la indentación de código a un nivel razonable.\n",
    "\n",
    "Veamos un ejemplo. Importamos el modulo `random`, que nos\n",
    "permite trabajar con números aleatorios, y usamos su función\n",
    "`randint`, que nos devuelve un número al azar dentro del rango\n",
    "definido por los parámetros que le pasamos:"
   ]
  },
  {
   "cell_type": "code",
   "execution_count": 10,
   "metadata": {
    "collapsed": false
   },
   "outputs": [
    {
     "name": "stdout",
     "output_type": "stream",
     "text": [
      "-6 es negativo\n"
     ]
    }
   ],
   "source": [
    "import random\n",
    "\n",
    "n = random.randint(-10, 10)\n",
    "print(n, 'es', end=' ')\n",
    "if n == -10:\n",
    "     print('el límite inferior')\n",
    "elif -9 <= n < 0:\n",
    "     print ('negativo')\n",
    "elif n == 0:\n",
    "     print('cero')\n",
    "elif 0 < n <= 9:\n",
    "     print ('positivo')\n",
    "else:\n",
    "    print('el límite superior')"
   ]
  },
  {
   "cell_type": "markdown",
   "metadata": {},
   "source": [
    "En otros lenguajes se usa una estructura llamada de condicional múltiple\n",
    "llamado normalmente `case` o `switch` para estas comprobaciones en serie.\n",
    "En python se prefiere la sintaxis de `if [elif...] [else]`. A nivel de \n",
    "rendimiento, no hay diferencia entre las dos sintaxis, ya quq ambas \n",
    "hacen exactamente lo mismo."
   ]
  },
  {
   "cell_type": "code",
   "execution_count": null,
   "metadata": {
    "collapsed": true
   },
   "outputs": [],
   "source": []
  },
  {
   "cell_type": "code",
   "execution_count": null,
   "metadata": {
    "collapsed": true
   },
   "outputs": [],
   "source": []
  }
 ],
 "metadata": {
  "kernelspec": {
   "display_name": "Python 3",
   "language": "python",
   "name": "python3"
  },
  "language_info": {
   "codemirror_mode": {
    "name": "ipython",
    "version": 3
   },
   "file_extension": ".py",
   "mimetype": "text/x-python",
   "name": "python",
   "nbconvert_exporter": "python",
   "pygments_lexer": "ipython3",
   "version": "3.5.2"
  }
 },
 "nbformat": 4,
 "nbformat_minor": 2
}
