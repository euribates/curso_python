{
 "cells": [
  {
   "cell_type": "markdown",
   "metadata": {},
   "source": [
    "# Control de flujo en Python\n",
    "\n",
    "Python es similar en muchos aspectos a otros lenguajes de \n",
    "programación, pero tiene una caraterísitica casi única,\n",
    "el uso de la indentación para agrupar los bloques de código.\n",
    "\n",
    "En otros lenguajes es habitual el uso de palabras reservadas\n",
    "como `Begin`  o `End` o caracteres especiales como `{` y `}`. En python,\n",
    "sin embargo, los bloques de código quedan definidos por su nivel de\n",
    "indentación. \n",
    "\n",
    "La indentación, por tanto, que en otros lenguajes es\n",
    "solo una opción estética destinada a mejorar la legibilidad, en Python\n",
    "si que tiene significado y es, por tanto, obligatoria.\n",
    "\n",
    "Para empezar un bloque de código, se aumenta la indentación de \n",
    "las líneas siguientes; todas las lineas que tengan la misma indentación\n",
    "forman parte del mismo bloque. Cuando queremos indicar el fin del bloque, \n",
    "simplemente volvemos a la indentación anterior.\n",
    "\n",
    "**Nota**: No hay obligación por parte del lenguaje de usar un determinado número\n",
    "de espacios ni de usar o no el tabulador, pero la recomendación, seguida\n",
    "practicamente por todos los desarrolladores y muy conveniente a la hora\n",
    "de publicar, compartir o reutilizar código, es usar *cuatro espacios* para\n",
    "cada nivel de indentación, y no usar tabuladores.\n",
    "\n",
    "Eso si: Es muy importante **no mezclar nunca espacios y tabuladores**. El \n",
    "interprete reconoce un tabulador como 8 espacios, pero visualmente no se \n",
    "puede apreciar la diferencia, así que es muy importante mantenener la \n",
    "consistencia.\n",
    "\n",
    "La mayor parte de los editores e IDEs de programación actuales \n",
    "indentan automáticamente el código a medida que escribimos, y reconocen\n",
    "la sintáxis de Python.\n",
    "\n",
    "Algunos ven con cierto desagrado este aspecto\n",
    "de Python. En realidad, al poco de usarlo, la mayoría encuentra las\n",
    "ventajas de este sistema mucho mayores que las desventajas. Las\n",
    "ventajas son:\n",
    "\n",
    " - El código es más legible y más corto.\n",
    "\n",
    " - Permite reutilizar para otras funciones símbolos\n",
    "   como ``{`` y ``}``, usados en la mayoría\n",
    "   de los lenguajes derivados de C, como C++, Java o\n",
    "   C# para marcar el inicio y final de bloques, o\n",
    "   reduce la lista de palabras reservadas del lenguaje,\n",
    "   en casos como Pascal (Donde se reservan las palabras\n",
    "   `BEGIN` y `END`).\n",
    "\n",
    " - Evita ciertos casos de ambigüedad, donde la indentación\n",
    "   indica una cosa pero el código realmente ejecuta otra.\n",
    "   En estos casos, o bien la identación es correcta, y el código\n",
    "   esta mal, o viceversa. Ambos casos nos llevan a suponer\n",
    "   que el código está haciendo una cosa, cuando realmente\n",
    "   está haciendo otra. Este tipo de errores es relativamente\n",
    "   frecuente, y difícil de detectar si hay muchos niveles de\n",
    "   anidamiento. Con python no existe esta ambigüedad, ya\n",
    "   que la unica referencia es el nivel de indentación.\n",
    "\n",
    " - De todas formas, ibas a indentarlo\n",
    "\n",
    "Tampoco hay puntos y comas al final de cada línea. La línea acaba donde acaba. En\n",
    "caso de necesitar extendernos a más de una linea, podemos\n",
    "usar el caracter `\\` al final de una línea para continuar en la siguiente. Veremos\n",
    "algunos ejemplos durante el resto del curso.\n"
   ]
  },
  {
   "cell_type": "markdown",
   "metadata": {},
   "source": [
    "## La sentencia if\n",
    "\n",
    "Esta estructura de control seguramente es la más\n",
    "fácil de usar. Simplemente evalua una expresion, si el resultado\n",
    "es verdad (`True`) se ejecuta el bloque de código siguiente al `if`.\n",
    "Si es `False`, se ejecuta el bloque de código que sigue despues\n",
    "del `else`, si es que se ha incluido, ya que es opcional:"
   ]
  },
  {
   "cell_type": "code",
   "execution_count": 46,
   "metadata": {
    "collapsed": false
   },
   "outputs": [
    {
     "name": "stdout",
     "output_type": "stream",
     "text": [
      "Siete es mayor que tres\n",
      "quien lo iba a pensar...\n"
     ]
    }
   ],
   "source": [
    "if 7 > 3:\n",
    "    print('Siete es mayor que tres')\n",
    "    print('quien lo iba a pensar...')\n",
    "else:\n",
    "    print('Algo falla en las matemáticas...')"
   ]
  },
  {
   "cell_type": "markdown",
   "metadata": {},
   "source": [
    "Como vemos, las dos líneas de `print` se ejecutan porque las dos están \n",
    "al mismo nivel y forman, por tanto, un bloque.\n",
    "\n",
    "**Nota**: En el modo interactivo, eso significa que tendremos que pulsar varias\n",
    "veces la barra de espacios o el tabulador, para cada línea dentro de\n",
    "un bloque. En la práctica, la mayoría de las veces escribiremos código\n",
    "Python usando algún editor para programadores, todos los cuales tiene\n",
    "algún tipo de facilidad de auto-indentado. Otra pega del modo\n",
    "interactivo es que tendremos que indicar con una línea en blanco\n",
    "cuando hayamos acabado de introducir todas las líneas del bloque, ya\n",
    "que el analizador no tiene otra forma de saber si hemos acabado de\n",
    "introducir líneas o no.\n",
    "\n",
    "No es necesario incluir paréntesis en la expresión de la condición, a no ser que\n",
    "sean necesarios para modificar la prioridad de ciertas operaciones, por \n",
    "ejemplo:"
   ]
  },
  {
   "cell_type": "code",
   "execution_count": 47,
   "metadata": {
    "collapsed": false
   },
   "outputs": [
    {
     "name": "stdout",
     "output_type": "stream",
     "text": [
      "It's OK\n"
     ]
    }
   ],
   "source": [
    "a = 7\n",
    "b = 8\n",
    "c = 9\n",
    "if (a+b)*c == 135:\n",
    "    print(\"It's OK\")"
   ]
  },
  {
   "cell_type": "markdown",
   "metadata": {},
   "source": [
    "Si queremos comprobar una serie de condiciones, y actuar\n",
    "de forma adecuada en cada caso, podemos encadenarlas\n",
    "usando la formula `if [elif ...] else`. `elif`\n",
    "es solo una forma abreviada de `else if`, apropiada\n",
    "para mantener la indentación de código a un nivel razonable.\n",
    "\n",
    "Veamos un ejemplo. Importamos el modulo `random`, que nos\n",
    "permite trabajar con números aleatorios, y usamos su función\n",
    "`randint`, que nos devuelve un número al azar dentro del rango\n",
    "definido por los parámetros que le pasamos:"
   ]
  },
  {
   "cell_type": "code",
   "execution_count": 48,
   "metadata": {
    "collapsed": false
   },
   "outputs": [
    {
     "name": "stdout",
     "output_type": "stream",
     "text": [
      "-2 es negativo\n"
     ]
    }
   ],
   "source": [
    "import random\n",
    "\n",
    "n = random.randint(-10, 10)\n",
    "print(n, 'es', end=' ')\n",
    "if n == -10:\n",
    "     print('el límite inferior')\n",
    "elif -9 <= n < 0:\n",
    "     print ('negativo')\n",
    "elif n == 0:\n",
    "     print('cero')\n",
    "elif 0 < n <= 9:\n",
    "     print ('positivo')\n",
    "else:\n",
    "    print('el límite superior')"
   ]
  },
  {
   "cell_type": "markdown",
   "metadata": {},
   "source": [
    "En otros lenguajes se usa una estructura llamada de condicional múltiple\n",
    "llamado normalmente `case` o `switch` para estas comprobaciones en serie.\n",
    "En python se prefiere la sintaxis de `if [elif...] [else]`. A nivel de \n",
    "rendimiento, no hay diferencia entre las dos sintaxis, ya quq ambas \n",
    "hacen exactamente lo mismo."
   ]
  },
  {
   "cell_type": "markdown",
   "metadata": {},
   "source": [
    "## El bucle for\n",
    "\n",
    "La estructura `for` nos permite *repetir un trabajo varias veces*. Su\n",
    "sintaxis es un poco diferente de la que podemos ver en otros lenguajes\n",
    "como Fortran o Pascal. En estos y otros lenguajes, esta construcción\n",
    "nos permite definir un rango de valores enteros, cuyos valores va\n",
    "adoptando sucesivamente una variable a cada vuelta o iteración dentro\n",
    "del bucle, y que a menudo se usan como índice para acceder a alguna\n",
    "estructura de datos.\n",
    "\n",
    "En Python, por el contrario, el bucle `for`, está diseñado para que\n",
    "itere sobre cualesquiera estructuras de datos que sean *iterables*;\n",
    "por ejemplo, cadenas de texto, tuplas, listas o diccionarios. En cada\n",
    "vuelta o iteración obtenemos en una variable, no el índice, sino el\n",
    "propio elemento dentro de la secuencia. Veamos algunos ejemplos:"
   ]
  },
  {
   "cell_type": "code",
   "execution_count": 49,
   "metadata": {
    "collapsed": false
   },
   "outputs": [
    {
     "name": "stdout",
     "output_type": "stream",
     "text": [
      "T\n",
      "e\n",
      "x\n",
      "t\n",
      "o\n"
     ]
    }
   ],
   "source": [
    "for letra in 'Texto':\n",
    "    print(letra)"
   ]
  },
  {
   "cell_type": "code",
   "execution_count": 50,
   "metadata": {
    "collapsed": false
   },
   "outputs": [
    {
     "name": "stdout",
     "output_type": "stream",
     "text": [
      "Se 2\n",
      "acerca 6\n",
      "el 2\n",
      "invierno 8\n"
     ]
    }
   ],
   "source": [
    "for word in ['Se', 'acerca', 'el', 'invierno']:\n",
    "    print(word, len(word))"
   ]
  },
  {
   "cell_type": "markdown",
   "metadata": {},
   "source": [
    "Como vemos, el bucle `for` funciona igual con una cadena de texto\n",
    "que con una lista, una tupla, etc... Repite el código en el bloque\n",
    "interno, tantas veces como elementos haya en la secuencia, asignado a\n",
    "una variable el elemento en cuestión. En el caso de iterar sobre un\n",
    "diccionario, la variable contendrá las distintas claves del mismo (En\n",
    "un orden indeterminado)::"
   ]
  },
  {
   "cell_type": "code",
   "execution_count": 51,
   "metadata": {
    "collapsed": false
   },
   "outputs": [
    {
     "name": "stdout",
     "output_type": "stream",
     "text": [
      "El lema de la casa Martell es: Nunca doblegado, Nunca roto\n",
      "El lema de la casa Targaryen es: Fuego y sangre\n",
      "El lema de la casa Arryn es: Tan alto como el honor\n",
      "El lema de la casa Stark es: Se acerca el invierno\n",
      "El lema de la casa Greyjoy es: Nosotros no sembramos\n",
      "El lema de la casa Lannister es: ¡Oye mi rugido!\n",
      "El lema de la casa Baratheon es: Nuestra es la Furia\n"
     ]
    }
   ],
   "source": [
    "casas = {\n",
    "    'Targaryen': 'Fuego y sangre',\n",
    "    'Stark': 'Se acerca el invierno',\n",
    "    'Baratheon': 'Nuestra es la Furia',\n",
    "    'Greyjoy': 'Nosotros no sembramos',\n",
    "    'Lannister': '¡Oye mi rugido!',\n",
    "    'Arryn': 'Tan alto como el honor',\n",
    "    'Martell': 'Nunca doblegado, Nunca roto',\n",
    "    }\n",
    "for clave in casas:\n",
    "    print('El lema de la casa', clave, 'es:', casas[clave])"
   ]
  },
  {
   "cell_type": "markdown",
   "metadata": {},
   "source": [
    "Si fuera necesario modificar la propia secuencia a medida que iteramos, por\n",
    "ejemplo para añadir o borrar elementos, es conveniente iterar sobre\n",
    "una copia (Esto es muy fácil de hacer usando la notación de rodajas\n",
    "o *slices* `[:]`). Si modificamos la lista a medida que iteramos sobre ella,\n",
    "los resultados seguramente no serán los que esperamos. Este error es muy \n",
    "frecuente, modificar una estructura de datos a medida que se recorre.\n",
    "\n",
    "Por ejemplo, veamos este intento de borrar de la lista los numeros menores que 6:"
   ]
  },
  {
   "cell_type": "code",
   "execution_count": null,
   "metadata": {
    "collapsed": true,
    "deletable": true,
    "editable": true
   },
   "outputs": [],
   "source": []
  },
  {
   "cell_type": "code",
   "execution_count": 52,
   "metadata": {
    "collapsed": false
   },
   "outputs": [
    {
     "name": "stdout",
     "output_type": "stream",
     "text": [
      "[2, 4, 6, 7, 8, 9, 10]\n"
     ]
    }
   ],
   "source": [
    "numbers = [1, 2, 3, 4, 5, 6, 7, 8 ,9, 10]\n",
    "for i in numbers:\n",
    "    if i < 6 :\n",
    "        numbers.remove(i)\n",
    "print(numbers)"
   ]
  },
  {
   "cell_type": "markdown",
   "metadata": {},
   "source": [
    "Uno esperaría como resultado la lista `[6, 7, 8, 9, 10]`. ¿Qué ha pasado?\n",
    "\n",
    "Pues que la lista ha sido modificada a medida que se recorre. Eso significa que,\n",
    "en la primera iteración o vuelta del bucle, cuando `i` vale `1`, y como `1` es\n",
    "menor que `6`, ese `1` es borrado de la lista. En la segunda vuelta cogemos\n",
    "el segundo elemento de la lista, ¡pero el segundo elemento no es ahora el 2, sino el 3!\n",
    "(Como eliminamos el primero, todos los elementos posteriores se han *desplazado* a\n",
    "la posición anterior), así que eliminamos el `3`, mientras el `2` ha escapado de la\n",
    "matanza. Lo mismo pasa en la tercera iteración, donde eliminamos el `5` pasando\n",
    "por alto al `4`, ya que el `5` es en ese momento el tercer elemeto de la lista.\n",
    "\n",
    "Quiza se vea mejor gráficamente. Mostraremos el contenido de la lista en cada iteracion, y \n",
    "resaltaremos en negrita el valor de i en cada iteración:\n",
    "\n",
    "|Iteración| Lista                       | Valor de i | Pos |\n",
    "|---------|-----------------------------|------------|-----|\n",
    "| 1       | [**1**, 2, 3, 4, 5, 6...]   | 1          | 0   |\n",
    "| 2       | [2, **3**, 4, 5, 6...]      | 3          | 1   |\n",
    "| 3       | [2, 4, **5**, 6...]         | 4          | 2   |\n",
    "\n",
    "No hay una forma corercta de modificar una lista de forma que su longitud varie, mientras\n",
    "iteramos sobre ella. Si\n",
    "ejecutamos el código anterior pero iterando sobre una copia,¿funcionaría?"
   ]
  },
  {
   "cell_type": "code",
   "execution_count": 53,
   "metadata": {
    "collapsed": false
   },
   "outputs": [
    {
     "name": "stdout",
     "output_type": "stream",
     "text": [
      "[6, 7, 8, 9, 10]\n"
     ]
    }
   ],
   "source": [
    "numbers = [1, 2, 3, 4, 5, 6, 7, 8 ,9, 10]\n",
    "for i in numbers[:]:\n",
    "    if i < 6 :\n",
    "        numbers.remove(i)\n",
    "print(numbers)"
   ]
  },
  {
   "cell_type": "markdown",
   "metadata": {},
   "source": [
    "Por ciero, podriamos haber obtenido la lista de los números del 1 al 10 con la función predefinida `range`."
   ]
  },
  {
   "cell_type": "code",
   "execution_count": 54,
   "metadata": {
    "collapsed": false
   },
   "outputs": [
    {
     "data": {
      "text/plain": [
       "[1, 2, 3, 4, 5, 6, 7, 8, 9, 10]"
      ]
     },
     "execution_count": 54,
     "metadata": {},
     "output_type": "execute_result"
    }
   ],
   "source": [
    "list(range(1, 11))"
   ]
  },
  {
   "cell_type": "markdown",
   "metadata": {},
   "source": [
    "Si tenemos que iterar sobre un rango de números, `range` nos devuelve \n",
    "una secuencia iterable (En python 2.x nos devuelve\n",
    "una lista de números, en python 3.x devuelve una \"lista virtual\", que no\n",
    "consume tante memoria como la lista entera. Por ahora, podemos\n",
    "considerar ambas formas equivalentes, ya que son iterables las dos).\n",
    "\n",
    "La función `range` acepta entre uno y tres parámetros. Si solo se\n",
    "especifica uno, devuelve el rango empezando en 0 y acabando justo\n",
    "antes de llegar al valor del parámetro::"
   ]
  },
  {
   "cell_type": "code",
   "execution_count": 55,
   "metadata": {
    "collapsed": false
   },
   "outputs": [
    {
     "name": "stdout",
     "output_type": "stream",
     "text": [
      "0\n",
      "1\n",
      "2\n",
      "3\n"
     ]
    }
   ],
   "source": [
    "for i in range(4):\n",
    "    print(i)"
   ]
  },
  {
   "cell_type": "markdown",
   "metadata": {},
   "source": [
    "Estos valores, `[0..n-1]` se corresponden exactamente con los índices\n",
    "válidos para una secuencia de `n` valores.\n",
    "\n",
    "Si se le indican dos valores, devolverá el rango comprendido\n",
    "entre el primero y el inmediatamente anterior al segundo:"
   ]
  },
  {
   "cell_type": "code",
   "execution_count": 56,
   "metadata": {
    "collapsed": false
   },
   "outputs": [
    {
     "name": "stdout",
     "output_type": "stream",
     "text": [
      "2\n",
      "3\n",
      "4\n"
     ]
    }
   ],
   "source": [
    "for i in range(2, 5):\n",
    "    print(i)"
   ]
  },
  {
   "cell_type": "markdown",
   "metadata": {},
   "source": [
    "Si se indica un tercer parámetro, este se usará como incremento,paso o `step`,\n",
    "en vez del valor por defecto, 1:"
   ]
  },
  {
   "cell_type": "code",
   "execution_count": 57,
   "metadata": {
    "collapsed": false
   },
   "outputs": [
    {
     "name": "stdout",
     "output_type": "stream",
     "text": [
      "600\n",
      "700\n",
      "800\n",
      "900\n",
      "1000\n"
     ]
    }
   ],
   "source": [
    "for i in range(600, 1001, 100): \n",
    "    print(i)"
   ]
  },
  {
   "cell_type": "markdown",
   "metadata": {},
   "source": [
    "Observese que, en todos los casos, el límite superior *nunca se alcanza*.\n",
    "\n",
    "Si tenemos experiencia en otros lenguajes de programación, podemos\n",
    "sentir la tentación de seguir usando índices, y tirar de la función\n",
    "`range` cada vez que hagamos un `for`, quiza para sentirnos más\n",
    "cómodos, quizá por el temor de que en un futuro tengamos necesidad del\n",
    "índice. Es decir, en vez de hacer::"
   ]
  },
  {
   "cell_type": "code",
   "execution_count": 58,
   "metadata": {
    "collapsed": false
   },
   "outputs": [
    {
     "name": "stdout",
     "output_type": "stream",
     "text": [
      "A\n",
      "B\n",
      "C\n",
      "D\n"
     ]
    }
   ],
   "source": [
    "for letra in 'ABCD':\n",
    "    print(letra)"
   ]
  },
  {
   "cell_type": "markdown",
   "metadata": {},
   "source": [
    "Podríamos hacer:"
   ]
  },
  {
   "cell_type": "code",
   "execution_count": 59,
   "metadata": {
    "collapsed": false
   },
   "outputs": [
    {
     "name": "stdout",
     "output_type": "stream",
     "text": [
      "A\n",
      "B\n",
      "C\n",
      "D\n"
     ]
    }
   ],
   "source": [
    "word = 'ABCD'\n",
    "for i in range(len(word)):\n",
    "    letra = word[i]\n",
    "    print(letra)"
   ]
  },
  {
   "cell_type": "markdown",
   "metadata": {},
   "source": [
    "Esto *no* es recomendable, por varias razones:\n",
    "\n",
    " - Es **más difícil de leer**\n",
    "\n",
    " - Es **más largo de escribir**\n",
    "\n",
    " - Creamos **variables innecesarias** (i)\n",
    "\n",
    " - Es **más lento** (El recorrido del bucle `for` está optimizado en C)\n",
    "\n",
    "¿Qué pasa si, por la razón que sea, necesito esa variable `i`? ¿Es\n",
    "recomendable en ese caso usar la forma anterior? La respuesta\n",
    "sigue siendo no. Existe una función, `enumerate`, que admite\n",
    "como parámetro cualquier secuencia y nos devuelve una serie de duplas (tuplas \n",
    "de dos elementos), con el índice y el elemento de la secuencia:"
   ]
  },
  {
   "cell_type": "code",
   "execution_count": 60,
   "metadata": {
    "collapsed": false
   },
   "outputs": [
    {
     "name": "stdout",
     "output_type": "stream",
     "text": [
      "0 A\n",
      "1 B\n",
      "2 C\n",
      "3 D\n"
     ]
    }
   ],
   "source": [
    "for i, letra in enumerate('ABCD'):\n",
    "    print(i, letra)"
   ]
  },
  {
   "cell_type": "code",
   "execution_count": null,
   "metadata": {
    "collapsed": true
   },
   "outputs": [],
   "source": []
  },
  {
   "cell_type": "code",
   "execution_count": null,
   "metadata": {
    "collapsed": true
   },
   "outputs": [],
   "source": []
  }
 ],
 "metadata": {
  "kernelspec": {
   "display_name": "Python 3",
   "language": "python",
   "name": "python3"
  },
  "language_info": {
   "codemirror_mode": {
    "name": "ipython",
    "version": 3
   },
   "file_extension": ".py",
   "mimetype": "text/x-python",
   "name": "python",
   "nbconvert_exporter": "python",
   "pygments_lexer": "ipython3",
   "version": "3.5.2"
  }
 },
 "nbformat": 4,
 "nbformat_minor": 2
}
