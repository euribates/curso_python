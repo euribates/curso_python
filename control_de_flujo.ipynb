{
 "cells": [
  {
   "cell_type": "markdown",
   "metadata": {},
   "source": [
    "# Control de flujo en Python\n",
    "\n",
    "Python es similar en muchos aspectos a otros lenguajes de \n",
    "programación, pero tiene una caraterísitica casi única,\n",
    "el uso de la indentación para agrupar los bloques de código.\n",
    "\n",
    "En otros lenguajes es habitual el uso de palabras reservadas\n",
    "como `Begin`  o `End` o caracteres especiales como `{` y `}`. En Python,\n",
    "sin embargo, los bloques de código quedan definidos por su nivel de\n",
    "indentación. \n",
    "\n",
    "La indentación, por tanto, que en otros lenguajes es\n",
    "solo una opción estética destinada a mejorar la legibilidad, en Python\n",
    "sí que tiene significado y es, por tanto, obligatoria.\n",
    "\n",
    "Para empezar un bloque de código, se aumenta la indentación de \n",
    "las líneas siguientes; todas las líneas que tengan la misma indentación\n",
    "forman parte del mismo bloque. Cuando queremos indicar el fin del bloque, \n",
    "simplemente volvemos a la indentación anterior.\n",
    "\n",
    "**Nota**: No hay obligación por parte del lenguaje de usar un determinado número\n",
    "de espacios ni de usar o no el tabulador, pero la recomendación, seguida\n",
    "prácticamente por todos los desarrolladores y muy conveniente a la hora\n",
    "de publicar, compartir o reutilizar código, es usar *cuatro espacios* para\n",
    "cada nivel de indentación, y no usar tabuladores.\n",
    "\n",
    "Eso sí: Es muy importante **no mezclar nunca espacios y tabuladores**. El \n",
    "intérprete reconoce un tabulador como 8 espacios, pero visualmente no se \n",
    "puede apreciar la diferencia, así que es muy importante mantenener la \n",
    "consistencia.\n",
    "\n",
    "La mayor parte de los editores e IDEs de programación actuales \n",
    "indentan automáticamente el código a medida que escribimos, y reconocen\n",
    "la sintaxis de Python.\n",
    "\n",
    "Algunos ven con cierto desagrado este aspecto\n",
    "de Python. En realidad, al poco de usarlo, la mayoría encuentra las\n",
    "ventajas de este sistema mucho mayores que las desventajas. Las\n",
    "ventajas son:\n",
    "\n",
    " - El código es más legible y más corto.\n",
    "\n",
    " - Permite reutilizar para otras funciones símbolos\n",
    "   como ``{`` y ``}``, usados en la mayoría\n",
    "   de los lenguajes derivados de C, como C++, Java o\n",
    "   C# para marcar el inicio y final de bloques, o\n",
    "   reduce la lista de palabras reservadas del lenguaje,\n",
    "   en casos como Pascal (Donde se reservan las palabras\n",
    "   `BEGIN` y `END`).\n",
    "\n",
    " - Evita ciertos casos de ambigüedad, donde la indentación\n",
    "   indica una cosa pero el código realmente ejecuta otra.\n",
    "   En estos casos, o bien la identación es correcta, y el código\n",
    "   esta mal, o viceversa. Ambos casos nos llevan a suponer\n",
    "   que el código está haciendo una cosa, cuando realmente\n",
    "   está haciendo otra. Este tipo de errores es relativamente\n",
    "   frecuente, y difícil de detectar si hay muchos niveles de\n",
    "   anidamiento. Con python no existe esta ambigüedad, ya\n",
    "   que la unica referencia es el nivel de indentación.\n",
    "\n",
    " - De todas formas, ibas a indentarlo."
   ]
  },
  {
   "cell_type": "markdown",
   "metadata": {},
   "source": [
    "## Finales de línea\n",
    "\n",
    "Tampoco hay puntos y comas al final de cada línea. La línea acaba donde acaba. En\n",
    "caso de necesitar extendernos a más de una linea, podemos\n",
    "usar el caracter `\\` al final de una línea para continuar en la siguiente:"
   ]
  },
  {
   "cell_type": "code",
   "execution_count": 1,
   "metadata": {},
   "outputs": [],
   "source": [
    "s = '¿Qué es la vida? Un frenesí. ¿Qué es la vida? Una ilusión,'  \\\n",
    "    ' una sombra, una ficción; y el mayor bien es pequeño; que'  \\\n",
    "    ' toda la vida es sueño, y los sueños, sueños son.'\n",
    "assert len(s) == 164"
   ]
  },
  {
   "cell_type": "markdown",
   "metadata": {},
   "source": [
    "Las sentencias contenidas dentro de corchetes, llaves o paréntesis: `[` y `]`, `{` y `}` o `(` y `)`, no necesitan usar el carácter de continuación de línea:\n",
    "Por ejemplo:"
   ]
  },
  {
   "cell_type": "code",
   "execution_count": 2,
   "metadata": {},
   "outputs": [],
   "source": [
    "days = ['Monday', 'Tuesday', 'Wednesday',\n",
    "             'Thursday', 'Friday']\n",
    "assert len(days) == 5"
   ]
  },
  {
   "cell_type": "markdown",
   "metadata": {},
   "source": [
    "## La sentencia `if`\n",
    "\n",
    "Esta estructura de control seguramente es la más\n",
    "fácil de usar. Simplemente evalúa una expresion, si el resultado\n",
    "es verdad (`True`) se ejecuta el bloque de código siguiente al `if`.\n",
    "Si es `False`, se ejecuta el bloque de código que sigue después\n",
    "del `else`, si es que se ha incluido, ya que es opcional:"
   ]
  },
  {
   "cell_type": "code",
   "execution_count": 3,
   "metadata": {},
   "outputs": [
    {
     "name": "stdout",
     "output_type": "stream",
     "text": [
      "Siete es mayor que tres\n",
      "quien lo iba a pensar...\n"
     ]
    }
   ],
   "source": [
    "if 7 > 3:\n",
    "    print('Siete es mayor que tres')\n",
    "    print('quien lo iba a pensar...')\n",
    "else:\n",
    "    print('Algo falla en las matemáticas...')"
   ]
  },
  {
   "cell_type": "markdown",
   "metadata": {},
   "source": [
    "Como vemos, las dos líneas de `print` se ejecutan porque las dos están \n",
    "al mismo nivel y forman, por tanto, un bloque.\n",
    "\n",
    "**Nota**: En el modo interactivo, eso significa que tendremos que pulsar varias\n",
    "veces la barra de espacios o el tabulador, para cada línea dentro de\n",
    "un bloque. En la práctica, la mayoría de las veces escribiremos código\n",
    "Python usando algún editor para programadores, todos los cuales tiene\n",
    "algún tipo de facilidad de auto-indentado. Otra pega del modo\n",
    "interactivo es que tendremos que indicar con una línea en blanco\n",
    "cuando hayamos acabado de introducir todas las líneas del bloque, ya\n",
    "que el analizador no tiene otra forma de saber si hemos acabado de\n",
    "introducir líneas o no.\n",
    "\n",
    "No es necesario incluir paréntesis en la expresión de la condición, a no ser que\n",
    "sean necesarios para modificar la prioridad de ciertas operaciones, por \n",
    "ejemplo:"
   ]
  },
  {
   "cell_type": "code",
   "execution_count": 79,
   "metadata": {},
   "outputs": [
    {
     "name": "stdout",
     "output_type": "stream",
     "text": [
      "It's OK\n"
     ]
    }
   ],
   "source": [
    "a = 7\n",
    "b = 8\n",
    "c = 9\n",
    "if (a+b)*c == 135:\n",
    "    print(\"It's OK\")"
   ]
  },
  {
   "cell_type": "markdown",
   "metadata": {},
   "source": [
    "Si queremos comprobar una serie de condiciones, y actuar\n",
    "de forma adecuada en cada caso, podemos encadenarlas\n",
    "usando la formula `if [elif ...] else`. `elif`\n",
    "es solo una forma abreviada de `else if`, apropiada\n",
    "para mantener la indentación de código a un nivel razonable.\n",
    "\n",
    "Veamos un ejemplo. Importamos el modulo `random`, que nos\n",
    "permite trabajar con números aleatorios, y usamos su función\n",
    "`randint`, que nos devuelve un número al azar dentro del rango\n",
    "definido por los parámetros que le pasamos:"
   ]
  },
  {
   "cell_type": "code",
   "execution_count": 80,
   "metadata": {},
   "outputs": [
    {
     "name": "stdout",
     "output_type": "stream",
     "text": [
      "0 es cero\n"
     ]
    }
   ],
   "source": [
    "import random\n",
    "\n",
    "n = random.randint(-10, 10)\n",
    "print(n, 'es', end=' ')\n",
    "if n == -10:\n",
    "     print('el límite inferior')\n",
    "elif -9 <= n < 0:\n",
    "     print ('negativo')\n",
    "elif n == 0:\n",
    "     print('cero')\n",
    "elif 0 < n <= 9:\n",
    "     print ('positivo')\n",
    "else:\n",
    "    print('el límite superior')"
   ]
  },
  {
   "cell_type": "markdown",
   "metadata": {},
   "source": [
    "En otros lenguajes se usa una estructura llamada *condicional múltiple*\n",
    ", que suelen utilizar las palabras reservadas `case` o `switch` para estas comprobaciones en serie. Estas estructuras se pueden simular utilizando diccionarios.\n",
    "En Python se prefiere la sintaxis de `if [elif...] [else]`. A nivel de \n",
    "rendimiento, no hay diferencia entre las dos sintaxis, ya que ambas \n",
    "hacen exactamente lo mismo."
   ]
  },
  {
   "cell_type": "markdown",
   "metadata": {},
   "source": [
    "## El bucle `for`\n",
    "\n",
    "La estructura `for` nos permite *repetir un trabajo varias veces*. Su\n",
    "sintaxis es un poco diferente de la que podemos ver en otros lenguajes\n",
    "como Fortran o Pascal. En estos y otros lenguajes, esta construcción\n",
    "nos permite definir un rango de valores enteros, cuyos valores va\n",
    "adoptando sucesivamente una variable a cada vuelta o iteración dentro\n",
    "del bucle, y que a menudo se usan como índice para acceder a alguna\n",
    "estructura de datos.\n",
    "\n",
    "En Python, por el contrario, el bucle `for`, está diseñado para que\n",
    "itere sobre cualesquiera estructuras de datos que sean *iterables*;\n",
    "por ejemplo, cadenas de texto, tuplas, listas o diccionarios. En cada\n",
    "vuelta o iteración obtenemos en una variable, no el índice, sino el\n",
    "propio elemento dentro de la secuencia. Veamos algunos ejemplos:"
   ]
  },
  {
   "cell_type": "code",
   "execution_count": 81,
   "metadata": {},
   "outputs": [
    {
     "name": "stdout",
     "output_type": "stream",
     "text": [
      "T\n",
      "e\n",
      "x\n",
      "t\n",
      "o\n"
     ]
    }
   ],
   "source": [
    "for letra in 'Texto':\n",
    "    print(letra)"
   ]
  },
  {
   "cell_type": "code",
   "execution_count": 82,
   "metadata": {},
   "outputs": [
    {
     "name": "stdout",
     "output_type": "stream",
     "text": [
      "Se 2\n",
      "acerca 6\n",
      "el 2\n",
      "invierno 8\n"
     ]
    }
   ],
   "source": [
    "for word in ['Se', 'acerca', 'el', 'invierno']:\n",
    "    print(word, len(word))"
   ]
  },
  {
   "cell_type": "markdown",
   "metadata": {},
   "source": [
    "Como vemos, el bucle `for` funciona igual con una cadena de texto\n",
    "que con una lista, una tupla, etc... Repite el código en el bloque\n",
    "interno, tantas veces como elementos haya en la secuencia, asignando a\n",
    "una variable el elemento en cuestión. En el caso de iterar sobre un\n",
    "diccionario, la variable contendrá las distintas claves del mismo (en\n",
    "un orden indeterminado):"
   ]
  },
  {
   "cell_type": "code",
   "execution_count": 83,
   "metadata": {},
   "outputs": [
    {
     "name": "stdout",
     "output_type": "stream",
     "text": [
      "El lema de la casa Martell es: Nunca doblegado, Nunca roto\n",
      "El lema de la casa Targaryen es: Fuego y sangre\n",
      "El lema de la casa Arryn es: Tan alto como el honor\n",
      "El lema de la casa Stark es: Se acerca el invierno\n",
      "El lema de la casa Greyjoy es: Nosotros no sembramos\n",
      "El lema de la casa Lannister es: ¡Oye mi rugido!\n",
      "El lema de la casa Baratheon es: Nuestra es la Furia\n"
     ]
    }
   ],
   "source": [
    "casas = {\n",
    "    'Targaryen': 'Fuego y sangre',\n",
    "    'Stark': 'Se acerca el invierno',\n",
    "    'Baratheon': 'Nuestra es la Furia',\n",
    "    'Greyjoy': 'Nosotros no sembramos',\n",
    "    'Lannister': '¡Oye mi rugido!',\n",
    "    'Arryn': 'Tan alto como el honor',\n",
    "    'Martell': 'Nunca doblegado, Nunca roto',\n",
    "    }\n",
    "for clave in casas:\n",
    "    print('El lema de la casa', clave, 'es:', casas[clave])"
   ]
  },
  {
   "cell_type": "markdown",
   "metadata": {},
   "source": [
    "Si fuera necesario modificar la propia secuencia a medida que iteramos, por\n",
    "ejemplo para añadir o borrar elementos, es conveniente iterar sobre\n",
    "una copia (Esto es muy fácil de hacer usando la notación de rodajas\n",
    "o *slices* `[:]`). Si modificamos la lista a medida que iteramos sobre ella,\n",
    "los resultados seguramente no serán los que esperamos. Este error es muy \n",
    "frecuente, modificar la longitud de una estructura de datos a medida que se recorre.\n",
    "\n",
    "Por ejemplo, veamos este intento de borrar de la lista los numeros menores que 6:"
   ]
  },
  {
   "cell_type": "code",
   "execution_count": 84,
   "metadata": {},
   "outputs": [
    {
     "name": "stdout",
     "output_type": "stream",
     "text": [
      "[2, 4, 6, 7, 8, 9, 10]\n"
     ]
    }
   ],
   "source": [
    "numbers = [1, 2, 3, 4, 5, 6, 7, 8 ,9, 10]\n",
    "for i in numbers:\n",
    "    if i < 6 :\n",
    "        numbers.remove(i)\n",
    "print(numbers)"
   ]
  },
  {
   "cell_type": "markdown",
   "metadata": {},
   "source": [
    "Uno esperaría como resultado la lista `[6, 7, 8, 9, 10]`. ¿Qué ha pasado?\n",
    "\n",
    "Pues que la longitud de la lista ha sido modificada a medida que se recorre. Eso significa que, en la primera iteración o vuelta del bucle, cuando `i` vale `1`, y como `1` es\n",
    "menor que `6`, ese `1` es borrado de la lista. En la segunda vuelta cogemos\n",
    "el segundo elemento de la lista, ¡pero el segundo elemento no es ahora el 2, sino el 3!\n",
    "(Como eliminamos el primero, todos los elementos posteriores se han *desplazado* a\n",
    "la posición anterior), así que eliminamos el `3`, mientras el `2` ha escapado de la\n",
    "matanza. Lo mismo pasa en la tercera iteración, donde eliminamos el `5` pasando\n",
    "por alto al `4`, ya que el `5` es en ese momento el tercer elemento de la lista.\n",
    "\n",
    "Quiza se vea mejor gráficamente. Mostraremos el contenido de la lista en cada iteracion, y \n",
    "resaltaremos en negrita el valor de i en cada iteración:\n",
    "\n",
    "|Iteración| Lista                          | Valor de i | Pos |\n",
    "|---------|--------------------------------|------------|-----|\n",
    "| 1       | [**1**, 2, 3, 4, 5, 6...]      | 1          | 0   |\n",
    "| 2       | [2, **3**, 4, 5, 6, 7...]      | 3          | 1   |\n",
    "| 3       | [2, 4, **5**, 6., 7, 8..]      | 5          | 2   |\n",
    "| 4       | [2, 4, 6, **7**, 8...]         | 7          | 3   |\n",
    "| 5       | [2, 4, 6, 7, **8**, 9, 10]     | 8          | 5   |\n",
    "| 6       | [2, 4, 6, 7, 8, **9**, 10]     | 9          | 6   |\n",
    "| 7       | [2, 4, 6, 7, 8, 9, **10**]     | 10         | 7   |\n",
    "\n",
    "No hay una forma corrrecta de modificar una lista de forma que su longitud varíe, mientras\n",
    "iteramos sobre ella. Si ejecutamos el código anterior pero iterando sobre una copia,¿funcionaría?"
   ]
  },
  {
   "cell_type": "code",
   "execution_count": 85,
   "metadata": {},
   "outputs": [
    {
     "name": "stdout",
     "output_type": "stream",
     "text": [
      "[6, 7, 8, 9, 10]\n"
     ]
    }
   ],
   "source": [
    "numbers = [1, 2, 3, 4, 5, 6, 7, 8 ,9, 10]\n",
    "for i in numbers[:]:\n",
    "    if i < 6 :\n",
    "        numbers.remove(i)\n",
    "print(numbers)"
   ]
  },
  {
   "cell_type": "markdown",
   "metadata": {},
   "source": [
    "Por cierto, podríamos haber obtenido la lista de los números del 1 al 10 con la función predefinida `range`."
   ]
  },
  {
   "cell_type": "code",
   "execution_count": 86,
   "metadata": {},
   "outputs": [
    {
     "data": {
      "text/plain": [
       "[1, 2, 3, 4, 5, 6, 7, 8, 9, 10]"
      ]
     },
     "execution_count": 86,
     "metadata": {},
     "output_type": "execute_result"
    }
   ],
   "source": [
    "list(range(1, 11))"
   ]
  },
  {
   "cell_type": "markdown",
   "metadata": {},
   "source": [
    "Si tenemos que iterar sobre un rango de números, `range` nos devuelve \n",
    "una secuencia iterable (En python 2.x nos devuelve\n",
    "una lista de números, en python 3.x devuelve una *lista virtual*, que no\n",
    "consume tante memoria como la lista entera. Por ahora, podemos\n",
    "considerar ambas formas equivalentes, ya que ambas son iterables).\n",
    "\n",
    "La función `range` acepta entre uno y tres parámetros. Si solo se\n",
    "especifica uno, devuelve el rango empezando en 0 y acabando justo\n",
    "antes de llegar al valor del parámetro::"
   ]
  },
  {
   "cell_type": "code",
   "execution_count": 87,
   "metadata": {},
   "outputs": [
    {
     "name": "stdout",
     "output_type": "stream",
     "text": [
      "0\n",
      "1\n",
      "2\n",
      "3\n"
     ]
    }
   ],
   "source": [
    "for i in range(4):\n",
    "    print(i)"
   ]
  },
  {
   "cell_type": "markdown",
   "metadata": {},
   "source": [
    "Estos valores, `[0..n-1]` se corresponden exactamente con los índices\n",
    "válidos para una secuencia de `n` valores.\n",
    "\n",
    "Si se le indican dos valores, devolverá el rango comprendido\n",
    "entre el primero y el inmediatamente anterior al segundo:"
   ]
  },
  {
   "cell_type": "code",
   "execution_count": 88,
   "metadata": {},
   "outputs": [
    {
     "name": "stdout",
     "output_type": "stream",
     "text": [
      "2\n",
      "3\n",
      "4\n"
     ]
    }
   ],
   "source": [
    "for i in range(2, 5):\n",
    "    print(i)"
   ]
  },
  {
   "cell_type": "markdown",
   "metadata": {},
   "source": [
    "Si se indica un tercer parámetro, este se usará como incremento, paso o `step`,\n",
    "en vez del valor por defecto, 1:"
   ]
  },
  {
   "cell_type": "code",
   "execution_count": 89,
   "metadata": {},
   "outputs": [
    {
     "name": "stdout",
     "output_type": "stream",
     "text": [
      "600\n",
      "700\n",
      "800\n",
      "900\n",
      "1000\n"
     ]
    }
   ],
   "source": [
    "for i in range(600, 1001, 100): \n",
    "    print(i)"
   ]
  },
  {
   "cell_type": "markdown",
   "metadata": {},
   "source": [
    "Observese que, en todos los casos, el límite superior *nunca se alcanza*.\n",
    "\n",
    "Si tenemos experiencia en otros lenguajes de programación, podemos\n",
    "sentir la tentación de seguir usando índices, y tirar de la función\n",
    "`range` cada vez que hagamos un `for`, quizás para sentirnos más\n",
    "cómodos, quizás por el temor de que en un futuro tengamos necesidad del\n",
    "índice. Es decir, en vez de hacer:"
   ]
  },
  {
   "cell_type": "code",
   "execution_count": 90,
   "metadata": {},
   "outputs": [
    {
     "name": "stdout",
     "output_type": "stream",
     "text": [
      "A\n",
      "B\n",
      "C\n",
      "D\n"
     ]
    }
   ],
   "source": [
    "for letra in 'ABCD':\n",
    "    print(letra)"
   ]
  },
  {
   "cell_type": "markdown",
   "metadata": {},
   "source": [
    "Podríamos hacer:"
   ]
  },
  {
   "cell_type": "code",
   "execution_count": 91,
   "metadata": {},
   "outputs": [
    {
     "name": "stdout",
     "output_type": "stream",
     "text": [
      "A\n",
      "B\n",
      "C\n",
      "D\n"
     ]
    }
   ],
   "source": [
    "word = 'ABCD'\n",
    "for i in range(len(word)):\n",
    "    letra = word[i]\n",
    "    print(letra)"
   ]
  },
  {
   "cell_type": "markdown",
   "metadata": {},
   "source": [
    "Esto *no* es recomendable, por varias razones:\n",
    "\n",
    " - Es **más difícil de leer**\n",
    "\n",
    " - Es **más largo de escribir**\n",
    "\n",
    " - Creamos **variables innecesarias** (`i`)\n",
    "\n",
    " - Es **más lento** (El recorrido del bucle `for` está optimizado en C)\n",
    "\n",
    "¿Qué pasa si, por la razón que sea, necesito esa variable `i`? ¿Es\n",
    "recomendable en ese caso usar la forma anterior? La respuesta\n",
    "sigue siendo no. Existe una función, `enumerate`, que admite\n",
    "como parámetro cualquier secuencia y nos devuelve una serie de duplas (tuplas \n",
    "de dos elementos), con el índice y el elemento de la secuencia:"
   ]
  },
  {
   "cell_type": "code",
   "execution_count": 4,
   "metadata": {},
   "outputs": [
    {
     "name": "stdout",
     "output_type": "stream",
     "text": [
      "0 A\n",
      "1 B\n",
      "2 C\n",
      "3 D\n"
     ]
    }
   ],
   "source": [
    "for i, letra in enumerate('ABCD'):\n",
    "    print(i, letra)"
   ]
  },
  {
   "cell_type": "markdown",
   "metadata": {},
   "source": [
    "## El bucle While\n",
    "\n",
    "La sentencia `while` también nos permite ejecutar varias veces\n",
    "un bloque de código, pero en este caso no saldrá del bucle\n",
    "hasta que una determinada condición pasa a ser falsa. O, dicho de otra manera, permanecerá\n",
    "dentro del bucle mientras la condición sea verdadera. Veamos\n",
    "el siguiente ejemplo, que imprime el mayor de los [números factoriales](https://es.wikipedia.org/wiki/Factorial) que sea menor que un millón:"
   ]
  },
  {
   "cell_type": "code",
   "execution_count": 93,
   "metadata": {},
   "outputs": [
    {
     "name": "stdout",
     "output_type": "stream",
     "text": [
      "El mayor factorial menor que 1E6 es: 9! = 362880\n"
     ]
    }
   ],
   "source": [
    "acc = num = 1\n",
    "while acc * (num+1) < 1000000:\n",
    "    num = num + 1\n",
    "    acc = num * acc\n",
    "\n",
    "print('El mayor factorial menor que 1E6 es: ', num, '! = ', acc, sep='')"
   ]
  },
  {
   "cell_type": "markdown",
   "metadata": {},
   "source": [
    "El bucle se detiene cuando llegamos a 10, porque el factorial,\n",
    "$10! = 3.628.800$, es mayor que un millón y, por tanto, la condición del\n",
    "`while` pasa a ser falsa (y hemos encontrado el número que buscábamos).\n",
    "\n",
    "En casos como este, en que no sabemos a priori cuando debemos parar,\n",
    "la sentencia `while` encaja perfectamente. Podemos usar un bucle\n",
    "`while` para iterar cuando sepamos de antemano la cantidad de\n",
    "vueltas(iteraciones) que tenemos que dar, pero parece más natural en ese caso usar\n",
    "el bucle `for`.\n",
    "\n",
    "El error más común con un bucle de este tipo es olvidarnos de\n",
    "actualizar, dentro del código del bucle, la variable que es testeada en\n",
    "la condición `while`, lo que nos lleva a un bucle sin fin."
   ]
  },
  {
   "cell_type": "markdown",
   "metadata": {},
   "source": [
    "## break, continue y else en bucles\n",
    "\n",
    "La sentencia `break` fuerza la salida del bucle `for` o `while` en\n",
    "la que se encuentre (Si hay varios bucles anidados, solo saldrá del más\n",
    "interno). Esto puede ser muy útil para optimizar nuestro código. Por\n",
    "ejemplo, si estamos buscando dentro de una lista de números uno que sea\n",
    "múltiplo de 7, y simplemente nos interesa encontrar uno, el primero que\n",
    "encuentre, no tiene sentido seguir recorriendo el bucle hasta el final;\n",
    "podriamos hacer entonces:"
   ]
  },
  {
   "cell_type": "code",
   "execution_count": 94,
   "metadata": {},
   "outputs": [
    {
     "name": "stdout",
     "output_type": "stream",
     "text": [
      "98 es múltiplo de 7\n"
     ]
    }
   ],
   "source": [
    "numeros = [15, 53, 98, 36, 48, 52, 27, 77, 4, 29, 94, 13, 36]\n",
    "for n in numeros:\n",
    "     if n % 7 == 0:\n",
    "         print(n, 'es múltiplo de 7')\n",
    "         break"
   ]
  },
  {
   "cell_type": "markdown",
   "metadata": {},
   "source": [
    "El octavo término, por ejemplo, el 77, también es múltiplo de 7, pero no \n",
    "necesitamos llegar hasta ahí, ya tenemos un múltiplo de 7, que es lo único\n",
    "que necesitabamos."
   ]
  },
  {
   "cell_type": "markdown",
   "metadata": {},
   "source": [
    "Los bucles en Python (tanto `for` como `while`) tienen una\n",
    "característica relativamente poco conocida, y es que dispone de una\n",
    "clausula `else`: El bloque de código especificado en el `else`\n",
    "solo se ejecuta si se cumplen estas dos condiciones:\n",
    "\n",
    "- el bucle **ha llegado hasta el final**\n",
    "\n",
    "- y **no se ha salido de él mediante una clausula `break`**.\n",
    "\n",
    "En el caso de `for`, la cláusula `else`, si se ha especificado, solo\n",
    "se ejecutará si se han agotado todos los elementos de la secuencia y no\n",
    "se ha ejecutado ningún `break`. Por ejemplo, el código anterior no\n",
    "muestra ningún mensaje si no hubiera ningún número múltiplo de siete en\n",
    "la lista. Podemos arregarlo así:"
   ]
  },
  {
   "cell_type": "code",
   "execution_count": 95,
   "metadata": {},
   "outputs": [
    {
     "name": "stdout",
     "output_type": "stream",
     "text": [
      "No hay ningún múltiplo de 7 en la lista\n"
     ]
    }
   ],
   "source": [
    "numeros = [87, 39, 85, 72, 41, 95, 93, 65, 26, 11, 32, 17]\n",
    "for n in numeros:\n",
    "    if n % 7 == 0:\n",
    "        print(n, 'es múltiplo de 7')\n",
    "        break\n",
    "else:\n",
    "    print ('No hay ningún múltiplo de 7 en la lista')"
   ]
  },
  {
   "cell_type": "markdown",
   "metadata": {},
   "source": [
    "## Ejercicio\n",
    "\n",
    "> Usando la cláusula `else`, o la cláusula `break`, modificar\n",
    "> el programa de cálculo de factoriales mostrado anteriormente\n",
    "> para que muestre el *primer* factorial mayor que un millón"
   ]
  },
  {
   "cell_type": "code",
   "execution_count": null,
   "metadata": {
    "collapsed": true
   },
   "outputs": [],
   "source": []
  }
 ],
 "metadata": {
  "kernelspec": {
   "display_name": "Python 3",
   "language": "python",
   "name": "python3"
  },
  "language_info": {
   "codemirror_mode": {
    "name": "ipython",
    "version": 3
   },
   "file_extension": ".py",
   "mimetype": "text/x-python",
   "name": "python",
   "nbconvert_exporter": "python",
   "pygments_lexer": "ipython3",
   "version": "3.6.1"
  }
 },
 "nbformat": 4,
 "nbformat_minor": 2
}
