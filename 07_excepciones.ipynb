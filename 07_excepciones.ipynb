{
 "cells": [
  {
   "cell_type": "markdown",
   "metadata": {},
   "source": [
    "# Excepciones y gestión de errores"
   ]
  },
  {
   "cell_type": "markdown",
   "metadata": {},
   "source": [
    "## Excepciones y errores\n",
    "\n",
    "Hay dos tipos de errores en Python: Errores sintácticos y excepciones.\n",
    "Los errores sintácticos se producen cuando escribimos algo que\n",
    "el interprete de Python no es capaz de entender; por ejemplo, crear\n",
    "una variable con un nombre no válido es un error sintáctico:"
   ]
  },
  {
   "cell_type": "code",
   "execution_count": 12,
   "metadata": {
    "collapsed": false
   },
   "outputs": [
    {
     "ename": "SyntaxError",
     "evalue": "invalid syntax (<ipython-input-12-0b7795621fb1>, line 1)",
     "output_type": "error",
     "traceback": [
      "\u001b[0;36m  File \u001b[0;32m\"<ipython-input-12-0b7795621fb1>\"\u001b[0;36m, line \u001b[0;32m1\u001b[0m\n\u001b[0;31m    7a = 7.0\u001b[0m\n\u001b[0m     ^\u001b[0m\n\u001b[0;31mSyntaxError\u001b[0m\u001b[0;31m:\u001b[0m invalid syntax\n"
     ]
    }
   ],
   "source": [
    "7a = 7.0"
   ]
  },
  {
   "cell_type": "markdown",
   "metadata": {},
   "source": [
    "La información del error es todo lo completa que el interprete puede\n",
    "conseguir. Normalmente indica la línea e incluso con una flecha\n",
    "intenta señalar la posición más o menos exacta del error. No siempre\n",
    "lo consigue, no obstante, porque a lo mejor el error es detectado\n",
    "en un sitio distinto de donde es generado. También incluye el nombre\n",
    "del fichero fuente.\n",
    "\n",
    "Las excepciones son errores de funcionamiento; el interprete ha\n",
    "entendido el código, por lo que es sintácticamente correcto, pero\n",
    "aun así, produce un error. Por ejemplo, si intentmos dividir\n",
    "por cero:"
   ]
  },
  {
   "cell_type": "code",
   "execution_count": 13,
   "metadata": {
    "collapsed": false
   },
   "outputs": [
    {
     "ename": "ZeroDivisionError",
     "evalue": "division by zero",
     "output_type": "error",
     "traceback": [
      "\u001b[0;31m---------------------------------------------------------------------------\u001b[0m",
      "\u001b[0;31mZeroDivisionError\u001b[0m                         Traceback (most recent call last)",
      "\u001b[0;32m<ipython-input-13-c4ad196ca3d8>\u001b[0m in \u001b[0;36m<module>\u001b[0;34m()\u001b[0m\n\u001b[1;32m      1\u001b[0m \u001b[0ma\u001b[0m\u001b[0;34m,\u001b[0m \u001b[0mb\u001b[0m \u001b[0;34m=\u001b[0m \u001b[0;36m7\u001b[0m\u001b[0;34m,\u001b[0m \u001b[0;36m0\u001b[0m\u001b[0;34m\u001b[0m\u001b[0m\n\u001b[0;32m----> 2\u001b[0;31m \u001b[0mc\u001b[0m \u001b[0;34m=\u001b[0m \u001b[0ma\u001b[0m \u001b[0;34m/\u001b[0m \u001b[0mb\u001b[0m\u001b[0;34m\u001b[0m\u001b[0m\n\u001b[0m",
      "\u001b[0;31mZeroDivisionError\u001b[0m: division by zero"
     ]
    }
   ],
   "source": [
    "a, b = 7, 0\n",
    "c = a / b"
   ]
  },
  {
   "cell_type": "markdown",
   "metadata": {},
   "source": [
    "Las excepciones son errores que se producen en tiempo de ejecución,\n",
    "y tienen la ventaja de que pueden ser tratados, si nos preparamos\n",
    "para ello. Pero si la excepción no es tratada, inevitablemente\n",
    "conducirá al fin de la ejecución del programa.\n",
    "\n",
    "La última línea del mensaje de error es la que resume lo que ha\n",
    "ocurrido. Las excepciones pueden ser de distintos tipos, y se\n",
    "informa del tipo en el mensaje de error; en el caso anterior, el\n",
    "tipo de la excepción es `ZeroDivisionError`. Otros tipos\n",
    "de excepciones, algunos de los cuales hemos visto ya, son\n",
    "`ValueError` o `TypeError`.\n",
    "\n",
    "Si prevemos la posibilidad de que se produzca un error, podemos\n",
    "prepararnos para esta eventualidad con la estructura `try/except`.\n",
    "Por ejemplo, el siguiente fragmento de código:"
   ]
  },
  {
   "cell_type": "code",
   "execution_count": 14,
   "metadata": {
    "collapsed": false
   },
   "outputs": [
    {
     "name": "stdout",
     "output_type": "stream",
     "text": [
      "No puedo dividir por cero\n"
     ]
    }
   ],
   "source": [
    "try:\n",
    "    a, b = 7, 0\n",
    "    c = a / b\n",
    "except ZeroDivisionError:\n",
    "    print(\"No puedo dividir por cero\")"
   ]
  },
  {
   "cell_type": "markdown",
   "metadata": {},
   "source": [
    "Funciona así:\n",
    "\n",
    "- Se intentan ejecutar el bloque de código dentro de la\n",
    "   sentencia `try`.\n",
    "\n",
    "- Si no se produce ningúna excepción mientras ejecuta\n",
    "   ese código, se omite el código dentro del\n",
    "   bloque `except` y seguimos con la ejecución del\n",
    "   programa.\n",
    "\n",
    "- Si ocurre una excepcion en una de las líneas del código del\n",
    "   `try`, el resto de las líneas no se ejecuta. Si el tipo de excepción\n",
    "   coincide con el especificado en la clausula `except`, se ejecuta\n",
    "   el bloque de código asociado y el programa continua ejecutándose.\n",
    "\n",
    "- Si el tipo de la excepción no coincide con el indicado en la\n",
    "   cláusula `except`, entonces es una excepción no tratada, y provoca\n",
    "   que la excepción siga \"subiendo\" por la cadena de llamadas, y\n",
    "   provocando finalmente, si nadie la trata, la parada del programa \n",
    "   y el despliege del mensaje de error correspondiente.\n",
    "\n",
    "Una sentencia `try` puede tener más de una sentencia `except`,\n",
    "para aplicar diferentes tratamientos a diferentes tipos de\n",
    "excepciones. También podemos hacer que una sentencia `except`\n",
    "gestione más de un tipo de error usando paréntesis:"
   ]
  },
  {
   "cell_type": "code",
   "execution_count": 15,
   "metadata": {
    "collapsed": true
   },
   "outputs": [],
   "source": [
    "try:\n",
    "    ...\n",
    "except (RuntimeError, TypeError, NameError):\n",
    "    pass"
   ]
  },
  {
   "cell_type": "markdown",
   "metadata": {},
   "source": [
    "Si incluimos una sentencia `except` sin especificar ningun tipo de\n",
    "excepción, trataremos todas las excepciones posibles. Esto ha de evitarse,\n",
    "porque resulta muy fácil enmascarar así cualquier tipo de error, incluso \n",
    "aquellos en los que no estamos pensando. \n",
    "\n",
    "Una práctica común es usar la cláusula `except` para imprimir o mandar a un log un mensaje de error y luego volver a elevar la excepción, con la sentencia `raise`, para que esta acabe la ejecución del programa, o bien sea tratada por un nivel superior."
   ]
  },
  {
   "cell_type": "markdown",
   "metadata": {},
   "source": [
    "## La sentencia else en clausulas try/except\n",
    "\n",
    "La sentencia `try/except` puede tener una cláusula `else`, de\n",
    "forma similar a los bucles `for` y `while`. Si incluimos la\n",
    "cláusula `else`, esta debe ir después de la o las cláusulas\n",
    "`except`. El codigo dentro del `else` se ejecuta **si y solo si\n",
    "todas las líneas dentro del `try` se han ejecutado sin ninguna\n",
    "excepción**."
   ]
  },
  {
   "cell_type": "markdown",
   "metadata": {},
   "source": [
    "## Argumento de la excepción\n",
    "\n",
    "Cuando ocure una excepción, tiene un valor asociado, al que llamamos **argumento de la excepción**. Tanto la presencia como el tipo del argumento depende de cada tipo de excepción. La sentencia `except` puede especificar una variable despues del tipo de excepción (o tupla\n",
    "de tipos). Si lo hacemos, dicha variable queda asociada al valor de la instancia de la excepción. Este objeto nos permite acceder a más información acerca del error que se ha producido, incluyendo los argumentos asociados con la excepción. la última línea impresa en\n",
    "el mensaje de error es precisamente la expresión en forma de cadena de texto de ese objeto, es decir, el resultado de la llamada a `__str__`.\n",
    "\n",
    "Los manejadores de escepciones no se limitan a controlar los errores\n",
    "en las líneas dentro del try, tambien capturan y tratan errores que puedan ocurrir dentro de funciones o métodos llamados, ya sea directa o indirectamente, por el código dentro del `try`. Por ejemplo:"
   ]
  },
  {
   "cell_type": "code",
   "execution_count": 16,
   "metadata": {
    "collapsed": false
   },
   "outputs": [
    {
     "name": "stdout",
     "output_type": "stream",
     "text": [
      "Detectado error en tiempo de ejecución: division by zero\n"
     ]
    }
   ],
   "source": [
    "def esto_falla():\n",
    "    x = 1/0\n",
    "\n",
    "try:\n",
    "    esto_falla()\n",
    "except ZeroDivisionError as detail:\n",
    "    print('Detectado error en tiempo de ejecución:', detail)"
   ]
  },
  {
   "cell_type": "markdown",
   "metadata": {},
   "source": [
    "## Legibilidad del código con excepciones\n",
    "\n",
    "Las excepciones nos permite aumentar la legibilidad del código separando la lógica de control de errores de la lógica principal del programa. En C, por ejemplo, los errores no se indican con excepciones, sino que las llamadas a una función puede que devuelvan un código especial para indicar un error. En  consecuencia, los programas en C suelen consistir en una secuencia de llamadas a funciones intercaladas con código de comprobación de errores. El flujo principal se hace más difícil de leer con todas estas interrupciones.\n",
    "\n",
    "Las excepciones permiten tener el flujo principal del código completo y sin interrupciones dentro del `try`, y aun así, controlar las distintas posibilidades de error mediante cláusulas `except` separadas."
   ]
  },
  {
   "cell_type": "markdown",
   "metadata": {},
   "source": [
    "## Elevar excepciones\n",
    "\n",
    "Podemos provocar nosotros mismo excepciones -normalmente expresado como *elevar* una excepción- usando la sentencia `raise` que vimos antes. El único argumento de `raise` debe ser la propia excepción, o bien la clase de la que se instancia (La excepción es cuando intentamos volver a emitir la excepción que estamos tratando dentro de un `except`, ya vimos entonces que basta con poner `raise` sin parámtros). Veamos un ejemplo:"
   ]
  },
  {
   "cell_type": "code",
   "execution_count": 17,
   "metadata": {
    "collapsed": false
   },
   "outputs": [
    {
     "ename": "NameError",
     "evalue": "Hola",
     "output_type": "error",
     "traceback": [
      "\u001b[0;31m---------------------------------------------------------------------------\u001b[0m",
      "\u001b[0;31mNameError\u001b[0m                                 Traceback (most recent call last)",
      "\u001b[0;32m<ipython-input-17-7bfbad076b78>\u001b[0m in \u001b[0;36m<module>\u001b[0;34m()\u001b[0m\n\u001b[0;32m----> 1\u001b[0;31m \u001b[0;32mraise\u001b[0m \u001b[0mNameError\u001b[0m\u001b[0;34m(\u001b[0m\u001b[0;34m'Hola'\u001b[0m\u001b[0;34m)\u001b[0m\u001b[0;34m\u001b[0m\u001b[0m\n\u001b[0m",
      "\u001b[0;31mNameError\u001b[0m: Hola"
     ]
    }
   ],
   "source": [
    "raise NameError('Hola')"
   ]
  },
  {
   "cell_type": "markdown",
   "metadata": {},
   "source": [
    "## Definir nuestras propia excepciones\n",
    "\n",
    "También podemos definir nuestras propias excepciones, definiendo clases que deriven, directo o indirectamente de la clase `Exception`, que es la clase base de todas las excepciones (Es decir, todas las excepciones son casos particulares de `Exception`).\n",
    "\n",
    "Las Excepciones definidas por el usuario suelen ser relativamente simples, apenas un contenedor para los atributos que nos aporten información sobre el error producido. A la hora de crear un módulo, si en este vamos a definir varios tipos nuevos de excepciones, es una práctica común definir una base clase para ese tipo de excepciones, y a partir de  esa clase base, derivar cada una de los casos particulares. Así obtenemos una organización jerarquica para nuestros tipos de errores que puede ser muy útil para los programadores que usan el módulo o paquete. Normalmente, los nombres de las nuevas excepciones se hacen terminar en `Error`, siguiendo la nomenclatura de las excepciones estándar.\n",
    "\n",
    "Como recomendación, antes de definir nuestras propias excepciones conviene mirar las ya existentes, es altamente probable que ya exista una apropiada para nuestro caso."
   ]
  },
  {
   "cell_type": "markdown",
   "metadata": {},
   "source": [
    "## La cláusula `finally`\n",
    "\n",
    "Por último, la sentencia `try` puede tener una cláusula final, que se ejecutará siempre, se hayan producido o no excepciones en el código del `try`. El uso normal de `finally` es incluir código de liberación de recursos, operaciones de limpieza o cualquier otro tipo de código que tenga que ejecutarse \"si ó si\". Por ejemplo, si abrimos un fichero, podemos poner en la cláusula `finally` la operación de cierre, de forma que se gerantiza que, pase lo que pase, el fichero se cerrará.\n",
    "\n",
    "El código de la sentencia `finally` se ejecuta siempre a continuación del código en la sentencia `try`:"
   ]
  },
  {
   "cell_type": "code",
   "execution_count": null,
   "metadata": {
    "collapsed": false
   },
   "outputs": [],
   "source": [
    "def divide(x, y):\n",
    "    try:\n",
    "        result = x / y\n",
    "        print(\"el resultado es\", result)\n",
    "    except ZeroDivisionError:\n",
    "        print(\"división por cero!\")\n",
    "    finally:\n",
    "        print(\"Ejecutando sentencia finally\")\n",
    "\n",
    "divide(2, 1)\n",
    "divide(2, 0)"
   ]
  },
  {
   "cell_type": "markdown",
   "metadata": {},
   "source": []
  }
 ],
 "metadata": {
  "kernelspec": {
   "display_name": "Python 3",
   "language": "python",
   "name": "python3"
  },
  "language_info": {
   "codemirror_mode": {
    "name": "ipython",
    "version": 3
   },
   "file_extension": ".py",
   "mimetype": "text/x-python",
   "name": "python",
   "nbconvert_exporter": "python",
   "pygments_lexer": "ipython3",
   "version": "3.5.2"
  }
 },
 "nbformat": 4,
 "nbformat_minor": 2
}
