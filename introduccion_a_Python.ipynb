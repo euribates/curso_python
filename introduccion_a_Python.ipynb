{
 "cells": [
  {
   "cell_type": "markdown",
   "metadata": {},
   "source": [
    "# Introducción a Python"
   ]
  },
  {
   "cell_type": "markdown",
   "metadata": {},
   "source": [
    "## Brevísima historia de Python\n",
    "\n",
    "- Creado a finales de los 80 por el Holandés [Guido Van Rossum](https://es.wikipedia.org/wiki/Guido_van_Rossum).\n",
    "\n",
    "    Hace seis años, en diciembre de 1989, estaba buscando un proyecto de programación \n",
    "    como hobby que me mantuviera ocupado durante las semanas de Navidad. Mi oficina\n",
    "    estaría cerrada y no tendría más que mi ordenador de casa a mano. Decidí escribir \n",
    "    un intérprete para el nuevo lenguaje de scripting que había estado ideando \n",
    "    recientemente: un descendiente de ABC que gustaría a los hackers de Unix/c. Elegí\n",
    "    el nombre de Python para el proyecto, encontrándome en un estado de ánimo ligeramente\n",
    "    irreverente (y siendo un gran fan de Monty Python's Flying Circus)\n",
    "\n",
    "Python, derivado de un lenguaje previo llamado ABC.\n",
    "\n",
    "- El objetivo era un  lenguaje de programación de alto nivel, con una sintaxis limpia, fácil de leer y multiplataforma.\n",
    "\n",
    "- Con soporte para distintos estilos de programación: Imperativa,  orientada a objetos y funcional.\n",
    "\n",
    "El nombre proviene del grupo de humor inglés [Monty Python](https://es.wikipedia.org/wiki/Monty_Python), no de la serpiente."
   ]
  },
  {
   "cell_type": "markdown",
   "metadata": {},
   "source": [
    "![Monty Python Flying Circus](img/monty_python.jpg)"
   ]
  },
  {
   "cell_type": "markdown",
   "metadata": {},
   "source": [
    "## Python 2 o Python 3"
   ]
  },
  {
   "cell_type": "markdown",
   "metadata": {},
   "source": [
    "Python 3 es la versión más avanzada de Python, pero no es completamente compatible con la version 2.0. En este curso veremos Python 3, pero veremos más adelante una sección con las diferencias más importantes entre las dos versiones. Este es el único cambio en toda la historia de Python en la que se ha roto la compatibilidad hacia atras del lenguaje.\n",
    "\n",
    "Además, es posible escribir código que funcione igual en las dos versiones, aunque requiere un poco de atención con ciertos detalles. La mayoría de las librerias han sido migradas manteniendo esta idea por lo funcionan perfectamente en ambas versiones.\n",
    "\n",
    "Python 2 tiene ya [fecha de obsolescencia](https://pythonclock.org/), no se mantendrá oficialmente a partir del 2020."
   ]
  },
  {
   "cell_type": "markdown",
   "metadata": {},
   "source": [
    "## ¿Por qué Python?\n",
    "\n",
    "Por varias razones:\n",
    "\n",
    " - Permite un **Desarrollo rápido**\n",
    "\n",
    " - El lenguajes es **sencillo, pero potente**\n",
    " \n",
    " - Es muy **fácil de leer**. El código se escribe una vez pero se lee diez\n",
    " \n",
    " - Es software **libre y abierto**: La Python Software Foundation License, o PSFL por sus siglas\n",
    "   en inglés, es una licencia de software libre permisiva, al estilo de BSD, es \n",
    "   decir, que cumple con los requisitos OSI para ser declarada licencia de software \n",
    "   libre; además, es compatible con la licencia GPL.\n",
    "   \n",
    " - **No se entromete** (Entre tú y el problema)\n",
    " \n",
    " - **Interpretado** (Pero también **compilado**)\n",
    " \n",
    " - Muy **fácil de extender** (En C o C++, por ejemplo)\n",
    "\n",
    " - La **librería estándar,** incluida con el interprete, es muy completa, pero además...\n",
    "\n",
    " - Hay una ingente cantidad de **librerías, frameworks y paquetes desarrollados por \n",
    "   terceras partes**. La comunidad usa un repositorio denominado \n",
    "   [PyPI - the Python Package Index](https://pypi.python.org/pypi)\n"
   ]
  },
  {
   "cell_type": "markdown",
   "metadata": {},
   "source": [
    "### Desarrollo rápido\n",
    "\n",
    " - Lenguaje de alto nivel\n",
    "\n",
    " - Desarrollo de prototipos\n",
    "\n",
    " - Herramientas de análisis de rendimiento\n",
    "\n",
    " - Facilidad para reescribir las partes críticas en otros lenguajes\n",
    " \n",
    "### Sencillo, pero potente\n",
    "\n",
    "Es un lenguaje **compacto**:\n",
    "\n",
    "> compacto adj. Dicho de un diseño, describe la deseable propiedad\n",
    "> de poder ser aprendido de una vez en la cabeza de uno.\n",
    ">\n",
    "> -- [New Hacker's Dictionary - compact](http://www.catb.org/~esr/jargon/html/C/compact.html)\n",
    "\n",
    "El ser compacto no implica trivialidad o falta de potencia: Por ejemplo, el\n",
    "lenguaje C es más compacto que Fortran, y a la vez, más potente.\n",
    "\n",
    "### Fácil de leer\n",
    "\n",
    "> Programs must be written for people to read, and only incidentally for machines to execute.\n",
    ">\n",
    "> -- Abelson & Sussman, Structure and Interpretation of Computer Programs\n"
   ]
  },
  {
   "cell_type": "markdown",
   "metadata": {},
   "source": [
    "#### ¿Qué hace este programa?"
   ]
  },
  {
   "cell_type": "code",
   "execution_count": 3,
   "metadata": {},
   "outputs": [
    {
     "name": "stdout",
     "output_type": "stream",
     "text": [
      "Promedio: 24.8\n"
     ]
    }
   ],
   "source": [
    "lista = [7, 23, 44, -2, 52]\n",
    "suma = 0.0\n",
    "for i in lista:\n",
    "    suma = suma + i\n",
    "m = suma/len(lista)\n",
    "\n",
    "print(\"Promedio:\", m)"
   ]
  },
  {
   "cell_type": "markdown",
   "metadata": {},
   "source": [
    "#### Una versión más corta"
   ]
  },
  {
   "cell_type": "code",
   "execution_count": 6,
   "metadata": {},
   "outputs": [
    {
     "name": "stdout",
     "output_type": "stream",
     "text": [
      "Promedio: 24.8\n"
     ]
    }
   ],
   "source": [
    "lista = [7, 23, 44, -2, 52]\n",
    "print(\"Promedio:\", sum(lista)/len(lista))"
   ]
  },
  {
   "cell_type": "markdown",
   "metadata": {},
   "source": [
    "### Software libre y abierto\n",
    "\n",
    "- Menos errores: Con los suficientes ojos, todos los errores son obvios (Ley de Linus)\n",
    "\n",
    "- Más facilidad de desarrollo de módulos, extensiones y sistemas paralelos\n",
    "\n",
    "- Sin puertas traseras y más seguro\n",
    "\n",
    "- Crecimiento exponencial"
   ]
  },
  {
   "cell_type": "markdown",
   "metadata": {},
   "source": [
    "### No se entromete (Entre el problema y tú)"
   ]
  },
  {
   "cell_type": "markdown",
   "metadata": {},
   "source": [
    "![Self operating napkin](img/rube_goldberg.png)"
   ]
  },
  {
   "cell_type": "markdown",
   "metadata": {},
   "source": [
    "### Para que no es bueno Python \n",
    "\n",
    "Para el desarrollo a bajo nivel (\"Cerca de la máquina\"), como drivers, kernels o sobre hardware \n",
    "y recursos limitados, sistemas en el que sea imprescindible obtener la máxima capacidad \n",
    "posible de rendimiento de una CPU, o aplicaciones que requieran alta capacidad de \n",
    "cómputo. Pero veremos paquetes como [numpy](http://www.numpy.org/), [Pandas](http://pandas.pydata.org/) y otras \n",
    "que realizan las partes del cálculo en C, manteniendo la facilidad de uso de Python y proporcionando\n",
    "la eficacia de C.\n",
    "\n",
    "En aplicaciones multi-thread sobre sistemas con múltiples procesadores, pueden tener problemas\n",
    "de rendimiento si no se tienen en cuenta las restricciones que impone el GIL. En general, en\n",
    "Python se prefiere implementar la concurrencia con sistemas asíncronos."
   ]
  },
  {
   "cell_type": "code",
   "execution_count": null,
   "metadata": {
    "collapsed": true
   },
   "outputs": [],
   "source": []
  }
 ],
 "metadata": {
  "kernelspec": {
   "display_name": "Python 3",
   "language": "python",
   "name": "python3"
  },
  "language_info": {
   "codemirror_mode": {
    "name": "ipython",
    "version": 3
   },
   "file_extension": ".py",
   "mimetype": "text/x-python",
   "name": "python",
   "nbconvert_exporter": "python",
   "pygments_lexer": "ipython3",
   "version": "3.6.1"
  }
 },
 "nbformat": 4,
 "nbformat_minor": 2
}
