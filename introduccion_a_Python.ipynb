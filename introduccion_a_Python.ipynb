{
 "cells": [
  {
   "cell_type": "markdown",
   "metadata": {},
   "source": [
    "# Introducción a Python"
   ]
  },
  {
   "cell_type": "markdown",
   "metadata": {},
   "source": [
    "## Brevísima historia de Python\n",
    "\n",
    "- Creado a finales de los 80 por el Holandés [Guido Van Rossum](https://es.wikipedia.org/wiki/Guido_van_Rossum).\n",
    "\n",
    "    Hace seis años, en diciembre de 1989, estaba buscando un proyecto de programación \n",
    "    como hobby que me mantuviera ocupado durante las semanas de Navidad. Mi oficina\n",
    "    estaría cerrada y no tendría más que mi ordenador de casa a mano. Decidí escribir \n",
    "    un intérprete para el nuevo lenguaje de scripting que había estado ideando \n",
    "    recientemente: un descendiente de ABC que gustaría a los hackers de Unix/c. Elegí\n",
    "    el nombre de Python para el proyecto, encontrándome en un estado de ánimo ligeramente\n",
    "    irreverente (y siendo un gran fan de Monty Python's Flying Circus)\n",
    "\n",
    "Python, derivado de un lenguaje previo llamado ABC.\n",
    "\n",
    "- El objetivo era un  lenguaje de programación de alto nivel, con una sintaxis limpia, fácil de leer y multiplataforma.\n",
    "\n",
    "- Con soporte para distintos estilos de programación: Imperativa,  orientada a objetos y funcional.\n",
    "\n",
    "El nombre proviene del grupo de humor inglés Monty Python, no de la serpiente."
   ]
  },
  {
   "cell_type": "markdown",
   "metadata": {},
   "source": [
    "![Monty Python Flying Circus](img/monty_python.jpg)"
   ]
  },
  {
   "cell_type": "markdown",
   "metadata": {},
   "source": [
    "## Python 2 o Python 3"
   ]
  },
  {
   "cell_type": "markdown",
   "metadata": {},
   "source": [
    "PYthon 3 es la versión más avanzada de Python, pero no es completamente compatible con la version 2.0. En este curso veremos Python 3, pero veremos más adelante una sección con las diferencias más importantes entre las dos versiones. \n",
    "\n",
    "Además, es posible escribir código que funcione igual en las dos versiones, aunque requiere un poco de atencion con ciertos detalles."
   ]
  }
 ],
 "metadata": {
  "kernelspec": {
   "display_name": "Python 3",
   "language": "python",
   "name": "python3"
  },
  "language_info": {
   "codemirror_mode": {
    "name": "ipython",
    "version": 3
   },
   "file_extension": ".py",
   "mimetype": "text/x-python",
   "name": "python",
   "nbconvert_exporter": "python",
   "pygments_lexer": "ipython3",
   "version": "3.5.2"
  }
 },
 "nbformat": 4,
 "nbformat_minor": 2
}
