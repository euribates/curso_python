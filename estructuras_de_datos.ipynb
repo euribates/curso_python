{
 "cells": [
  {
   "cell_type": "markdown",
   "metadata": {},
   "source": [
    "# Tipos de datos compuestos o Estructuras de datos\n",
    "\n",
    "Los siguientes tipos de datos que veremos son llamados *compuestos* oestructuras de datos \n",
    "porque sirven para agrupar distintas variables en una sola.\n",
    "\n",
    "#### Listas\n",
    "\n",
    "La lista es la estructura más habitual, consiste en una enumeración o lista\n",
    "de variables, siendo el orden de la misma importante, porque es precisamente\n",
    "usando ese orden como después podremos acceder a los valores individuales. En\n",
    "Python una lista se indica abriendo corchetes: ``[``, a continuación\n",
    "las variables, valores o expresiones que formarán parte de la lista\n",
    "y acabamos cerrando los corchetes: ``]``. Descrito así, parece mhttps://lh3..com/t7pE7epBQBtG_VLab_Xr5neligr2ThEulX72w7GaCwfYbprlWbO10MnuGqxU_YEdLPw=h900ucho\n",
    "más complicado; veamos un ejemplo::"
   ]
  },
  {
   "cell_type": "code",
   "execution_count": 1,
   "metadata": {
    "collapsed": false
   },
   "outputs": [
    {
     "data": {
      "text/plain": [
       "['Maria', 4, 723.4, None]"
      ]
     },
     "execution_count": 1,
     "metadata": {},
     "output_type": "execute_result"
    }
   ],
   "source": [
    "a = ['Maria', 4, 723.4, None]\n",
    "a"
   ]
  },
  {
   "cell_type": "markdown",
   "metadata": {},
   "source": [
    "En otros lenguajes, la lista o `array` de datos solo puede contener\n",
    "un determinado tipo de datos; por ejemplo, una lista de enteros. En\n",
    "Python, como vemos, en la lista se pueden guardar cualquier tipo de\n",
    "datos.\n",
    "\n",
    "Al igual que las cadenas de texto, las listas se acceden usando un índice,\n",
    "que de nuevo empieza por cero. También podemos usar \"rebanadas\" o *slices*,\n",
    "exactamente igual que con las strings, y tambien podemos concatenarlas\n",
    "usando el operador `+`:"
   ]
  },
  {
   "cell_type": "code",
   "execution_count": 2,
   "metadata": {
    "collapsed": true
   },
   "outputs": [],
   "source": [
    "a = ['Maria', 4, 723.4, None]\n",
    "assert a[0] == 'Maria'\n",
    "assert a[1:3] == [4, 723.4]\n",
    "assert a[-2:] == [723.4, None]\n",
    "assert a + [(6+7j), True] == ['Maria', 4, 723.4, None, (6+7j), True]"
   ]
  },
  {
   "cell_type": "markdown",
   "metadata": {},
   "source": [
    "Tiene sentido, si pensamos que una cadena de textos al final viene a ser\n",
    "como una lista de caracteres.\n",
    "\n",
    "Todas las operaciones de rebanado devuelven una nueva lista, que contiene\n",
    "los elementos indicados. Una forma habitual de obtener una copia de una\n",
    "lista es usando ``[:]``; al omitir los límites inferior y superior\n",
    "estos son sustituidos por \"desde el principio\" y \"hasta el final\":"
   ]
  },
  {
   "cell_type": "code",
   "execution_count": 3,
   "metadata": {
    "collapsed": false
   },
   "outputs": [
    {
     "data": {
      "text/plain": [
       "False"
      ]
     },
     "execution_count": 3,
     "metadata": {},
     "output_type": "execute_result"
    }
   ],
   "source": [
    "a = ['Maria', 4, 723.4, None]\n",
    "b = a[:]\n",
    "assert a == b\n",
    "a is b"
   ]
  },
  {
   "cell_type": "markdown",
   "metadata": {},
   "source": [
    "Pero, al contrario que las cadenas de texto, las listas si son *mutables*. Es\n",
    "posible cambiar elementos individuales dentro de la lista:"
   ]
  },
  {
   "cell_type": "code",
   "execution_count": 4,
   "metadata": {
    "collapsed": true
   },
   "outputs": [],
   "source": [
    "a = ['Maria', 4, 723.4, None]\n",
    "a[1] = a[1] + 6\n"
   ]
  },
  {
   "cell_type": "markdown",
   "metadata": {},
   "source": [
    "Incluso es posible hacer aquello que no podíamos con las strings, asignar\n",
    "a una rodaja, aunque esto cambie el tamaño de la lista o incluso\n",
    "la deje totalmente vacia:"
   ]
  },
  {
   "cell_type": "code",
   "execution_count": 5,
   "metadata": {
    "collapsed": true
   },
   "outputs": [],
   "source": [
    "a = [1,2,3,4]\n",
    "a[1:3] = [2.0, 2.1, 2.3, 2.5, 2.7, 2.9, 3.0]\n",
    "assert a == [1, 2.0, 2.1, 2.3, 2.5, 2.7, 2.9, 3.0, 4]\n",
    "a[:] = [] # Borramos todo el contenido de la lista\n",
    "assert a == []"
   ]
  },
  {
   "cell_type": "markdown",
   "metadata": {},
   "source": [
    "La función `len`, que en el caso de las cadenas de textos nos\n",
    "retornaba su longitud, aplicada a una lista nos devuelve\n",
    "el número de elementos de la lista:"
   ]
  },
  {
   "cell_type": "code",
   "execution_count": 6,
   "metadata": {
    "collapsed": true
   },
   "outputs": [],
   "source": [
    "l = [1,2,3,4]\n",
    "assert len(l) == 4\n",
    "s = '¡Es una trampa!'\n",
    "assert len(s) == 15"
   ]
  },
  {
   "cell_type": "markdown",
   "metadata": {},
   "source": [
    "Las listas pueden contener cualquier tipo de dato, no solo los datos\n",
    "simples que vimos al principio, tambien pueden contener otras listas,\n",
    "o tuplas, diccionarios (que veremos a continuación), etc... Por ejemplo\n",
    "podemos crear una matriz de 3x3 haciendo una lista de tres elementos,\n",
    "cada uno de los cuales es un una lista de tres elementos:"
   ]
  },
  {
   "cell_type": "code",
   "execution_count": 7,
   "metadata": {
    "collapsed": false
   },
   "outputs": [
    {
     "name": "stdout",
     "output_type": "stream",
     "text": [
      "1 5\n"
     ]
    }
   ],
   "source": [
    "a = [[1,2,3], [4,5,6], [7,8,9]]\n",
    "print(a[0][0], a[1][1])"
   ]
  },
  {
   "cell_type": "markdown",
   "metadata": {},
   "source": [
    "Que las listas sean mutables es algo que no debemos olvidar, ya que\n",
    "puede causar muchos problemas en el programador principiante. Por ejemplo,\n",
    "dado el siguiente fragmento de código, ¿qué saldrá impreso por\n",
    "pantalla? ¿Por qué?:"
   ]
  },
  {
   "cell_type": "code",
   "execution_count": 9,
   "metadata": {
    "collapsed": false
   },
   "outputs": [
    {
     "name": "stdout",
     "output_type": "stream",
     "text": [
      "[1, 2, 3, 'hola']\n"
     ]
    }
   ],
   "source": [
    "a = [1,2,3,5]\n",
    "b = a\n",
    "b[3] = 'hola'\n",
    "print(a)"
   ]
  },
  {
   "cell_type": "markdown",
   "metadata": {},
   "source": [
    "Un ejemplo un poco más rebuscado. Podemos añadir un elamento a una lista\n",
    "usando el **método** `append`, de forma que:"
   ]
  },
  {
   "cell_type": "code",
   "execution_count": 11,
   "metadata": {
    "collapsed": true
   },
   "outputs": [],
   "source": [
    "a = [1,2,3]\n",
    "a.append(4)\n",
    "assert a == [1, 2, 3, 4]"
   ]
  },
  {
   "cell_type": "markdown",
   "metadata": {},
   "source": [
    "Sabiendo esto, y dado el siguiente programa, ¿Cuál será la\n",
    "salida? ¿y por qué?:"
   ]
  },
  {
   "cell_type": "code",
   "execution_count": 13,
   "metadata": {
    "collapsed": false
   },
   "outputs": [
    {
     "name": "stdout",
     "output_type": "stream",
     "text": [
      "[1, ['a', 'b', 'extra'], 4]\n"
     ]
    }
   ],
   "source": [
    "q = ['a', 'b']\n",
    "p = [1, q, 4]\n",
    "q.append('extra')\n",
    "print(p)"
   ]
  },
  {
   "cell_type": "markdown",
   "metadata": {},
   "source": [
    "¿Qué operadores podemos usar con las listas? En primer lugar podemos\n",
    "compararlas con el operador `==`; las listas `a` y `b` son iguales si lo\n",
    "son entre si cada uno de los elementos de que las componen:"
   ]
  },
  {
   "cell_type": "code",
   "execution_count": 15,
   "metadata": {
    "collapsed": true
   },
   "outputs": [],
   "source": [
    "a = [1, 2, 3]\n",
    "b = [1, 2, 3]\n",
    "assert a == b"
   ]
  },
  {
   "cell_type": "markdown",
   "metadata": {},
   "source": [
    "Las comparaciones (`<`, `<=`, `>`, `>=` y `!=`) se realizan\n",
    "comparando los elementos en orden, a la primera discrepancia, se\n",
    "devuelve el resultado correspondiente. Si no se encuentra ninguna\n",
    "discrepacia, se considera que ambas secuencias son iguales:"
   ]
  },
  {
   "cell_type": "code",
   "execution_count": 16,
   "metadata": {
    "collapsed": true
   },
   "outputs": [],
   "source": [
    "a = [1, 2, 3]\n",
    "b = [1, 2, 4]\n",
    "assert not a > b\n",
    "assert a < b"
   ]
  },
  {
   "cell_type": "markdown",
   "metadata": {},
   "source": [
    "Si una secuencia resulta ser la parte inicial de la otra, se considera\n",
    "que la secuencia más corta es la más pequeña. Si los elementos a\n",
    "comparar son cadenas de texto, se compararán carácter a carácter. Es\n",
    "legal comparar objetos de diferentes tipos, pero el resultado puede\n",
    "que le sorprenda: Los tipos se ordenan por su nombre (en inglés, claro).\n",
    "Por lo tanto, una *string* siempre será menor que una *tupla*, una\n",
    "*lista* siempre sera menor que una *string*, etc...\n",
    "\n",
    "Tambien podemos sumar listas con el operador `+`:"
   ]
  },
  {
   "cell_type": "code",
   "execution_count": 17,
   "metadata": {
    "collapsed": true
   },
   "outputs": [],
   "source": [
    "a = [1, 2, 3]\n",
    "b = [4, 5, 6]\n",
    "c = a + b\n",
    "assert c == [1, 2, 3, 4, 5, 6]"
   ]
  },
  {
   "cell_type": "markdown",
   "metadata": {},
   "source": [
    "Pero cuidado, el operador `+` siempre creará una nueva lista. Si queremos\n",
    "añadir una lista a la actual, sin crear una nueva, tenemos que usar\n",
    "una notación especial, `+=`:"
   ]
  },
  {
   "cell_type": "code",
   "execution_count": 19,
   "metadata": {
    "collapsed": true
   },
   "outputs": [],
   "source": [
    "a = [1, 2, 3]\n",
    "a += [4, 5, 6]\n",
    "assert a == [1, 2, 3, 4, 5, 6]"
   ]
  },
  {
   "cell_type": "markdown",
   "metadata": {},
   "source": [
    "Aunque el resultado parezca el mismo, hay una sutil diferencia entre\n",
    "ampliar una lista o crear una nueva con el contenido ampliado, que\n",
    "puede causar  problemas relativamente complejos. Por ejemplo,\n",
    "supongamos de nuevo la lista `a`:"
   ]
  },
  {
   "cell_type": "code",
   "execution_count": 20,
   "metadata": {
    "collapsed": true
   },
   "outputs": [],
   "source": [
    "a = [1,2,3]\n",
    "b = a  # a y b son la misma lista\n",
    "a += [4]\n",
    "assert b == [1, 2, 3, 4]\n",
    "# Es correcto, los cambios en a se reflejan en b, son la misma\n",
    "assert a is b\n",
    "a = a + [5]\n",
    "assert a == [1, 2, 3, 4, 5] # 'a' es una nueva lista\n",
    "assert b == [1, 2, 3, 4]    # 'b' sigue apuntado a la lista original\n",
    "assert a is not b"
   ]
  },
  {
   "cell_type": "markdown",
   "metadata": {},
   "source": [
    "Evidentemente, si la lista es muy larga, es mucho más eficiente añadir\n",
    "un elemento a la lista que crear una nueva lista de cero, con  el\n",
    "nuevo elemento añadido, más la sobrecarga de, probablemente, tener que\n",
    "liberar la memoria de las dos listas previas.\n",
    "\n",
    "Las listas definen también una serie de métodos, algunos de los cuales\n",
    "explicaremos brevemente aquí:"
   ]
  },
  {
   "cell_type": "markdown",
   "metadata": {},
   "source": [
    "##### Métodos aplicables a las listas\n",
    "    \n",
    "- **`append(x)`**: Permite añadir el elemento x a la lista. En elemento se añade despues\n",
    "  de todos los elementos que hubiera, de forma que el nuevo elemento es el último.\n",
    "\n",
    "- **`count(x)`**: Devuelve el número de veces que aparece el parámetro `x` en la lista\n",
    "\n",
    "- **`extend(l)`**: Añade a la lista añade todos los elementos de la lista que se pasa como parámetro\n",
    "\n",
    "- **`index(x)`**: devuelve la posición del elemento `x` dentro de la lista. Si no lo puede encontrar, se producirá un error.\n",
    "\n",
    "- **`insert(pos, x)`**: Inserta el elemento `x` en la lista, de forma que ocupará la posición indicada por el parámetro `pos`.\n",
    "\n",
    "- **`pop([pos])`**: Extrae el elemento de la lista que ocupe la posición `pos`, y lo devuelve como resultado. Si no se especifica la posicioón, se extrae y devuelve el último. (Los corchetes `[` y `]` indican que el parámetro es opcional)\n",
    "\n",
    "- **`remove(x)`**: Elimina el elemento `x` de la lista. Eleva un error si `x` no estuviera en la misma.\n",
    "\n",
    "- **`reverse()`**: Invierte las posiciones de los elementos de la lista, de forma que el primero pasa a ser el último, sl segundo penúltimo, etc... Modifica la lista en si, no devuelve una nueva lista con el nuevo orden.\n",
    "\n",
    "- **`sort([cmp=None, key=None, reverse=False])`**: Ordena los elementos en la lista (los argumentos que se le pueden pasar, todos opcionales, se utilizan para ajustar la forma en que deseamos que se realiza la ordenación, y se explicarán mas adelante, cuando veamos la función `sorted`.\n",
    "\n",
    "Veamos un ejemplo en que usamos estos métodos:"
   ]
  },
  {
   "cell_type": "code",
   "execution_count": 22,
   "metadata": {
    "collapsed": true
   },
   "outputs": [],
   "source": [
    "a = [66.25, 333, 333, 1, 1234.5]\n",
    "assert a.count(333) == 2 \n",
    "assert a.count(66.25) == 1 \n",
    "assert a.count('x') == 0\n",
    "a.insert(2, -1)\n",
    "a.append(333)\n",
    "assert a == [66.25, 333, -1, 333, 1, 1234.5, 333]\n",
    "assert a.index(333) == 1\n",
    "a.remove(333)\n",
    "assert a == [66.25, -1, 333, 1, 1234.5, 333]\n",
    "a.reverse()\n",
    "assert a == [333, 1234.5, 1, 333, -1, 66.25]\n",
    "a.sort()\n",
    "assert a == [-1, 1, 66.25, 333, 333, 1234.5]\n",
    "assert a.pop() == 1234.5\n",
    "assert a == [-1, 1, 66.25, 333, 333]"
   ]
  },
  {
   "cell_type": "markdown",
   "metadata": {},
   "source": [
    "### Implementando pilas y/o colas con listas \n",
    "\n",
    "Podemos usar una lista como una pila o *stack* (*LIFO: Last In, First Out*) usando\n",
    "solo los métodos `append()` y `pop()` para introducir o extraer datos.\n",
    "\n",
    "Podemos usar una lista como una cola o *queue* (*FIFO: First In, First Out*) si\n",
    "usamos solo `insert()` (con `index=0`) y `pop()`."
   ]
  },
  {
   "cell_type": "code",
   "execution_count": null,
   "metadata": {
    "collapsed": true
   },
   "outputs": [],
   "source": []
  }
 ],
 "metadata": {
  "kernelspec": {
   "display_name": "Python 3",
   "language": "python",
   "name": "python3"
  },
  "language_info": {
   "codemirror_mode": {
    "name": "ipython",
    "version": 3
   },
   "file_extension": ".py",
   "mimetype": "text/x-python",
   "name": "python",
   "nbconvert_exporter": "python",
   "pygments_lexer": "ipython3",
   "version": "3.5.2"
  }
 },
 "nbformat": 4,
 "nbformat_minor": 2
}
