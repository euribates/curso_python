{
 "cells": [
  {
   "cell_type": "markdown",
   "metadata": {
    "deletable": true,
    "editable": true
   },
   "source": [
    "# Tipos de datos compuestos o Estructuras de datos\n",
    "\n",
    "Los siguientes tipos de datos que veremos son llamados *compuestos* oestructuras de datos \n",
    "porque sirven para agrupar distintas variables en una sola.\n",
    "\n",
    "## Listas\n",
    "\n",
    "La lista es la estructura más habitual, consiste en una enumeración o lista\n",
    "de variables, siendo el orden de la misma importante, porque es precisamente\n",
    "usando ese orden como después podremos acceder a los valores individuales. En\n",
    "Python una lista se indica abriendo corchetes: ``[``, a continuación\n",
    "las variables, valores o expresiones que formarán parte de la lista\n",
    "y acabamos cerrando los corchetes: ``]``. Descrito así, parece mhttps://lh3..com/t7pE7epBQBtG_VLab_Xr5neligr2ThEulX72w7GaCwfYbprlWbO10MnuGqxU_YEdLPw=h900ucho\n",
    "más complicado; veamos un ejemplo::"
   ]
  },
  {
   "cell_type": "code",
   "execution_count": 50,
   "metadata": {
    "collapsed": false,
    "deletable": true,
    "editable": true
   },
   "outputs": [
    {
     "data": {
      "text/plain": [
       "['Maria', 4, 723.4, None]"
      ]
     },
     "execution_count": 50,
     "metadata": {},
     "output_type": "execute_result"
    }
   ],
   "source": [
    "a = ['Maria', 4, 723.4, None]\n",
    "a"
   ]
  },
  {
   "cell_type": "markdown",
   "metadata": {
    "deletable": true,
    "editable": true
   },
   "source": [
    "En otros lenguajes, la lista o `array` de datos solo puede contener\n",
    "un determinado tipo de datos; por ejemplo, una lista de enteros. En\n",
    "Python, como vemos, en la lista se pueden guardar cualquier tipo de\n",
    "datos.\n",
    "\n",
    "Al igual que las cadenas de texto, las listas se acceden usando un índice,\n",
    "que de nuevo empieza por cero. También podemos usar \"rebanadas\" o *slices*,\n",
    "exactamente igual que con las strings, y tambien podemos concatenarlas\n",
    "usando el operador `+`:"
   ]
  },
  {
   "cell_type": "code",
   "execution_count": 51,
   "metadata": {
    "collapsed": true,
    "deletable": true,
    "editable": true
   },
   "outputs": [],
   "source": [
    "a = ['Maria', 4, 723.4, None]\n",
    "assert a[0] == 'Maria'\n",
    "assert a[1:3] == [4, 723.4]\n",
    "assert a[-2:] == [723.4, None]\n",
    "assert a + [(6+7j), True] == ['Maria', 4, 723.4, None, (6+7j), True]"
   ]
  },
  {
   "cell_type": "markdown",
   "metadata": {
    "deletable": true,
    "editable": true
   },
   "source": [
    "Tiene sentido, si pensamos que una cadena de textos al final viene a ser\n",
    "como una lista de caracteres.\n",
    "\n",
    "Todas las operaciones de rebanado devuelven una nueva lista, que contiene\n",
    "los elementos indicados. Una forma habitual de obtener una copia de una\n",
    "lista es usando ``[:]``; al omitir los límites inferior y superior\n",
    "estos son sustituidos por \"desde el principio\" y \"hasta el final\":"
   ]
  },
  {
   "cell_type": "code",
   "execution_count": 52,
   "metadata": {
    "collapsed": false,
    "deletable": true,
    "editable": true
   },
   "outputs": [
    {
     "data": {
      "text/plain": [
       "False"
      ]
     },
     "execution_count": 52,
     "metadata": {},
     "output_type": "execute_result"
    }
   ],
   "source": [
    "a = ['Maria', 4, 723.4, None]\n",
    "b = a[:]\n",
    "assert a == b\n",
    "a is b"
   ]
  },
  {
   "cell_type": "markdown",
   "metadata": {
    "deletable": true,
    "editable": true
   },
   "source": [
    "Pero, al contrario que las cadenas de texto, las listas si son *mutables*. Es\n",
    "posible cambiar elementos individuales dentro de la lista:"
   ]
  },
  {
   "cell_type": "code",
   "execution_count": 53,
   "metadata": {
    "collapsed": true,
    "deletable": true,
    "editable": true
   },
   "outputs": [],
   "source": [
    "a = ['Maria', 4, 723.4, None]\n",
    "a[1] = a[1] + 6\n"
   ]
  },
  {
   "cell_type": "markdown",
   "metadata": {
    "deletable": true,
    "editable": true
   },
   "source": [
    "Incluso es posible hacer aquello que no podíamos con las strings, asignar\n",
    "a una rodaja, aunque esto cambie el tamaño de la lista o incluso\n",
    "la deje totalmente vacia:"
   ]
  },
  {
   "cell_type": "code",
   "execution_count": 54,
   "metadata": {
    "collapsed": true,
    "deletable": true,
    "editable": true
   },
   "outputs": [],
   "source": [
    "a = [1,2,3,4]\n",
    "a[1:3] = [2.0, 2.1, 2.3, 2.5, 2.7, 2.9, 3.0]\n",
    "assert a == [1, 2.0, 2.1, 2.3, 2.5, 2.7, 2.9, 3.0, 4]\n",
    "a[:] = [] # Borramos todo el contenido de la lista\n",
    "assert a == []"
   ]
  },
  {
   "cell_type": "markdown",
   "metadata": {
    "deletable": true,
    "editable": true
   },
   "source": [
    "La función `len`, que en el caso de las cadenas de textos nos\n",
    "retornaba su longitud, aplicada a una lista nos devuelve\n",
    "el número de elementos de la lista:"
   ]
  },
  {
   "cell_type": "code",
   "execution_count": 55,
   "metadata": {
    "collapsed": true,
    "deletable": true,
    "editable": true
   },
   "outputs": [],
   "source": [
    "l = [1,2,3,4]\n",
    "assert len(l) == 4\n",
    "s = '¡Es una trampa!'\n",
    "assert len(s) == 15"
   ]
  },
  {
   "cell_type": "markdown",
   "metadata": {
    "deletable": true,
    "editable": true
   },
   "source": [
    "Las listas pueden contener cualquier tipo de dato, no solo los datos\n",
    "simples que vimos al principio, tambien pueden contener otras listas,\n",
    "o tuplas, diccionarios (que veremos a continuación), etc... Por ejemplo\n",
    "podemos crear una matriz de 3x3 haciendo una lista de tres elementos,\n",
    "cada uno de los cuales es un una lista de tres elementos:"
   ]
  },
  {
   "cell_type": "code",
   "execution_count": 56,
   "metadata": {
    "collapsed": false,
    "deletable": true,
    "editable": true
   },
   "outputs": [
    {
     "name": "stdout",
     "output_type": "stream",
     "text": [
      "1 5\n"
     ]
    }
   ],
   "source": [
    "a = [[1,2,3], [4,5,6], [7,8,9]]\n",
    "print(a[0][0], a[1][1])"
   ]
  },
  {
   "cell_type": "markdown",
   "metadata": {
    "deletable": true,
    "editable": true
   },
   "source": [
    "Que las listas sean mutables es algo que no debemos olvidar, ya que\n",
    "puede causar muchos problemas en el programador principiante. Por ejemplo,\n",
    "dado el siguiente fragmento de código, ¿qué saldrá impreso por\n",
    "pantalla? ¿Por qué?:"
   ]
  },
  {
   "cell_type": "code",
   "execution_count": 57,
   "metadata": {
    "collapsed": false,
    "deletable": true,
    "editable": true
   },
   "outputs": [
    {
     "name": "stdout",
     "output_type": "stream",
     "text": [
      "[1, 2, 3, 'hola']\n"
     ]
    }
   ],
   "source": [
    "a = [1,2,3,5]\n",
    "b = a\n",
    "b[3] = 'hola'\n",
    "print(a)"
   ]
  },
  {
   "cell_type": "markdown",
   "metadata": {
    "deletable": true,
    "editable": true
   },
   "source": [
    "Un ejemplo un poco más rebuscado. Podemos añadir un elamento a una lista\n",
    "usando el **método** `append`, de forma que:"
   ]
  },
  {
   "cell_type": "code",
   "execution_count": 58,
   "metadata": {
    "collapsed": true,
    "deletable": true,
    "editable": true
   },
   "outputs": [],
   "source": [
    "a = [1,2,3]\n",
    "a.append(4)\n",
    "assert a == [1, 2, 3, 4]"
   ]
  },
  {
   "cell_type": "markdown",
   "metadata": {
    "deletable": true,
    "editable": true
   },
   "source": [
    "Sabiendo esto, y dado el siguiente programa, ¿Cuál será la\n",
    "salida? ¿y por qué?:"
   ]
  },
  {
   "cell_type": "code",
   "execution_count": 59,
   "metadata": {
    "collapsed": false,
    "deletable": true,
    "editable": true
   },
   "outputs": [
    {
     "name": "stdout",
     "output_type": "stream",
     "text": [
      "[1, ['a', 'b', 'extra'], 4]\n"
     ]
    }
   ],
   "source": [
    "q = ['a', 'b']\n",
    "p = [1, q, 4]\n",
    "q.append('extra')\n",
    "print(p)"
   ]
  },
  {
   "cell_type": "markdown",
   "metadata": {
    "deletable": true,
    "editable": true
   },
   "source": [
    "¿Qué operadores podemos usar con las listas? En primer lugar podemos\n",
    "compararlas con el operador `==`; las listas `a` y `b` son iguales si lo\n",
    "son entre si cada uno de los elementos de que las componen:"
   ]
  },
  {
   "cell_type": "code",
   "execution_count": 60,
   "metadata": {
    "collapsed": true,
    "deletable": true,
    "editable": true
   },
   "outputs": [],
   "source": [
    "a = [1, 2, 3]\n",
    "b = [1, 2, 3]\n",
    "assert a == b"
   ]
  },
  {
   "cell_type": "markdown",
   "metadata": {
    "deletable": true,
    "editable": true
   },
   "source": [
    "Las comparaciones (`<`, `<=`, `>`, `>=` y `!=`) se realizan\n",
    "comparando los elementos en orden, a la primera discrepancia, se\n",
    "devuelve el resultado correspondiente. Si no se encuentra ninguna\n",
    "discrepacia, se considera que ambas secuencias son iguales:"
   ]
  },
  {
   "cell_type": "code",
   "execution_count": 61,
   "metadata": {
    "collapsed": true,
    "deletable": true,
    "editable": true
   },
   "outputs": [],
   "source": [
    "a = [1, 2, 3]\n",
    "b = [1, 2, 4]\n",
    "assert not a > b\n",
    "assert a < b"
   ]
  },
  {
   "cell_type": "markdown",
   "metadata": {
    "deletable": true,
    "editable": true
   },
   "source": [
    "Si una secuencia resulta ser la parte inicial de la otra, se considera\n",
    "que la secuencia más corta es la más pequeña. Si los elementos a\n",
    "comparar son cadenas de texto, se compararán carácter a carácter. Es\n",
    "legal comparar objetos de diferentes tipos, pero el resultado puede\n",
    "que le sorprenda: Los tipos se ordenan por su nombre (en inglés, claro).\n",
    "Por lo tanto, una *string* siempre será menor que una *tupla*, una\n",
    "*lista* siempre sera menor que una *string*, etc...\n",
    "\n",
    "Tambien podemos sumar listas con el operador `+`:"
   ]
  },
  {
   "cell_type": "code",
   "execution_count": 62,
   "metadata": {
    "collapsed": true,
    "deletable": true,
    "editable": true
   },
   "outputs": [],
   "source": [
    "a = [1, 2, 3]\n",
    "b = [4, 5, 6]\n",
    "c = a + b\n",
    "assert c == [1, 2, 3, 4, 5, 6]"
   ]
  },
  {
   "cell_type": "markdown",
   "metadata": {
    "deletable": true,
    "editable": true
   },
   "source": [
    "Pero cuidado, el operador `+` siempre creará una nueva lista. Si queremos\n",
    "añadir una lista a la actual, sin crear una nueva, tenemos que usar\n",
    "una notación especial, `+=`:"
   ]
  },
  {
   "cell_type": "code",
   "execution_count": 63,
   "metadata": {
    "collapsed": true,
    "deletable": true,
    "editable": true
   },
   "outputs": [],
   "source": [
    "a = [1, 2, 3]\n",
    "a += [4, 5, 6]\n",
    "assert a == [1, 2, 3, 4, 5, 6]"
   ]
  },
  {
   "cell_type": "markdown",
   "metadata": {
    "deletable": true,
    "editable": true
   },
   "source": [
    "Aunque el resultado parezca el mismo, hay una sutil diferencia entre\n",
    "ampliar una lista o crear una nueva con el contenido ampliado, que\n",
    "puede causar  problemas relativamente complejos. Por ejemplo,\n",
    "supongamos de nuevo la lista `a`:"
   ]
  },
  {
   "cell_type": "code",
   "execution_count": 64,
   "metadata": {
    "collapsed": true,
    "deletable": true,
    "editable": true
   },
   "outputs": [],
   "source": [
    "a = [1,2,3]\n",
    "b = a  # a y b son la misma lista\n",
    "a += [4]\n",
    "assert b == [1, 2, 3, 4]\n",
    "# Es correcto, los cambios en a se reflejan en b, son la misma\n",
    "assert a is b\n",
    "a = a + [5]\n",
    "assert a == [1, 2, 3, 4, 5] # 'a' es una nueva lista\n",
    "assert b == [1, 2, 3, 4]    # 'b' sigue apuntado a la lista original\n",
    "assert a is not b"
   ]
  },
  {
   "cell_type": "markdown",
   "metadata": {
    "deletable": true,
    "editable": true
   },
   "source": [
    "Evidentemente, si la lista es muy larga, es mucho más eficiente añadir\n",
    "un elemento a la lista que crear una nueva lista de cero, con  el\n",
    "nuevo elemento añadido, más la sobrecarga de, probablemente, tener que\n",
    "liberar la memoria de las dos listas previas.\n",
    "\n",
    "Las listas definen también una serie de métodos, algunos de los cuales\n",
    "explicaremos brevemente aquí:"
   ]
  },
  {
   "cell_type": "markdown",
   "metadata": {
    "deletable": true,
    "editable": true
   },
   "source": [
    "### Métodos aplicables a las listas\n",
    "    \n",
    "- **`append(x)`**: Permite añadir el elemento x a la lista. En elemento se añade despues\n",
    "  de todos los elementos que hubiera, de forma que el nuevo elemento es el último.\n",
    "\n",
    "- **`count(x)`**: Devuelve el número de veces que aparece el parámetro `x` en la lista\n",
    "\n",
    "- **`extend(l)`**: Añade a la lista añade todos los elementos de la lista que se pasa como parámetro\n",
    "\n",
    "- **`index(x)`**: devuelve la posición del elemento `x` dentro de la lista. Si no lo puede encontrar, se producirá un error.\n",
    "\n",
    "- **`insert(pos, x)`**: Inserta el elemento `x` en la lista, de forma que ocupará la posición indicada por el parámetro `pos`.\n",
    "\n",
    "- **`pop([pos])`**: Extrae el elemento de la lista que ocupe la posición `pos`, y lo devuelve como resultado. Si no se especifica la posicioón, se extrae y devuelve el último. (Los corchetes `[` y `]` indican que el parámetro es opcional)\n",
    "\n",
    "- **`remove(x)`**: Elimina el elemento `x` de la lista. Eleva un error si `x` no estuviera en la misma.\n",
    "\n",
    "- **`reverse()`**: Invierte las posiciones de los elementos de la lista, de forma que el primero pasa a ser el último, sl segundo penúltimo, etc... Modifica la lista en si, no devuelve una nueva lista con el nuevo orden.\n",
    "\n",
    "- **`sort([cmp=None, key=None, reverse=False])`**: Ordena los elementos en la lista (los argumentos que se le pueden pasar, todos opcionales, se utilizan para ajustar la forma en que deseamos que se realiza la ordenación, y se explicarán mas adelante, cuando veamos la función `sorted`.\n",
    "\n",
    "Veamos un ejemplo en que usamos estos métodos:"
   ]
  },
  {
   "cell_type": "code",
   "execution_count": 65,
   "metadata": {
    "collapsed": true,
    "deletable": true,
    "editable": true
   },
   "outputs": [],
   "source": [
    "a = [66.25, 333, 333, 1, 1234.5]\n",
    "assert a.count(333) == 2 \n",
    "assert a.count(66.25) == 1 \n",
    "assert a.count('x') == 0\n",
    "a.insert(2, -1)\n",
    "a.append(333)\n",
    "assert a == [66.25, 333, -1, 333, 1, 1234.5, 333]\n",
    "assert a.index(333) == 1\n",
    "a.remove(333)\n",
    "assert a == [66.25, -1, 333, 1, 1234.5, 333]\n",
    "a.reverse()\n",
    "assert a == [333, 1234.5, 1, 333, -1, 66.25]\n",
    "a.sort()\n",
    "assert a == [-1, 1, 66.25, 333, 333, 1234.5]\n",
    "assert a.pop() == 1234.5\n",
    "assert a == [-1, 1, 66.25, 333, 333]"
   ]
  },
  {
   "cell_type": "markdown",
   "metadata": {
    "deletable": true,
    "editable": true
   },
   "source": [
    "### Implementando pilas y/o colas con listas \n",
    "\n",
    "Podemos usar una lista como una pila o *stack* (*LIFO: Last In, First Out*) usando\n",
    "solo los métodos `append()` y `pop()` para introducir o extraer datos.\n",
    "\n",
    "Podemos usar una lista como una cola o *queue* (*FIFO: First In, First Out*) si\n",
    "usamos solo `insert()` (con `index=0`) y `pop()`."
   ]
  },
  {
   "cell_type": "markdown",
   "metadata": {},
   "source": [
    "## Tuplas\n",
    "\n",
    "Hemos visto que las listas y los cadenas de texto tenian muchas cosas\n",
    "en comun, como el poder ser accedidas mediante índices y por rodajas.\n",
    "En realidad, hay más tipos de datos que comparten estas propiedades,\n",
    "todos ellos agrupados bajo el nombre genérico de **tipos de secuencias\n",
    "de datos**, como `bytes`, `bytearray` o el que nos ocupa ahora,\n",
    "tuplas (`tuple`). A medida que evoluciona Python, puede que se vayan\n",
    "añadiendo nuevos tipos de secuencia. De hecho, podemos escribir\n",
    "nuestros propios tipos de secuencia, tal y como veremos en la sección\n",
    "de programación orientada a objetos.\n",
    "\n",
    "Las tuplas son, por tanto, un tipo de secuencia de dato. Se pueden\n",
    "escribir simplemente con una lista de valores separados con comas, o\n",
    "bien encerrandolas entre  paréntesis. En general se recomienda, por\n",
    "claridad, incluir los paréntesis:"
   ]
  },
  {
   "cell_type": "code",
   "execution_count": 66,
   "metadata": {
    "collapsed": true
   },
   "outputs": [],
   "source": [
    "t = 12.5, 9560 + 23, 'hola'\n",
    "assert t[0] == 12.5 \n",
    "assert t[1] == 9583\n",
    "assert t[2] == 'hola'\n",
    "assert t == (12.5, 9560 + 23, 'hola')"
   ]
  },
  {
   "cell_type": "markdown",
   "metadata": {},
   "source": [
    "Todo lo dicho para las listas es aplicable para las tuplas, con una\n",
    "diferencia: las tuplas __no son mutables__. Igual que con las *strings*,\n",
    "podemos crear nuevas tuplas cortando y rebanando de otras, pero\n",
    "no podemos modificar una determinada tupla una vez creada. Obsérvese\n",
    "que, aunque las tuplas sean inmutables, si que pueden contener en su\n",
    "interior objetos mutables, como una lista.\n",
    "\n",
    "El interprete de python hace uso extensivo de las tuplas mediante un\n",
    "mecanismo llamada  **empaquetado/desempaquetado automático de\n",
    "tuplas**. Esto es azucar sintáctico que nos permite expresiones como::"
   ]
  },
  {
   "cell_type": "code",
   "execution_count": 67,
   "metadata": {
    "collapsed": false
   },
   "outputs": [
    {
     "name": "stdout",
     "output_type": "stream",
     "text": [
      "1 2 3\n"
     ]
    }
   ],
   "source": [
    "# Asignación múltiple\n",
    "a, b, c = 1, 2, 3\n",
    "print(a, b, c)"
   ]
  },
  {
   "cell_type": "markdown",
   "metadata": {},
   "source": [
    "O esta:"
   ]
  },
  {
   "cell_type": "code",
   "execution_count": 68,
   "metadata": {
    "collapsed": false
   },
   "outputs": [
    {
     "name": "stdout",
     "output_type": "stream",
     "text": [
      "7 -5\n"
     ]
    }
   ],
   "source": [
    "# Intercambio de valores\n",
    "a = -5 \n",
    "b = 7\n",
    "a, b = b, a\n",
    "print(a, b)"
   ]
  },
  {
   "cell_type": "markdown",
   "metadata": {},
   "source": [
    "Se plantea un problema con la construcción de tuplas vacias o con un\n",
    "único elemento: La sintaxis nos obliga a especificar una tupla vacia\n",
    "con `()`, lo cual parece bastante claro, pero para una  tupla con un\n",
    "solo elemento debe incluir obligatoriamente una coma (no es suficiente\n",
    "con encerrar un valor entre paréntesis). La sintaxis es fea, hay que\n",
    "reconocerlo, pero funciona:"
   ]
  },
  {
   "cell_type": "code",
   "execution_count": 69,
   "metadata": {
    "collapsed": false
   },
   "outputs": [],
   "source": [
    "vacia = ()\n",
    "singleton = ('hola',)    # <-- ojo a la coma\n",
    "assert len(vacia) == 0\n",
    "assert len(singleton) == 1 "
   ]
  },
  {
   "cell_type": "markdown",
   "metadata": {
    "collapsed": true,
    "deletable": true,
    "editable": true
   },
   "source": [
    "Notese que la función `len` también funciona con las tuplas, y con\n",
    "un resultado equivalente al que producía para listas y cadenas de\n",
    "texto. Compacto.\n",
    "\n",
    "También podemos comparar tuplas, siguiendo las mismas reglas que\n",
    "seguiamos para las listas. Las tuplas comparten métodos con las\n",
    "listas, pero no todos, ya que muchos no tienen sentido al ser las\n",
    "tuplas inmutables:\n",
    "\n",
    "- **count(valor) -> integer**\n",
    "\n",
    "  Devuelve el número de veces que aparece `valor` en la lista.\n",
    "\n",
    "\n",
    "- **index(valor, [inicio, [final]]) -> integer**\n",
    "\n",
    "  Retorna el índice de la primera aparición de `valor` en  la\n",
    "  lista; opcionalmente entre los límites indicados por\n",
    "  `inicio` y `final`. Si `valor` no se encuentra en la\n",
    "  lista, eleva una excepción de tipo `ValueError`."
   ]
  },
  {
   "cell_type": "markdown",
   "metadata": {},
   "source": [
    "Otra utilidad interesante que se deriva de las tuplas y el empaquetado y desempaquetado automático\n",
    "es la capacidad de devolver más de un resultado desde una función o método. Veámoslo\n",
    "con un ejemplo:"
   ]
  },
  {
   "cell_type": "code",
   "execution_count": 70,
   "metadata": {
    "collapsed": false
   },
   "outputs": [],
   "source": [
    "def divide(cociente, divisor):\n",
    "    return (\n",
    "        cociente // divisor,\n",
    "        cociente % divisor,\n",
    "        )\n",
    "\n",
    "resultado, resto = divide(75, 5)\n",
    "assert resultado == 15 and resto == 0\n",
    "resultado, resto = divide(27, 4)\n",
    "assert resultado == 6 and resto == 3"
   ]
  },
  {
   "cell_type": "markdown",
   "metadata": {},
   "source": [
    "## Conjuntos (sets)\n",
    "\n",
    "Los conjuntos son exactamente lo que su nombre indica: una\n",
    "implementación del concepto matemático de conjunto. Como tal, cumple con\n",
    "dos condiciones imprescindibles: sus elementos no mantienen ningún orden\n",
    "intrínseco, y no es posible que un elemento se repita dentro del\n",
    "conjunto. Las usos más habituales de los conjuntos son determinar si un\n",
    "objeto pertenece al conjunto o no, y eliminar duplicados.\n",
    "\n",
    "Podemos crear un conjunto con la función `set`; normalmente le\n",
    "pasaremos una lista de elementos o un iterable a partir de los cuales\n",
    "crear el  conjunto. Si hubiera duplicados en la lista, estos desaparecen\n",
    "en el conjunto. Para determinar si un valor pertenece a un conjunto\n",
    "podemos usar el operador `in`. La función `len`, como no podía ser\n",
    "de otra manera, también  funciona con conjuntos:"
   ]
  },
  {
   "cell_type": "code",
   "execution_count": 71,
   "metadata": {
    "collapsed": false
   },
   "outputs": [],
   "source": [
    "s = set(['a', 'e', 'i', 'o', 'u', 'a', 'e'])\n",
    "assert s == set(['a', 'i', 'e', 'u', 'o'])\n",
    "assert len(s) == 5\n",
    "assert 'a' in s\n",
    "assert 'f' not in s"
   ]
  },
  {
   "cell_type": "markdown",
   "metadata": {},
   "source": [
    "Con los conjuntos es posible hacer cualquier operación del [Algebra de\n",
    "Conjuntos](https://es.wikipedia.org/wiki/%C3%81lgebra_de_conjuntos): Unión, intersección, diferencia, complemento y (con un poco de ayuda) producto cartesiano:"
   ]
  },
  {
   "cell_type": "code",
   "execution_count": 72,
   "metadata": {
    "collapsed": false
   },
   "outputs": [],
   "source": [
    "a = set('PETER')\n",
    "assert a == set(['P', 'R', 'E', 'T'])\n",
    "b = set('PARKER')\n",
    "assert b == set(['A', 'P', 'K', 'R', 'E'])\n",
    "\n",
    "diferencia = a - b # Letras en PETER, pero no en PARKER\n",
    "assert diferencia == set(['T'])\n",
    "\n",
    "otra_diferencia = b - a # Letras en PARKER, pero no en PETER\n",
    "assert otra_diferencia == set(['A', 'K'])\n",
    "\n",
    "union = a | b # Letras en PETER o en PARKER (Unión)\n",
    "assert union == set(['A', 'E', 'K', 'P', 'R', 'T'])\n",
    "\n",
    "interseccion = a & b # Letras en PETER y en PARKER (Intersección)\n",
    "assert interseccion == set(['P', 'R', 'E'])\n",
    "\n",
    "complemento = a ^ b # Letras en PETER o en PARKER, pero no en los dos\n",
    "assert complemento == set(['A', 'T', 'K'])"
   ]
  },
  {
   "cell_type": "markdown",
   "metadata": {},
   "source": [
    "Para el producto tendremos que recurrir al módulo de la librería\n",
    "estándar `itertools` (Véremos los módulos más adelante):"
   ]
  },
  {
   "cell_type": "code",
   "execution_count": 73,
   "metadata": {
    "collapsed": false
   },
   "outputs": [
    {
     "name": "stdout",
     "output_type": "stream",
     "text": [
      "[('A', '1'), ('A', '2'), ('A', '3'), ('B', '1'), ('B', '2'), ('B', '3'), ('C', '1'), ('C', '2'), ('C', '3')]\n"
     ]
    }
   ],
   "source": [
    "import itertools\n",
    "a = set('ABC')\n",
    "b = set('123')\n",
    "p = set(itertools.product(a, b))\n",
    "print(sorted(p))"
   ]
  },
  {
   "cell_type": "markdown",
   "metadata": {},
   "source": [
    "Otros métodos  interesantes de los conjuntos son los\n",
    "siguientes:\n",
    "\n",
    "- **issubset(set) -> boolean**\n",
    "\n",
    "    Indica si el conjunto es un subconjunto de otro mayor, que\n",
    "    se pasa como parametro\n",
    "\n",
    "\n",
    "- **issuperset(set) -> boolean**\n",
    "\n",
    "    Indica si el el conjunto incluye al que\n",
    "    se le pasa como parámetro.\n",
    "\n",
    "\n",
    "- **isdisjoint(set) -> boolean**\n",
    "\n",
    "    Indica si el subconjunto no tienen ningún elemento en común\n",
    "    con el que se le pasa como parámetro."
   ]
  },
  {
   "cell_type": "code",
   "execution_count": null,
   "metadata": {
    "collapsed": true
   },
   "outputs": [],
   "source": []
  }
 ],
 "metadata": {
  "kernelspec": {
   "display_name": "Python 3",
   "language": "python",
   "name": "python3"
  },
  "language_info": {
   "codemirror_mode": {
    "name": "ipython",
    "version": 3
   },
   "file_extension": ".py",
   "mimetype": "text/x-python",
   "name": "python",
   "nbconvert_exporter": "python",
   "pygments_lexer": "ipython3",
   "version": "3.5.2"
  }
 },
 "nbformat": 4,
 "nbformat_minor": 2
}
