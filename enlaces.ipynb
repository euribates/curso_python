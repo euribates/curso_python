{
 "cells": [
  {
   "cell_type": "markdown",
   "metadata": {},
   "source": [
    "# Enlaces de interés"
   ]
  },
  {
   "cell_type": "markdown",
   "metadata": {},
   "source": [
    "## Aprender Python\n",
    "\n",
    "### Learn Python - Free Interactive Python Tutorial\n",
    "\n",
    "> _LearnPython.org is a free interactive Python tutorial\n",
    "> for people who want to learn Python, fast_.\n",
    "> Tiene la ventaja de que no hay que instalar nada,\n",
    "> es interactivo sobre la propia página web\n",
    "\n",
    "https://www.learnpython.org/\n",
    "\n",
    "### Codecademy Learn Python\n",
    "\n",
    "> _Codecademy is the easiest way to learn how to code. \n",
    "> It's interactive, fun, and you can do it with your friends_.\n",
    "> Desgraciadamente, está todavía en Python 2.7.\n",
    "\n",
    "https://www.codecademy.com/learn/learn-python\n",
    "\n",
    "### Curso Maestro de Python 3\n",
    "\n",
    "> _Aprende a programar con clases y objetos, a usar ficheros y bases de datos SQLite, interfaces gráficas y más con Python!_\n",
    "> Se trata de un curso en `Udemy`, que, habitualmente, ofrece descuentos importantes.\n",
    "\n",
    "https://www.udemy.com/python-3-al-completo-desde-cero/\n",
    "\n",
    "### Introducción a la programación en Python\n",
    "\n",
    "> _Este curso te introduce en el mundo de la programación en el lenguaje Python. De una forma práctica, aprenderás de forma gradual_\n",
    "> Se trata de un curso en `Coursera`.\n",
    "\n",
    "https://www.coursera.org/learn/aprendiendo-programar-python"
   ]
  },
  {
   "cell_type": "markdown",
   "metadata": {},
   "source": [
    "## Aprender Django\n",
    "\n",
    "### Tutorial de Django Girls\n",
    "\n",
    "> Cuando termines el tutorial, tendrás una aplicación\n",
    ">  web simple y funcional: tu propio blog.\n",
    "> Muy recomendable. Seguramente el mejor tutorial\n",
    "> para empezar con Django en español.\n",
    "\n",
    "<https://tutorial.djangogirls.org/es/>"
   ]
  },
  {
   "cell_type": "code",
   "execution_count": null,
   "metadata": {},
   "outputs": [],
   "source": []
  }
 ],
 "metadata": {
  "kernelspec": {
   "display_name": "Python 3",
   "language": "python",
   "name": "python3"
  },
  "language_info": {
   "codemirror_mode": {
    "name": "ipython",
    "version": 3
   },
   "file_extension": ".py",
   "mimetype": "text/x-python",
   "name": "python",
   "nbconvert_exporter": "python",
   "pygments_lexer": "ipython3",
   "version": "3.6.1"
  }
 },
 "nbformat": 4,
 "nbformat_minor": 2
}
