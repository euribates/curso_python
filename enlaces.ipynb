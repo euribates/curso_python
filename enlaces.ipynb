{
 "cells": [
  {
   "cell_type": "markdown",
   "metadata": {},
   "source": [
    "# Enlaces de interes"
   ]
  },
  {
   "cell_type": "markdown",
   "metadata": {},
   "source": [
    "## Aprender Python\n",
    "\n",
    "### Learn Python - Free Interactive Python Tutorial\n",
    "\n",
    "> _LearnPython.org is a free interactive Python tutorial\n",
    "> for people who want to learn Python, fast_.\n",
    "> Tiene la ventaja de que no hay que instalar nada,\n",
    "> es interactivo sobre la propia página web\n",
    "\n",
    "<https://www.learnpython.org/>\n",
    "\n",
    "### Codecademy Learn Pthon\n",
    "\n",
    "> _Codecademy is the easiest way to learn how to code. \n",
    "> It's interactive, fun, and you can do it with your friends_.\n",
    "> Desgraciadamente, está todavía en Python 2.7.\n",
    "\n",
    "<https://www.codecademy.com/learn/learn-python>"
   ]
  },
  {
   "cell_type": "markdown",
   "metadata": {},
   "source": [
    "## Aprender Django\n",
    "\n",
    "### Tutorial de Django Girls\n",
    "\n",
    "> Cuando termines el tutorial, tendrás una aplicación\n",
    ">  web simple y funcional: tu propio blog\n",
    "> Muy recomendable, seguramente el mejor tutorial\n",
    "> para empezar con Django en español\n",
    "\n",
    "<https://tutorial.djangogirls.org/es/>"
   ]
  }
 ],
 "metadata": {
  "kernelspec": {
   "display_name": "Python 3",
   "language": "python",
   "name": "python3"
  },
  "language_info": {
   "codemirror_mode": {
    "name": "ipython",
    "version": 3
   },
   "file_extension": ".py",
   "mimetype": "text/x-python",
   "name": "python",
   "nbconvert_exporter": "python",
   "pygments_lexer": "ipython3",
   "version": "3.5.2"
  }
 },
 "nbformat": 4,
 "nbformat_minor": 2
}
