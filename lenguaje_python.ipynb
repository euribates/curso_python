{
 "cells": [
  {
   "cell_type": "markdown",
   "metadata": {
    "deletable": true,
    "editable": true
   },
   "source": [
    "## El lenguaje Python"
   ]
  },
  {
   "cell_type": "markdown",
   "metadata": {
    "deletable": true,
    "editable": true
   },
   "source": [
    "\n",
    "## Variables\n",
    "\n",
    "En Python los tipos de las variables no se declaran. El interprete infiere el tipo de la variabla a partir\n",
    "del valor asignado. Esto no siginifica que sea un lenguaje debilmente tipado; es fuertemente tipado, porque\n",
    "no es posible, por ejemplo, sumar un entero con una cadena de texto, sin hacer una conversión explícita.\n",
    "\n",
    "Los nombres de variables deben empezar con un caracter no numérico, el resto pueden ser letras, números y el caracter _ \n",
    "Se consideran distintas las mayúsculas de las minúsculas, así que el nombre ``a`` es diferente de ``A``\n",
    "Existen una serie de palabras reservadas por python, que no se pueden usar como nombres:\n",
    "    \n",
    "    and                 elif                if                  print\n",
    "    as                  else                import              raise\n",
    "    assert              except              in                  return\n",
    "    break               exec                is                  try\n",
    "    class               finally             lambda              while\n",
    "    continue            for                 not                 with\n",
    "    def                 from                or                  yield\n",
    "    del                 global              pass\n",
    "\n",
    "Además, hay ciertas variables y funciones *mágicas* usadas por python\n",
    "y que tienen significados especiales, estas son facilmente\n",
    "reconocibles porque siempre empiezan con dos caracteres ``_`` y\n",
    "terminan igualmente por dos caracteres ``_``. Ejemplos de estas\n",
    "variables son ``__name__``, ``__doc__`` e ``__init__``.\n",
    "\n",
    "Tambián hay ciertos términos que, aun no siendo palabras reservadas, no\n",
    "deberiamos utilizar, ya que son funciones utilizadas por python y, aunque\n",
    "es posible redefinirlas, normalmente es un error. POr ejemplo ``list``\n",
    "es una función que nos devuelve una lista de elementos a partir de un\n",
    "iterador (vveremos todos estos términos más adelante), ``id`` es una función\n",
    "que nos devuelve un identificador unico de cada variable (En la implementación estandar,\n",
    "la dirección de memoría). Si usamos ``id``, por ejemplo, como nombre de variable, ya no \n",
    "podemos acceder a la función original:"
   ]
  },
  {
   "cell_type": "code",
   "execution_count": 1,
   "metadata": {
    "collapsed": false,
    "deletable": true,
    "editable": true
   },
   "outputs": [
    {
     "name": "stdout",
     "output_type": "stream",
     "text": [
      "10911232\n"
     ]
    }
   ],
   "source": [
    "a = 3\n",
    "print(id(a))"
   ]
  },
  {
   "cell_type": "code",
   "execution_count": 2,
   "metadata": {
    "collapsed": false,
    "deletable": true,
    "editable": true
   },
   "outputs": [
    {
     "ename": "TypeError",
     "evalue": "'int' object is not callable",
     "output_type": "error",
     "traceback": [
      "\u001b[0;31m---------------------------------------------------------------------------\u001b[0m",
      "\u001b[0;31mTypeError\u001b[0m                                 Traceback (most recent call last)",
      "\u001b[0;32m<ipython-input-2-e8eaab4656ca>\u001b[0m in \u001b[0;36m<module>\u001b[0;34m()\u001b[0m\n\u001b[1;32m      1\u001b[0m \u001b[0mold_id\u001b[0m \u001b[0;34m=\u001b[0m \u001b[0mid\u001b[0m\u001b[0;34m\u001b[0m\u001b[0m\n\u001b[1;32m      2\u001b[0m \u001b[0mid\u001b[0m \u001b[0;34m=\u001b[0m \u001b[0;36m3\u001b[0m\u001b[0;34m\u001b[0m\u001b[0m\n\u001b[0;32m----> 3\u001b[0;31m \u001b[0mprint\u001b[0m\u001b[0;34m(\u001b[0m\u001b[0mid\u001b[0m\u001b[0;34m(\u001b[0m\u001b[0ma\u001b[0m\u001b[0;34m)\u001b[0m\u001b[0;34m)\u001b[0m\u001b[0;34m\u001b[0m\u001b[0m\n\u001b[0m",
      "\u001b[0;31mTypeError\u001b[0m: 'int' object is not callable"
     ]
    }
   ],
   "source": [
    "old_id = id\n",
    "id = 3\n",
    "print(id(a))"
   ]
  },
  {
   "cell_type": "code",
   "execution_count": 4,
   "metadata": {
    "collapsed": false,
    "deletable": true,
    "editable": true
   },
   "outputs": [],
   "source": [
    "id = old_id"
   ]
  },
  {
   "cell_type": "markdown",
   "metadata": {
    "deletable": true,
    "editable": true
   },
   "source": [
    "En python3 está permitido usar no solo los caracteres ascii, sino tambien caracteres unicode. Esto nos\n",
    "permite definir, por ejemplo, funciones usando letras acentuadas o la ñ:"
   ]
  },
  {
   "cell_type": "code",
   "execution_count": 3,
   "metadata": {
    "collapsed": false,
    "deletable": true,
    "editable": true
   },
   "outputs": [
    {
     "name": "stdout",
     "output_type": "stream",
     "text": [
      "23\n",
      "65857943326069032500078069703484005714710525586098913111675014274060858917063855792866027509268534500751898865005869675417425653724527475452797436514156664600236766467691066471192407003117551735885180939682414121293803153072386803533216764978071443746916577727719572946273649783082722711300204709821837662881082151011721061555744703763051928871357104988903156788610529077105599229492812616449884339348216087187414076870479737212465813293673137411568837832913027953102589393087871002248375301341459362889926203911895746726450138336215242650842858816045410998187322601023244640519878664990722833306512845602598101043295657522010684891044044510287737484924595515317474602381812366127090954513369622963592066262717935863486874817888346098605398916637189462095345405534892236069771006834737474968590019608167623421897725699375943336229750109152289804260417245090648081063944591382368655398856353970914370777929662821972107221871480801961393420655217402463102142140203499297515979403014694249070262590496474858933844016786283687153313862888017329521813142975167625428777046651517396302971633827163187331412795883965037756190882166631124642810652982267137463445952565460591740487916806265578688750323112942576675401613738228205304286182183706365874443478793881533187057954480274070416190872571677346876253341369010726896280500958539424600563171360348619683681116472735547061448124760265064599667427669104462734136288388846222566340384809519357988217639065692828381592337399899547369533423213904864604366704168806858727897285581611387234553059746233048494486861133768578803934959852201572582634229920735351058760739810147003118457653263417095234832678820276633632776792081534631796348589783195665604138491411163808998967783202435680044775832198388511284980144892129704980996434190208747687246266935779371885874562392580163633341768296143192866133166398168394285107852204720782717097452157209755151886625668846874799199201247122100993069069570358697678434374556915377299771531471407207863386868474738328545538610829679735643229992698830106631072062478317087201619408090743328776206913167499082953950231331713168016722115551174492174859146488431334658500889237693182144323228736281306024128720514271292215189156677995664056474801805310916555038375205808448727658967989576261258414809302453991308143705336087244885927910483597480772188197182374278943272362091820949040100142473478209639230297324469055307909245060427319861855594094660940707846319583712062929393552784534397224650868854864143188354723971455265381532627919069888747223622034156094942331922027052362608068788365525407378616204584162855668878070199130719889155220986474206097229254747015730532860879154065952618575418924039492733456951858384735585580267904311513740264031340732250514717404448047579601252824141498961200334056523909447681\n"
     ]
    }
   ],
   "source": [
    "éxito = 23\n",
    "print(éxito)\n",
    "\n",
    "def mogollón(x):\n",
    "    return x**2048\n",
    "\n",
    "print(mogollón(éxito))"
   ]
  },
  {
   "cell_type": "markdown",
   "metadata": {
    "deletable": true,
    "editable": true
   },
   "source": [
    "Yo creo que esta opción es tremendamente peligrosa, y recomendaria limitar los nombres de las variables a los\n",
    "caracteres básicos ascii, números y al caracter subrayado. La única excepcion que se me ocurre es\n",
    "usar letras griegas para determinadas constantes de uso común, para aumentar la legibilidad del código:"
   ]
  },
  {
   "cell_type": "code",
   "execution_count": 5,
   "metadata": {
    "collapsed": false,
    "deletable": true,
    "editable": true
   },
   "outputs": [
    {
     "name": "stdout",
     "output_type": "stream",
     "text": [
      "78.53981633974483\n"
     ]
    }
   ],
   "source": [
    "import math\n",
    "π = math.pi\n",
    "\n",
    "def area(r):\n",
    "    return π * r**2\n",
    "\n",
    "print(area(5))"
   ]
  },
  {
   "cell_type": "markdown",
   "metadata": {
    "deletable": true,
    "editable": true
   },
   "source": [
    "## Tipos de datos simples\n",
    "\n",
    "En Python hay tres tipos de datos básicos: Textos, números, y valores\n",
    "lógicos (Verdadero/Falso). Pero cada tipo básico es posible que se\n",
    "represente usando diferentes clases, por razones que veremos más\n",
    "adelante. \n",
    "\n",
    "Una definición de tipo podría ser el conjunto de todos los posibles\n",
    "valores que se pueden almacenar usando dichos tipo, así como los operadores que\n",
    "pueden ser usados con esos valores."
   ]
  },
  {
   "cell_type": "markdown",
   "metadata": {
    "deletable": true,
    "editable": true
   },
   "source": [
    "### Números (int, long, float, decimal, complex)\n",
    "\n",
    "En python, existen varias tipos de números. Cada uno de ellos almacena los\n",
    "valores de forma distinta, pero comparten el mismo conjunto de operadores, que\n",
    "es el que podemos esperar de cualquier numero:\n",
    "\n",
    "\n",
    "| Operador | Significado         | Ejemplo                             |\n",
    "|----------|---------------------|-------------------------------------|\n",
    "| +        |suma                 | 12 + 23 -> 35                       | \n",
    "| -        |resta                | 12 - 6 -> 6                         |\n",
    "| /        |división             | 7 / 2 -> 3.5 (o 3 en Python 2.x)    |\n",
    "| //       |division entera      | 7 / 2 -> 3                          |\n",
    "| %        |módulo               | 7 % 2 -> 1                          |\n",
    "| *        |multiplicación       | 2 * 10 -> 20                        |\n",
    "| **       |exponenciación       | 2 ** 10 <> 1024                     |\n",
    "| &        |AND a nivel de bits  | 26 & 1314 -> 2 (Solo para enteros)  |\n",
    "| &#124;   |OR a nivel de bits   | 1 &#124; 2 -> 3 (Solo para enteros) |\n",
    "| ^        |XOR a nivel de bits  | 3 ^ 5 -> 6 (Solo para enteros)      |\n",
    "\n",
    "\n",
    "Tenemos los **números enteros**, que se corresponden con los números\n",
    "naturales, positivos y negativos. Una ventaja de Python sobre otros\n",
    "lenguajes es que no hay límite para el tamaño de los números enteros\n",
    "que podemos usar. Mejor dicho, el límite es la memoria RAM de la que\n",
    "dispongamos. Por ejemplo::"
   ]
  },
  {
   "cell_type": "code",
   "execution_count": 6,
   "metadata": {
    "collapsed": false,
    "deletable": true,
    "editable": true,
    "scrolled": true
   },
   "outputs": [
    {
     "data": {
      "text/plain": [
       "179769313486231590772930519078902473361797697894230657273430081157732675805500963132708477322407536021120113879871393357658789768814416622492847430639474124377767893424865485276302219601246094119453082952085005768838150682342462881473913110540827237163350510684586298239947245938479716304835356329624224137216"
      ]
     },
     "execution_count": 6,
     "metadata": {},
     "output_type": "execute_result"
    }
   ],
   "source": [
    "2**1024\n",
    "    "
   ]
  },
  {
   "cell_type": "markdown",
   "metadata": {
    "deletable": true,
    "editable": true
   },
   "source": [
    "Para crear una variable entera, como ya dijimos, solo hay que asignarle un valor\n",
    "que sea entero::"
   ]
  },
  {
   "cell_type": "code",
   "execution_count": null,
   "metadata": {
    "collapsed": true,
    "deletable": true,
    "editable": true
   },
   "outputs": [],
   "source": [
    "a = 23"
   ]
  },
  {
   "cell_type": "markdown",
   "metadata": {
    "deletable": true,
    "editable": true
   },
   "source": [
    "Ya que estamos, un valor se puede asignar a varias variables en una\n",
    "sola línea:"
   ]
  },
  {
   "cell_type": "code",
   "execution_count": null,
   "metadata": {
    "collapsed": false,
    "deletable": true,
    "editable": true
   },
   "outputs": [],
   "source": [
    "a = b = c = d = 99\n",
    "print(a, b, c, d)"
   ]
  },
  {
   "cell_type": "markdown",
   "metadata": {
    "deletable": true,
    "editable": true
   },
   "source": [
    "**Nota**: En python 2.7, había dos clases de enteros: la clase ``Int`` y la\n",
    "clase ``Long``, y  la conversión entre ambos tipos era automática. En \n",
    "python 3.0 hay un solo tipo. Es otro de los cambios\n",
    "introducidos para limpiar el polvo acumulado de los que hablaba\n",
    "antes.\n",
    "\n",
    "#### Números en coma flotante\n",
    "\n",
    "Además de los enteros, tenemos también los **números reales** o en coma\n",
    "flotante, que en Python se corresponden con el tipo ``float``.  Para\n",
    "crear un numero en coma flotante solo tenemos que iniciar la variable\n",
    "con un valor que incluya el punto decimal, o usar la notación\n",
    "cientifica ``<coeficiente>e<exponente>``. Por  ejemplo, todas las\n",
    "líneas siguientes crean variables en coma flotante::"
   ]
  },
  {
   "cell_type": "code",
   "execution_count": null,
   "metadata": {
    "collapsed": false,
    "deletable": true,
    "editable": true
   },
   "outputs": [],
   "source": [
    "a = 23.0\n",
    "b = 3.141592653589793\n",
    "c = .23\n",
    "d = 1e-3\n",
    "print(a, b, c, d)"
   ]
  },
  {
   "cell_type": "markdown",
   "metadata": {
    "deletable": true,
    "editable": true
   },
   "source": [
    "Los nímeros en coma flotante son animales extraños. Abramos una terminal \n",
    "de python y probemos el siguiente código, pero\n",
    "antes de ejecutarlo, ¿Cuál creen que será el resultado, ``True`` o\n",
    "``False``? (El operador de igualdad es ``==``, lo veremos con más detalle en la siguiente sección)"
   ]
  },
  {
   "cell_type": "code",
   "execution_count": null,
   "metadata": {
    "collapsed": false,
    "deletable": true,
    "editable": true
   },
   "outputs": [],
   "source": [
    "a = 0.1+0.1+0.1+0.1+0.1+0.1+0.1+0.1+0.1+0.1\n",
    "b = 1.0\n",
    "a == b"
   ]
  },
  {
   "cell_type": "markdown",
   "metadata": {
    "deletable": true,
    "editable": true
   },
   "source": [
    "![What the Fuck](img/wat.png)"
   ]
  },
  {
   "cell_type": "markdown",
   "metadata": {
    "deletable": true,
    "editable": true
   },
   "source": [
    "**Nota**: La implementación de float en Python. Python está escrito \n",
    "en C, e implemente los ``float`` con el tipo\n",
    "``double`` o de doble precisión de C, es decir que los ``float``\n",
    "utilizan 64 bits, siguiendo el estándar IEEE 754 para ese tamaño:\n",
    "1 bit para signo, 11 para el exponente, y 52 para el coeficiente.\n",
    "Esto significa que los valores que podemos representar van desde\n",
    "±2,2250738585072020x10\\ :sup:``-308`` hasta\n",
    "±1,7976931348623157×10\\ :sup:``308``.\n",
    "\n",
    "Python, como la mayoría de los lenguajes, utiliza el estándar de la IEEE para\n",
    "aritmética en coma flotante (``IEEE 754``_). Con esta representación, algunos\n",
    "números no se pueden representar de forma exacta. Pasa lo mismo con la notación\n",
    "decimal: podemos representar con exactitud 1/4 como 0.25, pero 1/3 es\n",
    "0.33333333333333... y así hasta el infinito. Como tenemos un espacio de memoria\n",
    "máximo para almacenar el número, esto implica que algunos de estos números se\n",
    "almacenarán con un error. Un error infinitesimal, pero error a fin de cuentas.\n",
    "\n",
    "El problema de estos errores viene cuando empezamos a acumular valores y, por\n",
    "tanto, a acumular errores. El valor 0.1 es uno de esos valores que no tiene\n",
    "representación exacta en IEEE 754, así que las repetidas sumas van acumulando\n",
    "el error. Si queremos saber el valor exacto del mismo podemos hacer::"
   ]
  },
  {
   "cell_type": "code",
   "execution_count": null,
   "metadata": {
    "collapsed": false,
    "deletable": true,
    "editable": true
   },
   "outputs": [],
   "source": [
    "a = 0.1+0.1+0.1+0.1+0.1+0.1+0.1+0.1+0.1+0.1\n",
    "b = 1.0\n",
    "a - b"
   ]
  },
  {
   "cell_type": "markdown",
   "metadata": {
    "deletable": true,
    "editable": true
   },
   "source": [
    "Un valor insignificante, pero aun así suficiente para que los dos valores no\n",
    "sean iguales (1.0 si tiene representación exacta en IEEE 754).\n",
    "\n",
    "Normalmente estos problemas se resuelven redondeando hasta la exactitud que\n",
    "necesitemos (por lo general muy por encima de 0.0000000000000001), pero Python\n",
    "introduce tambien un tipo de numero especial, **Decimal**, pensado\n",
    "especialmente para los calculos con un tamaño fijo decimal. Normalmente\n",
    "los que usaremos para guardar información monetaria. Para\n",
    "poder usar estos números tenemos que hacer una operación especial antes, una\n",
    "**importación** de un módulo, que nos permite usarlos. La orden que realiza\n",
    "esta importación en  concreto es::"
   ]
  },
  {
   "cell_type": "code",
   "execution_count": null,
   "metadata": {
    "collapsed": true,
    "deletable": true,
    "editable": true
   },
   "outputs": [],
   "source": [
    "from decimal import Decimal"
   ]
  },
  {
   "cell_type": "markdown",
   "metadata": {
    "deletable": true,
    "editable": true
   },
   "source": [
    "Usando numeros decimales no incurrimos en ningún error de este tipo; hagamos\n",
    "la prueba anterior, pero ahora con números decimales::"
   ]
  },
  {
   "cell_type": "code",
   "execution_count": null,
   "metadata": {
    "collapsed": false,
    "deletable": true,
    "editable": true
   },
   "outputs": [],
   "source": [
    "from decimal import Decimal\n",
    "a = Decimal('0.1')+Decimal('0.1')+Decimal('0.1')+Decimal('0.1') \\\n",
    "  + Decimal('0.1')+Decimal('0.1')+Decimal('0.1')+Decimal('0.1') \\\n",
    "  + Decimal('0.1')+Decimal('0.1')\n",
    "b = Decimal('1.0')\n",
    "a == b"
   ]
  },
  {
   "cell_type": "markdown",
   "metadata": {
    "deletable": true,
    "editable": true
   },
   "source": [
    "**Nota**: Obsérvese el uso de la barra invertida para continuar la línea\n",
    "\n",
    "Como curiosidad, comentar que, en modo interactivo, se crea una variable\n",
    "\"mágica\", ``_``, que siempre contiene el resultado de la última expresion\n",
    "evaluada. Cuando usamos el interprete como calculadora, puede ser muy cómodo\n",
    "tener ese valor::"
   ]
  },
  {
   "cell_type": "markdown",
   "metadata": {
    "deletable": true,
    "editable": true
   },
   "source": [
    "Por último, Python incorpora también **números imaginarios** o **complejos**.\n",
    "Los números imaginarios se declaran añadiendo el sufijo ``j`` o ``J`` a la\n",
    "parte imaginaria. Para definir un número con parte real e imaginaria se usa la\n",
    "sintaxis (real+imagj), o bien los podemos crear usando la  función\n",
    "``complex(real, imag)``::"
   ]
  },
  {
   "cell_type": "code",
   "execution_count": null,
   "metadata": {
    "collapsed": false,
    "deletable": true,
    "editable": true
   },
   "outputs": [],
   "source": [
    "a = (3+4j)\n",
    "type(a)"
   ]
  },
  {
   "cell_type": "markdown",
   "metadata": {
    "deletable": true,
    "editable": true
   },
   "source": [
    "La función ``type`` es muy util, le pasamos entre parentesis una variable y nos\n",
    "dice el tipo al que pertenece.\n",
    "\n",
    "Se pueden extraer las partes reales e imaginarias de un número complejo ``z``\n",
    "usando ``z.real`` y ``z.imag``. La función ``abs(z)`` nos daría su magnitud::"
   ]
  },
  {
   "cell_type": "code",
   "execution_count": null,
   "metadata": {
    "collapsed": false,
    "deletable": true,
    "editable": true
   },
   "outputs": [],
   "source": [
    "z = (3+4j)\n",
    "print(z.real, z.imag, abs(z))"
   ]
  },
  {
   "cell_type": "markdown",
   "metadata": {
    "deletable": true,
    "editable": true
   },
   "source": [
    "### Logicos (bool)\n",
    "\n",
    "Los valores lógicos o *booleanos* son llamados así en honor a [George\n",
    "Bool](http://en.wikipedia.org/wiki/George_Boole), inventor de la lógica \n",
    "booleana. Las variables booleanas solo\n",
    "pueden tener dos valores posibles: `True` (Verdadero) o `False`\n",
    "(Falso). Los operadores que trabajan con estos valores son `and`, `or`\n",
    "y `not`.\n",
    "\n",
    "**Nota**: A nivel interno, los booleanos se implementan como un subconjunto\n",
    "de los enteros, solo con los valores 1 y 0, siendo 0 equivalente a `False`\n",
    "y 1 equivalente a `True`\n",
    "\n",
    "Los valores lógicos se utilizan sobre todo en condicionales. Cuando\n",
    "realizamos una comparación con uno de los operadores ``<``, ``<=``,\n",
    "``>``, ``>=``, ``==``, ``!=`` o ``<>``, el resultado de la operación\n",
    "es un booleano. Si abrimos la shell de python y probamos a escribir\n",
    "simplemente::"
   ]
  },
  {
   "cell_type": "code",
   "execution_count": null,
   "metadata": {
    "collapsed": false,
    "deletable": true,
    "editable": true
   },
   "outputs": [],
   "source": [
    "7 > 2"
   ]
  },
  {
   "cell_type": "code",
   "execution_count": null,
   "metadata": {
    "collapsed": false,
    "deletable": true,
    "editable": true
   },
   "outputs": [],
   "source": [
    "2 <= -23"
   ]
  },
  {
   "cell_type": "code",
   "execution_count": null,
   "metadata": {
    "collapsed": false,
    "deletable": true,
    "editable": true
   },
   "outputs": [],
   "source": [
    "3 == 3"
   ]
  },
  {
   "cell_type": "code",
   "execution_count": null,
   "metadata": {
    "collapsed": false,
    "deletable": true,
    "editable": true
   },
   "outputs": [],
   "source": [
    "1 < 7 < 22"
   ]
  },
  {
   "cell_type": "markdown",
   "metadata": {
    "deletable": true,
    "editable": true
   },
   "source": [
    "Existe una función `bool` que intenta convertir cualquier valor que se\n",
    "le pase a un valor booleano, siguiendo ciertas reglas, que se resumen\n",
    "en: la constante `None`, el número cero y las estructuras de datos\n",
    "vacíos se considera `False`. Cualquier otra\n",
    "cosa se considera True."
   ]
  },
  {
   "cell_type": "code",
   "execution_count": null,
   "metadata": {
    "collapsed": false,
    "deletable": true,
    "editable": true
   },
   "outputs": [],
   "source": [
    "bool('')"
   ]
  },
  {
   "cell_type": "markdown",
   "metadata": {
    "deletable": true,
    "editable": true
   },
   "source": [
    "### Cadenas de Textos (string y unicode)\n",
    "\n",
    "En Python las variables de texto se pueden expresar como literales usando\n",
    "**comilla simples** o **dobles**, indistintamente. Si tenenos la necesidad de incluir\n",
    "en el texto las propias comillas (simples o dobles, según corresponda) podemos\n",
    "hacerlo precediendo (En jerga de programadores, \"escapando\") a la comilla con\n",
    "el caracter ``\\`` (barra invertida). Si el texto ocupa  varias líneas o\n",
    "queremos despreocuparnos de tener que escapar las comillas simples o dobles\n",
    "dentro del texto, podemos usar como delimitadores **tres comillas simples**\n",
    "o **tres comillas dobles**. Por ejemplo, las siguientes declaraciones de\n",
    "variables tipo ``String`` son todas válidas:"
   ]
  },
  {
   "cell_type": "code",
   "execution_count": null,
   "metadata": {
    "collapsed": true,
    "deletable": true,
    "editable": true
   },
   "outputs": [],
   "source": [
    "a = 'Hola, mundo'\n",
    "b = 'It\\'s seven o\\'clock in the morning'\n",
    "c = \"It's seventeen o'clock in the morning\"\n",
    "d = \"He said: \\\"Luke, I'm your father\\\"\"\n",
    "e = 'He said: \"Luke, I\\'m your father\"'\n",
    "f = '''He said: \"Frankly, my dear, I don't give a damn.\"'''\n",
    "g = \"\"\"He said: \"Frankly, my dear, I don't give a damn.\"\"\"\n",
    "h = '''Vader: Obi-Wan never told you what happened to your father.\n",
    "Luke: He told me enough! He told me YOU killed him.\n",
    "Vader: No, I am your father.\n",
    "Luke: NOOOOOOOOOOOOOOOOOOOooooo!!\n",
    "'''"
   ]
  },
  {
   "cell_type": "markdown",
   "metadata": {
    "deletable": true,
    "editable": true
   },
   "source": [
    "**Nota**: En Python 2.7 y anteriores, se anteponía una ``u`` antes del delimitador del\n",
    "literal para indicar texto unicode::\n",
    "\n",
    "    >>> # solo en python 2.7\n",
    "    >>> a = u'Cadena de texto unicode'\n",
    "    >>>\n",
    "\n",
    "En Python 3.x, todas los literal son unicode por defecto, así que ya no tiene\n",
    "sentido esta notación; al contrario, tendremos que indicar cuando no es\n",
    "unicode, sino una string de texto codificado o códigos binarios, anteponiendo\n",
    "una ``b``::\n",
    "\n",
    "    >>> solo en python 3.x\n",
    "    >>> a = b'Cadena de texto codificada. ¿Pero... con qué coded?'\n",
    "    >>>\n",
    "\n",
    "Las operaciones que podemos hacer con las cadenas son muy variadas. Pueden\n",
    "ser unidas o concatenadas, con el operador ``+``, y repetidas con ``*``::"
   ]
  },
  {
   "cell_type": "code",
   "execution_count": null,
   "metadata": {
    "collapsed": false,
    "deletable": true,
    "editable": true
   },
   "outputs": [],
   "source": [
    "saludo = \"Hola,\" + \"Mundo\"\n",
    "print(saludo)"
   ]
  },
  {
   "cell_type": "code",
   "execution_count": null,
   "metadata": {
    "collapsed": false,
    "deletable": true,
    "editable": true
   },
   "outputs": [],
   "source": [
    "linea = \"-\" * 22\n",
    "print(linea)"
   ]
  },
  {
   "cell_type": "markdown",
   "metadata": {
    "deletable": true,
    "editable": true
   },
   "source": [
    "La función predeterminada `len` nos devuelve la longitud de\n",
    "una cadena, es decir, el número de caracteres::"
   ]
  },
  {
   "cell_type": "code",
   "execution_count": null,
   "metadata": {
    "collapsed": false,
    "deletable": true,
    "editable": true
   },
   "outputs": [],
   "source": [
    "print(len('Hola, mundo'))"
   ]
  },
  {
   "cell_type": "markdown",
   "metadata": {
    "deletable": true,
    "editable": true
   },
   "source": [
    "Las cadenas de texto permiten que se acceda a su contenido mediante índices,\n",
    "siendo el `0` la primera letra. Piensese en el índice no como una\n",
    "posición, sino como \"El número de caracteres que hay antes del que\n",
    "me interesa\". Ĺa forma de acceder es indicando el índice entre corchetes,\n",
    "después de la variable o string. Si usamos índices negativos, entonces la\n",
    "cuenta empieza desde la derecha, o sea, desde el final de la string:"
   ]
  },
  {
   "cell_type": "code",
   "execution_count": null,
   "metadata": {
    "collapsed": true,
    "deletable": true,
    "editable": true
   },
   "outputs": [],
   "source": [
    "s = 'Con cien cañones por banda,'\n",
    "assert s[0] == 'C'\n",
    "assert s[5] == 'i'\n",
    "assert s[-1] == ','\n",
    "assert s[0] != s[-1]"
   ]
  },
  {
   "cell_type": "markdown",
   "metadata": {
    "deletable": true,
    "editable": true
   },
   "source": [
    "**Nota**: `assert` es una sentencia de Python que nos permite comprobar que ciertas\n",
    "condiciones son verdaderas, y que nos puede ayudar a encontrar errores en nuestro código.\n",
    "assert simplemente eleva una error del tipo `AssertionError` en caso de que la expresión que se le pasa no se cumpla.\n",
    "por ejemplo:"
   ]
  },
  {
   "cell_type": "code",
   "execution_count": null,
   "metadata": {
    "collapsed": false,
    "deletable": true,
    "editable": true
   },
   "outputs": [],
   "source": [
    "assert 1 > 2"
   ]
  },
  {
   "cell_type": "markdown",
   "metadata": {
    "deletable": true,
    "editable": true
   },
   "source": [
    "También podemos extraer subcadenas o **slices** a partir de una cadena\n",
    "mayor, usando la sintaxis ``[``<límite inferior>``:``<límite\n",
    "superior>``]``. Si se omite el límite inferior, se supone un 0 (Es\n",
    "decir, desde el principio de la línea); si se omite el límite\n",
    "superior, se supone la longitud total de la cadena (es decir, hasta el\n",
    "final). Si se omiten los dos límites, obtendremos la\n",
    "cadena de texto original::"
   ]
  },
  {
   "cell_type": "code",
   "execution_count": 8,
   "metadata": {
    "collapsed": false,
    "deletable": true,
    "editable": true
   },
   "outputs": [],
   "source": [
    "s = 'Con cien cañones por banda,'\n",
    "assert s[0:3] == 'Con'  # los  primeros tres caracteres\n",
    "assert s[:8] == 'Con cien'  # los  primeros ocho caracteres\n",
    "assert s[8:] == ' cañones por banda,' # todo, excepto los  primeros ocho caracteres\n",
    "    \n",
    "assert s[4:8] == 'cien'\n",
    "assert s[-6:] == 'banda,'\n",
    "s2 = s[:]\n",
    "assert s == s2"
   ]
  },
  {
   "cell_type": "markdown",
   "metadata": {
    "deletable": true,
    "editable": true
   },
   "source": [
    "Los excesos en los índices en estas operaciones se manejan con cierta\n",
    "indulgencia: Si un índice resulta demasiado grande, es reemplazado\n",
    "por la longitud de la cadena; si se especifica un límite inferior\n",
    "más grande que el límite superior se obtiene una string vacía:"
   ]
  },
  {
   "cell_type": "code",
   "execution_count": 10,
   "metadata": {
    "collapsed": false,
    "deletable": true,
    "editable": true
   },
   "outputs": [],
   "source": [
    "name= 'Anakin Skywalker'\n",
    "assert name[0:100] == 'Anakin Skywalker'\n",
    "assert name[5:1] == ''"
   ]
  },
  {
   "cell_type": "markdown",
   "metadata": {
    "deletable": true,
    "editable": true
   },
   "source": [
    "Pera estas operaciones de \"rebanado\" o *slicing* resulta muy adecuada\n",
    "pensar que los índices apuntan a los espacios entre las letras, y no\n",
    "a las letras en sí, como se muestra en el siguiente gráfico:\n",
    "\n",
    "![Slices](img/slices.png)\n",
    "\n",
    "\n",
    "no podemos modificar una parte de un texto usando estas expresiones,\n",
    "ni con índices ni con subcadenas, porque las cadenas de textos son\n",
    "*inmutables* (Más sobre esto más adelante)::"
   ]
  },
  {
   "cell_type": "code",
   "execution_count": 14,
   "metadata": {
    "collapsed": false,
    "deletable": true,
    "editable": true
   },
   "outputs": [
    {
     "ename": "TypeError",
     "evalue": "'str' object does not support item assignment",
     "output_type": "error",
     "traceback": [
      "\u001b[0;31m---------------------------------------------------------------------------\u001b[0m",
      "\u001b[0;31mTypeError\u001b[0m                                 Traceback (most recent call last)",
      "\u001b[0;32m<ipython-input-14-f570a397459d>\u001b[0m in \u001b[0;36m<module>\u001b[0;34m()\u001b[0m\n\u001b[1;32m      1\u001b[0m \u001b[0ms\u001b[0m \u001b[0;34m=\u001b[0m \u001b[0;34m'Con cien cañones por banda,'\u001b[0m\u001b[0;34m\u001b[0m\u001b[0m\n\u001b[0;32m----> 2\u001b[0;31m \u001b[0ms\u001b[0m\u001b[0;34m[\u001b[0m\u001b[0;36m0\u001b[0m\u001b[0;34m]\u001b[0m \u001b[0;34m=\u001b[0m \u001b[0;34m'P'\u001b[0m\u001b[0;34m\u001b[0m\u001b[0m\n\u001b[0m",
      "\u001b[0;31mTypeError\u001b[0m: 'str' object does not support item assignment"
     ]
    }
   ],
   "source": [
    "s = 'Con cien cañones por banda,'\n",
    "s[0] = 'P'"
   ]
  },
  {
   "cell_type": "markdown",
   "metadata": {
    "deletable": true,
    "editable": true
   },
   "source": [
    "Pero si que podemos crear una nueva variable a partir\n",
    "de estas expresiones:"
   ]
  },
  {
   "cell_type": "code",
   "execution_count": 15,
   "metadata": {
    "collapsed": false,
    "deletable": true,
    "editable": true
   },
   "outputs": [
    {
     "name": "stdout",
     "output_type": "stream",
     "text": [
      "Con doscientos cañones por banda,\n"
     ]
    }
   ],
   "source": [
    "s = 'Con cien cañones por banda,'\n",
    "s = s[:4] + 'doscientos' + s[8:]\n",
    "print(s)"
   ]
  },
  {
   "cell_type": "markdown",
   "metadata": {
    "deletable": true,
    "editable": true
   },
   "source": [
    "Esto es así porque las cadenas de texto, al igual que todos los tipos de datos\n",
    "que hemos visto hasta ahora, son **inmutables**. Esto significa que, una vez\n",
    "creada una variable de un tipo inmutable, esta *nunca* cambia de valor. Dentro\n",
    "de poco, veremos que hay tipos de datos que si son mutables; mientras tanto, lo\n",
    "que hay que explicar es: si las strings son inmutables, ¿Cómo es que el\n",
    "siguiente ejemplo no da error?"
   ]
  },
  {
   "cell_type": "code",
   "execution_count": 16,
   "metadata": {
    "collapsed": false,
    "deletable": true,
    "editable": true
   },
   "outputs": [
    {
     "name": "stdout",
     "output_type": "stream",
     "text": [
      "hola, mundo\n"
     ]
    }
   ],
   "source": [
    "s = 'hola'\n",
    "s = s + ', mundo'\n",
    "print(s)"
   ]
  },
  {
   "cell_type": "markdown",
   "metadata": {
    "deletable": true,
    "editable": true
   },
   "source": [
    "La respuesta es que Python crea una nueva string, uniendo las dos anteriores, y\n",
    "reasigna el nombre `s` a la nueva cadena. Podemos comprobarlo usando la\n",
    "funcion `id()`, que nos devuelve un identificador de la variable que le\n",
    "pasemos; si dos objetos tienen el mismo identificador, entonces son en realidad\n",
    "el mismo objeto.  Si probamos con esta segunda versión veremos que imprime dos\n",
    "números diferentes, es decir s apunta a una variable diferente la segunda vez:"
   ]
  },
  {
   "cell_type": "code",
   "execution_count": 17,
   "metadata": {
    "collapsed": false,
    "deletable": true,
    "editable": true
   },
   "outputs": [
    {
     "name": "stdout",
     "output_type": "stream",
     "text": [
      "139670062591088\n",
      "139670062113840\n"
     ]
    }
   ],
   "source": [
    "s = 'Hola'\n",
    "print(id(s))\n",
    "s = s + ', mundo'\n",
    "print(id(s))"
   ]
  },
  {
   "cell_type": "markdown",
   "metadata": {
    "deletable": true,
    "editable": true
   },
   "source": [
    "Es decir, las variables se crean o se destruyen en memoria. Cuando se crea la string 'hola', esta\n",
    "no tiene nombre, es *anonima*. Justo despues de crearse se le pone el nombre `s` (quizá sería\n",
    " más correcto decir que se le pone una etiqueta `s`, porque como veremos más adelante, una variable\n",
    " puede tener varios *nombres*).\n",
    " \n",
    "Luego se crea una nueva cadena de texto, sumando `hola` y `, mundo`, creando una nueva string\n",
    "con el contenido `hola, mundo`. Esta nueva variable de tipo string se le asigna el nombre `s`. La string original `hola` se queda, por tanto, sin nadie que la referencia, por lo que el recolector de basura la\n",
    "eliminará tan pronto como pueda. Lo mismo pasa con `, mundo`, una vez ejecutada la línea donde\n",
    "se realiza la concatenación, no existe ninguda referencia a esa stringy, por tanto, se borrará\n",
    "eventualmente."
   ]
  },
  {
   "cell_type": "markdown",
   "metadata": {
    "deletable": true,
    "editable": true
   },
   "source": [
    "### El valor None\n",
    "\n",
    "El valor especial **`None`** no es un tipo de dato, sino un valor\n",
    "constante especial, cuyo significado viene a ser \"ausencia de valor\"\n",
    "(Similar al valor especial `NULL` de SQL). Si una función no especifica\n",
    "un valor de retorno, este es `None`. `None` tiene su propio tipo de\n",
    "variable específica: `NoneType`.\n",
    "\n",
    "Podemos comprobar si un valor es None con el operador `is`, o `is not`:"
   ]
  },
  {
   "cell_type": "code",
   "execution_count": 18,
   "metadata": {
    "collapsed": true,
    "deletable": true,
    "editable": true
   },
   "outputs": [],
   "source": [
    "a = 12\n",
    "assert a is not None \n",
    "b = None\n",
    "assert b is None"
   ]
  },
  {
   "cell_type": "markdown",
   "metadata": {
    "deletable": true,
    "editable": true
   },
   "source": [
    "### Tipos de datos compuestos o Estructuras de datos\n",
    "\n",
    "Los siguientes tipos de datos que veremos son llamados *compuestos*, porque\n",
    "sirven para agrupar distintas variables en una sola.\n",
    "\n",
    "#### Listas\n",
    "\n",
    "La lista es la estructura más habitual, consiste en una enumeración o lista\n",
    "de variables, siendo el orden de la misma importante, porque es precisamente\n",
    "usando ese orden como después podremos acceder a los valores individuales. En\n",
    "Python una lista se indica abriendo corchetes: ``[``, a continuación\n",
    "las variables, valores o expresiones que formarán parte de la lista\n",
    "y acabamos cerrando los corchetes: ``]``. Descrito así, parece mucho\n",
    "más complicado; veamos un ejemplo::"
   ]
  },
  {
   "cell_type": "code",
   "execution_count": 12,
   "metadata": {
    "collapsed": false,
    "deletable": true,
    "editable": true
   },
   "outputs": [
    {
     "data": {
      "text/plain": [
       "['Maria', 4, 723.4, None]"
      ]
     },
     "execution_count": 12,
     "metadata": {},
     "output_type": "execute_result"
    }
   ],
   "source": [
    "a = ['Maria', 4, 723.4, None]\n",
    "a"
   ]
  },
  {
   "cell_type": "markdown",
   "metadata": {
    "deletable": true,
    "editable": true
   },
   "source": [
    "En otros lenguajes, la lista o `array` de datos solo puede contener\n",
    "un determinado tipo de datos; por ejemplo, una lista de enteros. En\n",
    "Python, como vemos, en la lista se pueden guardar cualquier tipo de\n",
    "datos.\n",
    "\n",
    "Al igual que las cadenas de texto, las listas se acceden usando un índice,\n",
    "que de nuevo empieza por cero. También podemos usar \"rebanadas\" o *slices*,\n",
    "exactamente igual que con las strings, y tambien podemos concatenarlas\n",
    "usando el operador `+`:"
   ]
  },
  {
   "cell_type": "code",
   "execution_count": 19,
   "metadata": {
    "collapsed": true,
    "deletable": true,
    "editable": true
   },
   "outputs": [],
   "source": [
    "a = ['Maria', 4, 723.4, None]\n",
    "assert a[0] == 'Maria'\n",
    "assert a[1:3] == [4, 723.4]\n",
    "assert a[-2:] == [723.4, None]\n",
    "assert a + [(6+7j), True] == ['Maria', 4, 723.4, None, (6+7j), True]"
   ]
  },
  {
   "cell_type": "markdown",
   "metadata": {
    "deletable": true,
    "editable": true
   },
   "source": [
    "Tiene sentido, si pensamos que una cadena de textos al final viene a ser\n",
    "como una lista de caracteres.\n",
    "\n",
    "Todas las operaciones de rebanado devuelven una nueva lista, que contiene\n",
    "los elementos indicados. Una forma habitual de obtener una copia de una\n",
    "lista es usando ``[:]``; al omitir los límites inferior y superior\n",
    "estos son sustituidos por \"desde el principio\" y \"hasta el final\":"
   ]
  },
  {
   "cell_type": "code",
   "execution_count": 20,
   "metadata": {
    "collapsed": false,
    "deletable": true,
    "editable": true
   },
   "outputs": [
    {
     "data": {
      "text/plain": [
       "False"
      ]
     },
     "execution_count": 20,
     "metadata": {},
     "output_type": "execute_result"
    }
   ],
   "source": [
    "a = ['Maria', 4, 723.4, None]\n",
    "b = a[:]\n",
    "assert a == b\n",
    "a is b"
   ]
  },
  {
   "cell_type": "markdown",
   "metadata": {
    "deletable": true,
    "editable": true
   },
   "source": [
    "Pero, al contrario que las cadenas de texto, las listas si son *mutables*. Es\n",
    "posible cambier elementos individuales dentro de la lista::"
   ]
  },
  {
   "cell_type": "code",
   "execution_count": 21,
   "metadata": {
    "collapsed": false,
    "deletable": true,
    "editable": true
   },
   "outputs": [
    {
     "data": {
      "text/plain": [
       "['Maria', 10, 723.4, None]"
      ]
     },
     "execution_count": 21,
     "metadata": {},
     "output_type": "execute_result"
    }
   ],
   "source": [
    "a = ['Maria', 4, 723.4, None]\n",
    "a[1] = a[1] + 6\n",
    "a"
   ]
  },
  {
   "cell_type": "markdown",
   "metadata": {
    "deletable": true,
    "editable": true
   },
   "source": [
    "Incluso es posible hacer aquello que no podiamos con las strings, asignar\n",
    "a una rodaja, aunque esto cambie el tamaño de la lista o incluso\n",
    "la deje totalmente vacia::"
   ]
  },
  {
   "cell_type": "code",
   "execution_count": 22,
   "metadata": {
    "collapsed": true,
    "deletable": true,
    "editable": true
   },
   "outputs": [],
   "source": [
    "a = [1,2,3,4]\n",
    "a[1:3] = [2.0, 2.1, 2.3, 2.5, 2.7, 2.9, 3.0]\n",
    "assert a == [1, 2.0, 2.1, 2.3, 2.5, 2.7, 2.9, 3.0, 4]\n",
    "a[:] = [] # Borramos todo el contenido de la lista\n",
    "assert a == []"
   ]
  },
  {
   "cell_type": "markdown",
   "metadata": {
    "deletable": true,
    "editable": true
   },
   "source": [
    "La función `len`, que en el caso de las cadenas de textos nos\n",
    "retornaba su longitud, aplicada a una lista nos devuelve\n",
    "el número de elementos de la lista::"
   ]
  },
  {
   "cell_type": "code",
   "execution_count": 24,
   "metadata": {
    "collapsed": false,
    "deletable": true,
    "editable": true
   },
   "outputs": [],
   "source": [
    "l = [1,2,3,4]\n",
    "assert len(l) == 4\n",
    "s = '¡Es una trampa!'\n",
    "assert len(s) == 15"
   ]
  },
  {
   "cell_type": "markdown",
   "metadata": {
    "deletable": true,
    "editable": true
   },
   "source": [
    "Las listas pueden contener cualquier tipo de dato, no solo los datos\n",
    "simples que vimos al principio, tambien pueden contener otras listas,\n",
    "o tuplas, diccionarios (que veremos a continuación), etc... Por ejemplo\n",
    "podemos crear una matriz de 3x3 haciendo una lista de tres elementos,\n",
    "cada uno de los cuales es un una lista de tres elementos::"
   ]
  },
  {
   "cell_type": "code",
   "execution_count": 25,
   "metadata": {
    "collapsed": false,
    "deletable": true,
    "editable": true
   },
   "outputs": [
    {
     "name": "stdout",
     "output_type": "stream",
     "text": [
      "1 5\n"
     ]
    }
   ],
   "source": [
    "a = [[1,2,3], [4,5,6], [7,8,9]]\n",
    "print(a[0][0], a[1][1])"
   ]
  },
  {
   "cell_type": "markdown",
   "metadata": {
    "deletable": true,
    "editable": true
   },
   "source": [
    "Que las listas sean mutables es algo que no debemos olvidar, ya que\n",
    "puede causar muchos problemas en el programador principiante. Por ejemplo,\n",
    "dado el siguiente fragmento de código, ¿qué saldrá impreso por\n",
    "pantalla? ¿Por qué?:\n",
    "\n",
    ".. literalinclude:: ../ejemplos/mutable_01.py\n",
    "    :language: python\n",
    "    :lines: 6-9\n",
    "\n",
    "Un ejemplo un poco más rebuscado. Podemos añadir un elamento a una lista\n",
    "usando el **método** append, de forma que::\n",
    "\n",
    "    >>> a = [1,2,3]\n",
    "    >>> a.append(4)\n",
    "    >>> print(a)\n",
    "    [1, 2, 3, 4]\n",
    "\n",
    "Sabiendo esto, y dado el siguiente programa, ¿Cuál será la\n",
    "salida? ¿y por qué?:\n",
    "\n",
    ".. literalinclude:: ../ejemplos/mutable_02.py\n",
    "    :language: python\n",
    "    :lines: 6-9\n",
    "\n",
    "¿Qué operadores podemos usar con las listas? En primer lugar podemos\n",
    "compararlas con el operador ``==``; las listas a y b son iguales si lo\n",
    "son entre si cada uno de los elementos de que las componen::\n",
    "\n",
    "    >>> a = [1, 2, 3]\n",
    "    >>> b = [1, 2, 3]\n",
    "    >>> a == b\n",
    "    True\n",
    "\n",
    "Las comparaciones (``<``, ``<=``, ``>``, ``>=`` y ``!=``) se realizan\n",
    "comparando los elementos en orden, a la primera discrepancia, se\n",
    "devuelve el resultado correspondiente. Si no se encuentra ninguna\n",
    "discrepacia, se considera que ambas secuencias son iguales::\n",
    "\n",
    "    >>> a = [1, 2, 3]\n",
    "    >>> b = [1, 2, 4]\n",
    "    >>> a > b\n",
    "    False\n",
    "    >>> a < b\n",
    "    True\n",
    "\n",
    "Si una secuencia resulta ser la parte inicial de la otra, se considera\n",
    "que la secuencia más corta es la más pequeña. Si los elementos a\n",
    "comparar son cadenas de texto, se compararán caracter a caracter. Es\n",
    "legal comparar objetos de diferentes tipos, pero el resultado puede\n",
    "que le sorprenda: Los tipos se ordenan por su nombre (en inglés, claro).\n",
    "Por lo tanto, una *string* siempre será menor que una *tupla*, una\n",
    "*lista* siempre sera menor que una *string*, etc...\n",
    "\n",
    "Tambien podemos sumar listas con el operador ``+``:\n",
    "\n",
    "    >>> a = [1, 2, 3]\n",
    "    >>> b = [4, 5, 6]\n",
    "    >>> c = a + b\n",
    "    >>> print(c)\n",
    "    [1, 2, 3, 4, 5, 6]\n",
    "\n",
    "Pero cuidado, el operador ``+`` siempre creará una nueva lista. Si queremos\n",
    "añadir una lista a la actual, sin crear una nueva, tenemos que usar\n",
    "una notación especial, ``+=``::\n",
    "\n",
    "    >>> a = [1, 2, 3]\n",
    "    >>> a += [4, 5, 6]\n",
    "    >>> print(a)\n",
    "    [1, 2, 3, 4, 5, 6]\n",
    "\n",
    "Aunque el resultado parezca el mismo, hay una sutil diferencia entre\n",
    "ampliar  una lista o crear una nueva con el contenido ampliado, que\n",
    "puede causar  problemas relativamente complejos. Por ejemplo,\n",
    "supongamos de nuevo la lista a::\n",
    "\n",
    "    >>> a = [1,2,3]\n",
    "    >>> b = a  # a y b son la misma lista\n",
    "    >>> a += [4]\n",
    "    >>> print b\n",
    "    [1, 2, 3, 4]\n",
    "    >>> # Es correcto, los cambios en a se reflejan en b, son la misma\n",
    "    >>> a is b\n",
    "    True\n",
    "    >>> a = a + [5]\n",
    "    >>> print(a) # 'a' es una nueva lista\n",
    "    [1, 2, 3, 4, 5]\n",
    "    >>> print(b) # 'b' sigue apuntado a la lista original\n",
    "    [1, 2, 3, 4]\n",
    "    >>> a is b\n",
    "    False\n",
    "\n",
    "Evidentemente, si la lista es muy larga, es mucho más eficiente añadir\n",
    "un elemento a la lista que crear una nueva lista de cero, con  el\n",
    "nuevo elemento añadido, más la sobrecarga de, probablemente, tener que\n",
    "liberar la memoria de las dos listas previas.\n",
    "\n",
    "Las listas definen tambíen una serie de métodos, algunos de los cuales\n",
    "explicaremos brevemente aquí:\n",
    "    "
   ]
  },
  {
   "cell_type": "code",
   "execution_count": null,
   "metadata": {
    "collapsed": true,
    "deletable": true,
    "editable": true
   },
   "outputs": [],
   "source": []
  }
 ],
 "metadata": {
  "kernelspec": {
   "display_name": "Python 3",
   "language": "python",
   "name": "python3"
  },
  "language_info": {
   "codemirror_mode": {
    "name": "ipython",
    "version": 3
   },
   "file_extension": ".py",
   "mimetype": "text/x-python",
   "name": "python",
   "nbconvert_exporter": "python",
   "pygments_lexer": "ipython3",
   "version": "3.5.2"
  }
 },
 "nbformat": 4,
 "nbformat_minor": 2
}
