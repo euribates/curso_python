{
 "cells": [
  {
   "cell_type": "code",
   "execution_count": 1,
   "metadata": {
    "collapsed": true,
    "deletable": true,
    "editable": true
   },
   "outputs": [],
   "source": [
    "import ast"
   ]
  },
  {
   "cell_type": "code",
   "execution_count": 2,
   "metadata": {
    "collapsed": false,
    "deletable": true,
    "editable": true
   },
   "outputs": [
    {
     "name": "stdout",
     "output_type": "stream",
     "text": [
      "#!/usr/bin/env python3\n",
      "# -*- coding: utf-8 -*-\n",
      "\n",
      "def func1(s):\n",
      "    print(s, end=', ')\n",
      "    return True\n",
      "\n",
      "if func1('hola'):\n",
      "    print('Mundo')\n",
      "\n",
      "\n"
     ]
    }
   ],
   "source": [
    "with open('test_ast.py', 'r') as f:\n",
    "    print(f.read())"
   ]
  },
  {
   "cell_type": "code",
   "execution_count": 3,
   "metadata": {
    "collapsed": false,
    "deletable": true,
    "editable": true
   },
   "outputs": [],
   "source": [
    "with open('test_ast.py', 'r') as f:\n",
    "    root = ast.parse(f.read())"
   ]
  },
  {
   "cell_type": "code",
   "execution_count": 4,
   "metadata": {
    "collapsed": false,
    "deletable": true,
    "editable": true
   },
   "outputs": [
    {
     "name": "stdout",
     "output_type": "stream",
     "text": [
      "hola, Mundo\n"
     ]
    }
   ],
   "source": [
    "code = compile(root, filename='test_ast.py', mode='exec')\n",
    "exec(code)"
   ]
  },
  {
   "cell_type": "code",
   "execution_count": 5,
   "metadata": {
    "collapsed": true,
    "deletable": true,
    "editable": true
   },
   "outputs": [],
   "source": [
    "import astor"
   ]
  },
  {
   "cell_type": "code",
   "execution_count": 6,
   "metadata": {
    "collapsed": false,
    "deletable": true,
    "editable": true
   },
   "outputs": [
    {
     "name": "stdout",
     "output_type": "stream",
     "text": [
      "def func1(s):\n",
      "    print(s, end=', ')\n",
      "    return True\n",
      "\n",
      "\n",
      "if func1('hola'):\n",
      "    print('Mundo')\n",
      "\n"
     ]
    }
   ],
   "source": [
    "print(astor.to_source(root))"
   ]
  },
  {
   "cell_type": "code",
   "execution_count": 7,
   "metadata": {
    "collapsed": false,
    "deletable": true,
    "editable": true
   },
   "outputs": [
    {
     "name": "stdout",
     "output_type": "stream",
     "text": [
      "# line: 4\n",
      "def func1(s):\n",
      "    # line: 5\n",
      "    print(s, end=', ')\n",
      "    # line: 6\n",
      "    return True\n",
      "\n",
      "\n",
      "# line: 8\n",
      "if func1('hola'):\n",
      "    # line: 9\n",
      "    print('Mundo')\n",
      "\n"
     ]
    }
   ],
   "source": [
    "print(astor.to_source(root, add_line_information=True))"
   ]
  },
  {
   "cell_type": "markdown",
   "metadata": {
    "deletable": true,
    "editable": true
   },
   "source": [
    "## AST nodes"
   ]
  },
  {
   "cell_type": "code",
   "execution_count": 8,
   "metadata": {
    "collapsed": false,
    "deletable": true,
    "editable": true
   },
   "outputs": [
    {
     "name": "stdout",
     "output_type": "stream",
     "text": [
      "(a + 3)\n",
      "\n"
     ]
    }
   ],
   "source": [
    "num = ast.Num(3)\n",
    "var = ast.Name(id='a', ctx=ast.Load())\n",
    "op = ast.Add()\n",
    "expr = ast.BinOp(var, op, num)\n",
    "print(astor.to_source(expr))\n"
   ]
  },
  {
   "cell_type": "code",
   "execution_count": 9,
   "metadata": {
    "collapsed": false,
    "deletable": true,
    "editable": true
   },
   "outputs": [
    {
     "data": {
      "text/plain": [
       "<_ast.Interactive at 0x7f968c48b940>"
      ]
     },
     "execution_count": 9,
     "metadata": {},
     "output_type": "execute_result"
    }
   ],
   "source": [
    "ast.parse('a+3', mode='single')"
   ]
  },
  {
   "cell_type": "markdown",
   "metadata": {
    "deletable": true,
    "editable": true
   },
   "source": [
    "## Walk"
   ]
  },
  {
   "cell_type": "code",
   "execution_count": 10,
   "metadata": {
    "collapsed": false,
    "deletable": true,
    "editable": true
   },
   "outputs": [
    {
     "name": "stdout",
     "output_type": "stream",
     "text": [
      "definicion de func1\n",
      "Llamada a print\n",
      "Llamada a func1\n",
      "Llamada a print\n"
     ]
    }
   ],
   "source": [
    "class FuncLister(ast.NodeVisitor):\n",
    "    \n",
    "    def visit_FunctionDef(self, node):\n",
    "        print('definicion de {}'.format(node.name))\n",
    "        self.generic_visit(node)\n",
    "\n",
    "    def visit_Call(self, node):\n",
    "        print('Llamada a {}'.format(node.func.id))\n",
    "        self.generic_visit(node)\n",
    "        \n",
    "FuncLister().visit(root)"
   ]
  },
  {
   "cell_type": "code",
   "execution_count": 11,
   "metadata": {
    "collapsed": false,
    "deletable": true,
    "editable": true
   },
   "outputs": [
    {
     "data": {
      "text/plain": [
       "['form.py',\n",
       " 'seccion.py',\n",
       " 'test_filters.py',\n",
       " 'test_webpages.py',\n",
       " 'view.py',\n",
       " 'test_html.py',\n",
       " 'validar.py',\n",
       " '__init__.py',\n",
       " 'database.py',\n",
       " 'html.py',\n",
       " 'webpage.py',\n",
       " 'notas.py',\n",
       " 'urls.py',\n",
       " 'filters.py',\n",
       " 'webpages.py',\n",
       " 'test_urls.py']"
      ]
     },
     "execution_count": 11,
     "metadata": {},
     "output_type": "execute_result"
    }
   ],
   "source": [
    "import os\n",
    "from pathlib import Path\n",
    "\n",
    "home = str(Path.home())\n",
    "\n",
    "files = [\n",
    "    f \n",
    "    for f in os.listdir(os.path.join(home, 'Libreria', 'parcan'))\n",
    "    if f.endswith('.py')\n",
    "    ]\n",
    "files"
   ]
  },
  {
   "cell_type": "code",
   "execution_count": 31,
   "metadata": {
    "collapsed": false,
    "deletable": true,
    "editable": true
   },
   "outputs": [],
   "source": [
    "from pathlib import Path\n",
    "home = str(Path.home())\n",
    "src = os.path.join(home, 'Libreria', 'parcan', 'database.py')\n",
    "with open(src, 'r') as f:\n",
    "    tree = ast.parse(f.read(), src, mode='exec')"
   ]
  },
  {
   "cell_type": "code",
   "execution_count": 34,
   "metadata": {
    "collapsed": false,
    "deletable": true,
    "editable": true
   },
   "outputs": [
    {
     "name": "stdout",
     "output_type": "stream",
     "text": [
      "definicion de memoize\n",
      "definicion de __init__\n",
      "definicion de __call__\n",
      "definicion de __missing__\n",
      "definicion de load_destacados\n",
      "definicion de es_publica_grabacion\n",
      "definicion de terminar_jornada\n",
      "definicion de comenzar_jornada\n",
      "definicion de suspender_jornada\n",
      "definicion de cast_propuesta\n",
      "definicion de load_propuesta\n",
      "definicion de load_propuestas_activas\n",
      "definicion de load_propuestas_cerradas\n",
      "definicion de load_comentarios\n",
      "definicion de cast_documento\n",
      "definicion de load_documento\n",
      "definicion de load_documentos\n",
      "definicion de cast_enlace\n",
      "definicion de load_enlace\n",
      "definicion de load_enlaces\n",
      "definicion de load_delegacion\n",
      "definicion de load_asistentes_delegacion\n",
      "['memoize', 'load_destacados', 'es_publica_grabacion', 'terminar_jornada', 'comenzar_jornada', 'suspender_jornada', 'cast_propuesta', 'load_propuesta', 'load_propuestas_activas', 'load_propuestas_cerradas', 'load_comentarios', 'cast_documento', 'load_documento', 'load_documentos', 'cast_enlace', 'load_enlace', 'load_enlaces', 'load_delegacion', 'load_asistentes_delegacion']\n"
     ]
    }
   ],
   "source": [
    "class FuncLister(ast.NodeVisitor):\n",
    "    \n",
    "    def __init__(self, *args, **kwargs):\n",
    "        self.list_of_funcs = []\n",
    "        super().__init__(*args, **kwargs)\n",
    "        \n",
    "    def is_magic(self, name):\n",
    "        return bool(\n",
    "            name.startswith('__') and name.endswith('__')\n",
    "            )\n",
    "    \n",
    "    def visit_FunctionDef(self, node):\n",
    "        print('definicion de {}'.format(node.name))\n",
    "        if not self.is_magic(node.name):\n",
    "            assert node.name not in self.list_of_funcs, 'opps {} in {}'.format(node.name, self.list_of_funcs)\n",
    "            self.list_of_funcs.append(node.name)\n",
    "        self.generic_visit(node)\n",
    "        \n",
    "fl = FuncLister()\n",
    "fl.visit(tree)\n",
    "print(fl.list_of_funcs)\n",
    "list_of_funcs = fl.list_of_funcs[:]"
   ]
  },
  {
   "cell_type": "code",
   "execution_count": 36,
   "metadata": {
    "collapsed": false,
    "deletable": true,
    "editable": true,
    "scrolled": true
   },
   "outputs": [],
   "source": [] 
  },
  {
   "cell_type": "code",
   "execution_count": 17,
   "metadata": {
    "collapsed": true,
    "deletable": true,
    "editable": true
   },
   "outputs": [],
   "source": [
    "def a(url, txt='', cls=''):\n",
    "    txt = txt or url\n",
    "    if cls:\n",
    "        return '<a href=\"{}\" class=\"{}\">{}</a>'.format(url, cls, txt)\n",
    "    else:\n",
    "        return '<a href=\"{}\">{}</a>'.format(url, txt)"
   ]
  },
  {
   "cell_type": "code",
   "execution_count": 22,
   "metadata": {
    "collapsed": true,
    "deletable": true,
    "editable": true
   },
   "outputs": [],
   "source": [
    "links = (a(url, desc) for url, desc in [\n",
    "        (\"normativa.py\", 'Normativa'),\n",
    "        (\"/perfildelcontratante.py\", 'Perfil del contratante'),\n",
    "        (\"procabierto.py\", 'Contratos por procedimiento abierto'),\n",
    "        (\"procnegociado.py?t=3\", 'Contratos por procedimiento negociado con publicidad'),\n",
    "        (\"procnegociado.py?t=4\", 'Contratos por procedimiento negociado sin publicidad'),    \n",
    "        (\"contratomenor.py\", 'Contratos menores'),\n",
    "        ('/transparencia/contratos/modificaciones/', 'Modificaciones de contratos'),\n",
    "        (\"mesacontratacion.py\", 'Mesas de Contratación'),    \n",
    "        (\"mesacontratacion_actas.py\", 'Actas de Mesa de Contratación'),           \n",
    "        (\"/transparencia/contratos/manual/\", 'Manual de usuario para entidades contratantes'),\n",
    "        (\"estadisticas.py\", 'Estadísticas'),\n",
    "        ])\n"
   ]
  },
  {
   "cell_type": "code",
   "execution_count": 21,
   "metadata": {
    "collapsed": true
   },
   "outputs": [],
   "source": [
    "def li(text, klass=''):\n",
    "    if klass:\n",
    "        return '<li class=\"%s\">%s</li>' % (klass, text)\n",
    "    else:\n",
    "        return '<li>%s</li>' % text\n",
    "\n",
    "def ul(*items, **kw):\n",
    "    klass = kw.pop('klass', None)\n",
    "    if klass:\n",
    "        print('<ul class=\"{}\">', klass)\n",
    "    else:\n",
    "        print('<ul>')\n",
    "    for i in items:\n",
    "        print(li(i))\n",
    "    print('</ul>')\n"
   ]
  },
  {
   "cell_type": "code",
   "execution_count": 23,
   "metadata": {
    "collapsed": false
   },
   "outputs": [
    {
     "name": "stdout",
     "output_type": "stream",
     "text": [
      "<ul>\n",
      "<li><a href=\"normativa.py\">Normativa</a></li>\n",
      "<li><a href=\"/perfildelcontratante.py\">Perfil del contratante</a></li>\n",
      "<li><a href=\"procabierto.py\">Contratos por procedimiento abierto</a></li>\n",
      "<li><a href=\"procnegociado.py?t=3\">Contratos por procedimiento negociado con publicidad</a></li>\n",
      "<li><a href=\"procnegociado.py?t=4\">Contratos por procedimiento negociado sin publicidad</a></li>\n",
      "<li><a href=\"contratomenor.py\">Contratos menores</a></li>\n",
      "<li><a href=\"/transparencia/contratos/modificaciones/\">Modificaciones de contratos</a></li>\n",
      "<li><a href=\"mesacontratacion.py\">Mesas de Contratación</a></li>\n",
      "<li><a href=\"mesacontratacion_actas.py\">Actas de Mesa de Contratación</a></li>\n",
      "<li><a href=\"/transparencia/contratos/manual/\">Manual de usuario para entidades contratantes</a></li>\n",
      "<li><a href=\"estadisticas.py\">Estadísticas</a></li>\n",
      "</ul>\n"
     ]
    }
   ],
   "source": [
    "ul(*links)"
   ]
  },
  {
   "cell_type": "code",
   "execution_count": null,
   "metadata": {
    "collapsed": true
   },
   "outputs": [],
   "source": []
  }
 ],
 "metadata": {
  "kernelspec": {
   "display_name": "Python 3",
   "language": "python",
   "name": "python3"
  },
  "language_info": {
   "codemirror_mode": {
    "name": "ipython",
    "version": 3
   },
   "file_extension": ".py",
   "mimetype": "text/x-python",
   "name": "python",
   "nbconvert_exporter": "python",
   "pygments_lexer": "ipython3",
   "version": "3.5.2"
  }
 },
 "nbformat": 4,
 "nbformat_minor": 2
}
